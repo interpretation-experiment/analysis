{
 "cells": [
  {
   "cell_type": "markdown",
   "metadata": {
    "deletable": true,
    "editable": true
   },
   "source": [
    "# Subject transformation rate"
   ]
  },
  {
   "cell_type": "markdown",
   "metadata": {
    "deletable": true,
    "editable": true
   },
   "source": [
    "## 1 Setup"
   ]
  },
  {
   "cell_type": "markdown",
   "metadata": {
    "deletable": true,
    "editable": true
   },
   "source": [
    "Flags"
   ]
  },
  {
   "cell_type": "code",
   "execution_count": 1,
   "metadata": {
    "collapsed": true,
    "deletable": true,
    "editable": true
   },
   "outputs": [],
   "source": [
    "SAVE_FIGURES = False"
   ]
  },
  {
   "cell_type": "markdown",
   "metadata": {
    "deletable": true,
    "editable": true
   },
   "source": [
    "Setup the database"
   ]
  },
  {
   "cell_type": "code",
   "execution_count": 2,
   "metadata": {
    "collapsed": false,
    "deletable": true,
    "editable": true
   },
   "outputs": [],
   "source": [
    "import os, sys\n",
    "sys.path.insert(1, os.path.abspath('..'))\n",
    "from utils import setup_spreadr\n",
    "setup_spreadr('spreadr_pilot_4_jabberwocky')"
   ]
  },
  {
   "cell_type": "markdown",
   "metadata": {
    "deletable": true,
    "editable": true
   },
   "source": [
    "Imports for the analysis"
   ]
  },
  {
   "cell_type": "code",
   "execution_count": 3,
   "metadata": {
    "collapsed": false,
    "deletable": true,
    "editable": true
   },
   "outputs": [],
   "source": [
    "from pandas import DataFrame\n",
    "from django.db.models import Count\n",
    "\n",
    "from gists.models import Profile, GistsConfiguration\n",
    "\n",
    "config = GistsConfiguration.get_solo()"
   ]
  },
  {
   "cell_type": "markdown",
   "metadata": {
    "deletable": true,
    "editable": true
   },
   "source": [
    "Equip models with useful tools"
   ]
  },
  {
   "cell_type": "code",
   "execution_count": 4,
   "metadata": {
    "collapsed": false,
    "deletable": true,
    "editable": true
   },
   "outputs": [],
   "source": [
    "from utils import equip_spreadr_models as utils_equip\n",
    "utils_equip()\n",
    "\n",
    "from linguistics import equip_spreadr_models as linguistics_equip\n",
    "linguistics_equip()"
   ]
  },
  {
   "cell_type": "markdown",
   "metadata": {
    "deletable": true,
    "editable": true
   },
   "source": [
    "## 2 Transformation rate per subject"
   ]
  },
  {
   "cell_type": "markdown",
   "metadata": {
    "deletable": true,
    "editable": true
   },
   "source": [
    "First build our data"
   ]
  },
  {
   "cell_type": "code",
   "execution_count": 5,
   "metadata": {
    "collapsed": false,
    "deletable": true,
    "editable": true
   },
   "outputs": [],
   "source": [
    "profiles = Profile.objects\\\n",
    "    .annotate(Count('sentences'))\\\n",
    "    .filter(sentences__count=config.experiment_work + config.training_work,\n",
    "            user__is_staff=False)\n",
    "data = []\n",
    "for distance in ['raw', 'ordered_content', 'unordered_content']:\n",
    "    for profile in profiles:\n",
    "        data.append({\n",
    "                'username': profile.user.username,\n",
    "                'prolific': profile.prolific_id,\n",
    "                'distance': distance,\n",
    "                'transformation rate': profile.transformation_rate(distance)\n",
    "            })\n",
    "data = DataFrame(data)"
   ]
  },
  {
   "cell_type": "code",
   "execution_count": 6,
   "metadata": {
    "collapsed": false,
    "deletable": true,
    "editable": true
   },
   "outputs": [
    {
     "name": "stdout",
     "output_type": "stream",
     "text": [
      "Distance: raw\n",
      "                   username                  prolific  transformation rate\n",
      "1                      mark  5781511fad1a6c00014658b7             0.043765\n",
      "6                  orlaghrr  573a889767421f000d183cb1             0.103695\n",
      "7  58a1e0d2e6afe00001d34eb5  58a1e0d2e6afe00001d34eb5             0.113898\n",
      "9                    David9  587e30b5cbacd2000114b08e             0.126985\n",
      "8                      Paul  56ce42d9465e580006846f57             0.212825\n",
      "3                  RLockett  581ccd016c73180001fa5b2a             0.219454\n",
      "0                    sharxn  586efebea34623000106791a             0.297359\n",
      "5                       dm2  58a30aa85e63bf00013b3836             0.315254\n",
      "4                     irena  5839e702c3dc98000126d707             0.325891\n",
      "2                  MatthewG  5894fd417ee8a500014f70d8             0.475164\n",
      "\n",
      "Distance: ordered_content\n",
      "                    username                  prolific  transformation rate\n",
      "11                      mark  5781511fad1a6c00014658b7             0.085066\n",
      "16                  orlaghrr  573a889767421f000d183cb1             0.200466\n",
      "17  58a1e0d2e6afe00001d34eb5  58a1e0d2e6afe00001d34eb5             0.207925\n",
      "19                    David9  587e30b5cbacd2000114b08e             0.230514\n",
      "18                      Paul  56ce42d9465e580006846f57             0.280603\n",
      "14                     irena  5839e702c3dc98000126d707             0.386386\n",
      "10                    sharxn  586efebea34623000106791a             0.415179\n",
      "13                  RLockett  581ccd016c73180001fa5b2a             0.453811\n",
      "15                       dm2  58a30aa85e63bf00013b3836             0.547214\n",
      "12                  MatthewG  5894fd417ee8a500014f70d8             0.841209\n",
      "\n",
      "Distance: unordered_content\n",
      "                    username                  prolific  transformation rate\n",
      "21                      mark  5781511fad1a6c00014658b7             0.133710\n",
      "27  58a1e0d2e6afe00001d34eb5  58a1e0d2e6afe00001d34eb5             0.226759\n",
      "26                  orlaghrr  573a889767421f000d183cb1             0.249917\n",
      "29                    David9  587e30b5cbacd2000114b08e             0.262868\n",
      "28                      Paul  56ce42d9465e580006846f57             0.301709\n",
      "24                     irena  5839e702c3dc98000126d707             0.425488\n",
      "20                    sharxn  586efebea34623000106791a             0.467128\n",
      "23                  RLockett  581ccd016c73180001fa5b2a             0.518336\n",
      "25                       dm2  58a30aa85e63bf00013b3836             0.620929\n",
      "22                  MatthewG  5894fd417ee8a500014f70d8             0.881652\n",
      "\n"
     ]
    }
   ],
   "source": [
    "for distance in ['raw', 'ordered_content', 'unordered_content']:\n",
    "    print('Distance: {}'.format(distance))\n",
    "    print(data[data.distance == distance].sort_values(by='transformation rate')\n",
    "          [['username', 'prolific', 'transformation rate']])\n",
    "    print()"
   ]
  }
 ],
 "metadata": {
  "kernelspec": {
   "display_name": "Python 3",
   "language": "python",
   "name": "python3"
  },
  "language_info": {
   "codemirror_mode": {
    "name": "ipython",
    "version": 3
   },
   "file_extension": ".py",
   "mimetype": "text/x-python",
   "name": "python",
   "nbconvert_exporter": "python",
   "pygments_lexer": "ipython3",
   "version": "3.6.0"
  }
 },
 "nbformat": 4,
 "nbformat_minor": 0
}
