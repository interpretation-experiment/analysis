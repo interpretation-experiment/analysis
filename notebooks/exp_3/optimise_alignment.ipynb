{
 "cells": [
  {
   "cell_type": "markdown",
   "metadata": {
    "deletable": true,
    "editable": true
   },
   "source": [
    "# Cut-replace rate: how much is a sentence cut vs. replaced"
   ]
  },
  {
   "cell_type": "markdown",
   "metadata": {
    "deletable": true,
    "editable": true
   },
   "source": [
    "## 1 Setup"
   ]
  },
  {
   "cell_type": "markdown",
   "metadata": {
    "deletable": true,
    "editable": true
   },
   "source": [
    "Flags"
   ]
  },
  {
   "cell_type": "code",
   "execution_count": 1,
   "metadata": {
    "collapsed": true,
    "deletable": true,
    "editable": true
   },
   "outputs": [],
   "source": [
    "# None"
   ]
  },
  {
   "cell_type": "markdown",
   "metadata": {
    "deletable": true,
    "editable": true
   },
   "source": [
    "Setup the database"
   ]
  },
  {
   "cell_type": "code",
   "execution_count": 2,
   "metadata": {
    "collapsed": false,
    "deletable": true,
    "editable": true
   },
   "outputs": [
    {
     "name": "stdout",
     "output_type": "stream",
     "text": [
      "Database: spreadr_exp_3\n"
     ]
    }
   ],
   "source": [
    "import os, sys\n",
    "sys.path.insert(1, os.path.abspath('../..'))\n",
    "import analysis\n",
    "\n",
    "DB_NAME = 'spreadr_' + os.path.split(os.path.abspath(os.path.curdir))[1]\n",
    "analysis.setup(DB_NAME)\n",
    "print('Database:', DB_NAME)"
   ]
  },
  {
   "cell_type": "code",
   "execution_count": 3,
   "metadata": {
    "collapsed": true,
    "deletable": true,
    "editable": true
   },
   "outputs": [],
   "source": [
    "import random\n",
    "import itertools\n",
    "\n",
    "import numpy as np\n",
    "from scipy import optimize\n",
    "from nltk.metrics import edit_distance\n",
    "from frozendict import frozendict\n",
    "import matplotlib.pyplot as plt\n",
    "%matplotlib inline\n",
    "from mpl_toolkits.mplot3d import Axes3D\n",
    "from progressbar import ProgressBar\n",
    "\n",
    "from gists.models import Sentence\n",
    "from analysis import settings, transformations"
   ]
  },
  {
   "cell_type": "markdown",
   "metadata": {
    "deletable": true,
    "editable": true
   },
   "source": [
    "## 2 Test optimising for known parameters"
   ]
  },
  {
   "cell_type": "markdown",
   "metadata": {},
   "source": [
    "### 2.1 Framework setup"
   ]
  },
  {
   "cell_type": "code",
   "execution_count": 4,
   "metadata": {
    "collapsed": true
   },
   "outputs": [],
   "source": [
    "kept_sentence_ids = Sentence.objects.kept\\\n",
    "    .filter(parent__isnull=False)\\\n",
    "    .values_list('id', flat=True)\n",
    "kept_sentence_ids = list(kept_sentence_ids)\n",
    "\n",
    "def sample_training_sentences(sample_size):\n",
    "    remaining_shuffled_sentence_ids = random.sample(kept_sentence_ids, len(kept_sentence_ids))\n",
    "    sample_sentences = []\n",
    "    while len(sample_sentences) < sample_size:\n",
    "        candidate = Sentence.objects.get(id=remaining_shuffled_sentence_ids.pop())\n",
    "        if candidate.oc_distance(candidate.parent) > 0:\n",
    "            sample_sentences.append(candidate)\n",
    "    assert len(sample_sentences) == sample_size\n",
    "    return sample_sentences\n",
    "\n",
    "def get_complement_test_sentences(sample_sentences):\n",
    "    test_sentences = []\n",
    "    for sid in set(kept_sentence_ids).difference(\n",
    "            [sentence.id for sentence in sample_sentences]):\n",
    "        candidate = Sentence.objects.get(id=sid)\n",
    "        if candidate.oc_distance(candidate.parent) > 0:\n",
    "            test_sentences.append(candidate)\n",
    "    return test_sentences"
   ]
  },
  {
   "cell_type": "code",
   "execution_count": 5,
   "metadata": {
    "collapsed": true,
    "deletable": true,
    "editable": true
   },
   "outputs": [],
   "source": [
    "def alignments(sentences, parameters):\n",
    "    frozen_parameters = frozendict(parameters)\n",
    "    return [transformations.align_lemmas(s.parent.tokens, s.tokens,\n",
    "                                         parameters=frozen_parameters)\n",
    "            for s in sentences]"
   ]
  },
  {
   "cell_type": "code",
   "execution_count": 6,
   "metadata": {
    "collapsed": true,
    "deletable": true,
    "editable": true
   },
   "outputs": [],
   "source": [
    "def distance(alignment1, alignment2):\n",
    "    seq1A, seq1B = alignment1[:2]\n",
    "    seq2A, seq2B = alignment2[:2]\n",
    "    seq1A = list(map(id, seq1A))\n",
    "    seq1B = list(map(id, seq1B))\n",
    "    seq2A = list(map(id, seq2A))\n",
    "    seq2B = list(map(id, seq2B))\n",
    "    return (edit_distance(seq1A, seq2A) + edit_distance(seq1B, seq2B)) / 2"
   ]
  },
  {
   "cell_type": "code",
   "execution_count": 7,
   "metadata": {
    "collapsed": true,
    "deletable": true,
    "editable": true
   },
   "outputs": [],
   "source": [
    "BASE_COMPARE_FACTOR = 1\n",
    "def x2parameters(x):\n",
    "    return frozendict({\n",
    "        'COMPARE_FACTOR': BASE_COMPARE_FACTOR,\n",
    "        'COMPARE_ORIGIN': x[0] * BASE_COMPARE_FACTOR,\n",
    "        'GAP_OPEN': (x[1] + x[2]) * BASE_COMPARE_FACTOR,\n",
    "        'GAP_EXTEND': x[2] * BASE_COMPARE_FACTOR,\n",
    "        'EXCHANGE': None,\n",
    "    })\n",
    "\n",
    "def parameters2x(parameters):\n",
    "    return (np.array([parameters['COMPARE_ORIGIN'],\n",
    "                      parameters['GAP_OPEN'] - parameters['GAP_EXTEND'],\n",
    "                      parameters['GAP_EXTEND']])\n",
    "            / parameters['COMPARE_FACTOR'])"
   ]
  },
  {
   "cell_type": "code",
   "execution_count": 8,
   "metadata": {
    "collapsed": true,
    "deletable": true,
    "editable": true
   },
   "outputs": [],
   "source": [
    "def objective(x, sentences, ref_alignments):\n",
    "    x_alignments = alignments(sentences, x2parameters(x))\n",
    "    distances = []\n",
    "    for ref_as, x_as in zip(ref_alignments, x_alignments):\n",
    "        if len(x_as) == 0:\n",
    "            # Add an empty alignment if there are none\n",
    "            x_as = [([], [])]\n",
    "        # Or use max+mean\n",
    "        distances.append(np.max([distance(ref_a, x_a) for ref_a, x_a\n",
    "                                 in itertools.zip_longest(ref_as,  x_as,\n",
    "                                                          fillvalue=([], []))]))\n",
    "    return np.sum(distances)"
   ]
  },
  {
   "cell_type": "code",
   "execution_count": 9,
   "metadata": {
    "collapsed": true,
    "deletable": true,
    "editable": true
   },
   "outputs": [],
   "source": [
    "reference_parameters = {\n",
    "    'COMPARE_FACTOR': BASE_COMPARE_FACTOR,\n",
    "    'COMPARE_ORIGIN': -.5,\n",
    "    'GAP_OPEN': -.5,\n",
    "    'GAP_EXTEND': -.1,\n",
    "    'EXCHANGE': None,\n",
    "}\n",
    "\n",
    "x_bounds = [\n",
    "    (-1, -.01), # COMPARE_ORIGIN / COMPARE_FACTOR\n",
    "    (-1, -.01), # (GAP_OPEN - GAP_EXTEND) / COMPARE_FACTOR\n",
    "    (-1, -.01), # GAP_EXTEND / COMPARE_FACTOR\n",
    "]"
   ]
  },
  {
   "cell_type": "markdown",
   "metadata": {},
   "source": [
    "### 2.2 Local optimisation"
   ]
  },
  {
   "cell_type": "code",
   "execution_count": 10,
   "metadata": {
    "collapsed": false,
    "deletable": true,
    "editable": true,
    "scrolled": false
   },
   "outputs": [
    {
     "name": "stdout",
     "output_type": "stream",
     "text": [
      "      fun: 187.5\n",
      " hess_inv: <3x3 LbfgsInvHessProduct with dtype=float64>\n",
      "      jac: array([ 0.,  0.,  0.])\n",
      "  message: b'CONVERGENCE: NORM_OF_PROJECTED_GRADIENT_<=_PGTOL'\n",
      "     nfev: 4\n",
      "      nit: 0\n",
      "   status: 0\n",
      "  success: True\n",
      "        x: array([-0.81247674, -0.97390607, -0.43544459])\n",
      "<frozendict {'COMPARE_FACTOR': 1, 'COMPARE_ORIGIN': -0.81247673764873696, 'GAP_OPEN': -1.4093506624563685, 'GAP_EXTEND': -0.43544458809881204, 'EXCHANGE': None}>\n",
      "\n",
      "\n"
     ]
    }
   ],
   "source": [
    "sample_sentences = sample_training_sentences(200)\n",
    "reference_alignments = alignments(sample_sentences, reference_parameters)\n",
    "for _ in range(1):\n",
    "    x0 = [np.random.uniform(*bounds) for bounds in x_bounds]\n",
    "    result = optimize.minimize(\n",
    "        objective, x0,\n",
    "        #method='SLSQP',\n",
    "        bounds=x_bounds,\n",
    "        args=(sample_sentences, reference_alignments),\n",
    "        options={'disp': True, 'maxiter': 500},\n",
    "        callback=print)\n",
    "    print(result)\n",
    "    print(x2parameters(result.x))\n",
    "    print()\n",
    "    print()"
   ]
  },
  {
   "cell_type": "markdown",
   "metadata": {},
   "source": [
    "### 2.3 Brute force"
   ]
  },
  {
   "cell_type": "markdown",
   "metadata": {},
   "source": [
    "Try plotting one sample size"
   ]
  },
  {
   "cell_type": "code",
   "execution_count": 11,
   "metadata": {
    "collapsed": false,
    "deletable": true,
    "editable": true
   },
   "outputs": [
    {
     "name": "stderr",
     "output_type": "stream",
     "text": [
      "100% (1000 of 1000) |#####################| Elapsed Time: 0:01:32 Time: 0:01:32\n"
     ]
    },
    {
     "data": {
      "image/png": "[encoded data removed]",
      "text/plain": [
       "<matplotlib.figure.Figure at 0x7f8118ed3be0>"
      ]
     },
     "metadata": {},
     "output_type": "display_data"
    }
   ],
   "source": [
    "discretization = 10\n",
    "n_dims = len(x_bounds)\n",
    "xs = [np.linspace(start, stop, discretization) for (start, stop) in x_bounds]\n",
    "grids = np.meshgrid(*xs, indexing='ij')\n",
    "values = np.zeros_like(grids[0])\n",
    "\n",
    "sample_sentences = sample_training_sentences(20)\n",
    "reference_alignments = alignments(sample_sentences, reference_parameters)\n",
    "for i, k in ProgressBar(max_value=len(values.flat))(\n",
    "        enumerate(itertools.product(range(discretization), repeat=n_dims))):\n",
    "    values[k] = objective([grids[j][k] for j in range(n_dims)],\n",
    "                          sample_sentences, reference_alignments)\n",
    "\n",
    "fig, axes = plt.subplots(1, discretization,\n",
    "                         figsize=(70, 5), subplot_kw={'projection': '3d'})\n",
    "for i in range(discretization):\n",
    "    axes[i].plot_surface(grids[1][i, :, :], grids[2][i, :, :], values[i, :, :])"
   ]
  },
  {
   "cell_type": "markdown",
   "metadata": {},
   "source": [
    "Then evaluate several sizes"
   ]
  },
  {
   "cell_type": "code",
   "execution_count": 12,
   "metadata": {
    "collapsed": true
   },
   "outputs": [],
   "source": [
    "def evaluate_sample_size(sample_size, xref=parameters2x(reference_parameters)):\n",
    "    n_runs = 10\n",
    "    print()\n",
    "    print('Sample size {}, doing {} runs'.format(sample_size, n_runs))\n",
    "    \n",
    "    worst_objectives = []\n",
    "    for r in range(n_runs):\n",
    "        print()\n",
    "        print('Run', r)\n",
    "        \n",
    "        # Brute force the parameter fitting\n",
    "        discretization = 10\n",
    "        n_dims = len(x_bounds)\n",
    "        xs = [np.linspace(start, stop, discretization) for (start, stop) in x_bounds]\n",
    "        grids = np.meshgrid(*xs, indexing='ij')\n",
    "        values = np.zeros_like(grids[0])\n",
    "        \n",
    "        sample_sentences = sample_training_sentences(sample_size)\n",
    "        reference_alignments = alignments(sample_sentences, x2parameters(xref))\n",
    "        for i, k in ProgressBar(max_value=len(values.flat))(\n",
    "                enumerate(itertools.product(range(discretization), repeat=n_dims))):\n",
    "            values[k] = objective([grids[j][k] for j in range(n_dims)],\n",
    "                                  sample_sentences, reference_alignments)\n",
    "        \n",
    "        min_value = np.min(values)\n",
    "        min_locations = np.where(values == min_value)\n",
    "        print('Min training objective value {}, found in {} points'\n",
    "              .format(min_value, len(min_locations[0])))\n",
    "        \n",
    "        # Test the best parameters found\n",
    "        test_sentences = get_complement_test_sentences(sample_sentences)\n",
    "        print('Testing on the remaining {} sentences'.format(len(test_sentences)))\n",
    "        test_alignments = alignments(test_sentences, x2parameters(xref))\n",
    "        objective_values = []\n",
    "        for k in zip(*min_locations):\n",
    "            x = [grids[0][k], grids[1][k], grids[2][k]]\n",
    "            objective_values.append(objective(x, test_sentences, test_alignments))\n",
    "        print('Worst objective', np.max(objective_values))\n",
    "        worst_objectives.append(np.max(objective_values))\n",
    "    \n",
    "    print()\n",
    "    print('Overall worst objective for {} runs of sample size {} = {}'\n",
    "          .format(n_runs, sample_size, np.max(worst_objectives)))\n",
    "    return np.max(worst_objectives)"
   ]
  },
  {
   "cell_type": "code",
   "execution_count": 13,
   "metadata": {
    "collapsed": false,
    "scrolled": true
   },
   "outputs": [
    {
     "name": "stdout",
     "output_type": "stream",
     "text": [
      "\n",
      "Sample size 20, doing 10 runs\n",
      "\n",
      "Run 0\n"
     ]
    },
    {
     "name": "stderr",
     "output_type": "stream",
     "text": [
      "100% (1000 of 1000) |#####################| Elapsed Time: 0:02:22 Time: 0:02:22\n"
     ]
    },
    {
     "name": "stdout",
     "output_type": "stream",
     "text": [
      "Min training objective value 0.0, found in 4 points\n",
      "Testing on the remaining 2139 sentences\n"
     ]
    },
    {
     "name": "stderr",
     "output_type": "stream",
     "text": [
      "  0% (1 of 1000) |                         | Elapsed Time: 0:00:00 ETA: 0:01:48"
     ]
    },
    {
     "name": "stdout",
     "output_type": "stream",
     "text": [
      "Worst objective 350.5\n",
      "\n",
      "Run 1\n"
     ]
    },
    {
     "name": "stderr",
     "output_type": "stream",
     "text": [
      "100% (1000 of 1000) |#####################| Elapsed Time: 0:01:41 Time: 0:01:41\n"
     ]
    },
    {
     "name": "stdout",
     "output_type": "stream",
     "text": [
      "Min training objective value 0.0, found in 52 points\n",
      "Testing on the remaining 2139 sentences\n"
     ]
    },
    {
     "name": "stderr",
     "output_type": "stream",
     "text": [
      "  0% (1 of 1000) |                         | Elapsed Time: 0:00:00 ETA: 0:02:16"
     ]
    },
    {
     "name": "stdout",
     "output_type": "stream",
     "text": [
      "Worst objective 2001.5\n",
      "\n",
      "Run 2\n"
     ]
    },
    {
     "name": "stderr",
     "output_type": "stream",
     "text": [
      "100% (1000 of 1000) |#####################| Elapsed Time: 0:02:15 Time: 0:02:15\n"
     ]
    },
    {
     "name": "stdout",
     "output_type": "stream",
     "text": [
      "Min training objective value 0.0, found in 63 points\n",
      "Testing on the remaining 2139 sentences\n"
     ]
    },
    {
     "name": "stderr",
     "output_type": "stream",
     "text": [
      "\r",
      "                                                                               \r",
      "\r",
      "N/A% (0 of 1000) |                       | Elapsed Time: 0:00:00 ETA:  --:--:--"
     ]
    },
    {
     "name": "stdout",
     "output_type": "stream",
     "text": [
      "Worst objective 2076.0\n",
      "\n",
      "Run 3\n"
     ]
    },
    {
     "name": "stderr",
     "output_type": "stream",
     "text": [
      "100% (1000 of 1000) |#####################| Elapsed Time: 0:02:28 Time: 0:02:28\n"
     ]
    },
    {
     "name": "stdout",
     "output_type": "stream",
     "text": [
      "Min training objective value 0.0, found in 17 points\n",
      "Testing on the remaining 2139 sentences\n",
      "Worst objective 1935.0\n",
      "\n",
      "Run 4\n"
     ]
    },
    {
     "name": "stderr",
     "output_type": "stream",
     "text": [
      "100% (1000 of 1000) |#####################| Elapsed Time: 0:01:51 Time: 0:01:51\n"
     ]
    },
    {
     "name": "stdout",
     "output_type": "stream",
     "text": [
      "Min training objective value 1.0, found in 215 points\n",
      "Testing on the remaining 2139 sentences\n"
     ]
    },
    {
     "name": "stderr",
     "output_type": "stream",
     "text": [
      "\r",
      "                                                                               \r",
      "\r",
      "N/A% (0 of 1000) |                       | Elapsed Time: 0:00:00 ETA:  --:--:--"
     ]
    },
    {
     "name": "stdout",
     "output_type": "stream",
     "text": [
      "Worst objective 2278.0\n",
      "\n",
      "Run 5\n"
     ]
    },
    {
     "name": "stderr",
     "output_type": "stream",
     "text": [
      "100% (1000 of 1000) |#####################| Elapsed Time: 0:02:01 Time: 0:02:01\n"
     ]
    },
    {
     "name": "stdout",
     "output_type": "stream",
     "text": [
      "Min training objective value 0.0, found in 211 points\n",
      "Testing on the remaining 2139 sentences\n"
     ]
    },
    {
     "name": "stderr",
     "output_type": "stream",
     "text": [
      "\r",
      "                                                                               \r",
      "\r",
      "N/A% (0 of 1000) |                       | Elapsed Time: 0:00:00 ETA:  --:--:--"
     ]
    },
    {
     "name": "stdout",
     "output_type": "stream",
     "text": [
      "Worst objective 2195.0\n",
      "\n",
      "Run 6\n"
     ]
    },
    {
     "name": "stderr",
     "output_type": "stream",
     "text": [
      "100% (1000 of 1000) |#####################| Elapsed Time: 0:02:07 Time: 0:02:07\n"
     ]
    },
    {
     "name": "stdout",
     "output_type": "stream",
     "text": [
      "Min training objective value 0.0, found in 8 points\n",
      "Testing on the remaining 2139 sentences\n"
     ]
    },
    {
     "name": "stderr",
     "output_type": "stream",
     "text": [
      "  0% (1 of 1000) |                         | Elapsed Time: 0:00:00 ETA: 0:02:16"
     ]
    },
    {
     "name": "stdout",
     "output_type": "stream",
     "text": [
      "Worst objective 854.5\n",
      "\n",
      "Run 7\n"
     ]
    },
    {
     "name": "stderr",
     "output_type": "stream",
     "text": [
      "100% (1000 of 1000) |#####################| Elapsed Time: 0:01:34 Time: 0:01:34\n"
     ]
    },
    {
     "name": "stdout",
     "output_type": "stream",
     "text": [
      "Min training objective value 0.0, found in 37 points\n",
      "Testing on the remaining 2139 sentences\n"
     ]
    },
    {
     "name": "stderr",
     "output_type": "stream",
     "text": [
      "  0% (1 of 1000) |                         | Elapsed Time: 0:00:00 ETA: 0:01:43"
     ]
    },
    {
     "name": "stdout",
     "output_type": "stream",
     "text": [
      "Worst objective 3652.5\n",
      "\n",
      "Run 8\n"
     ]
    },
    {
     "name": "stderr",
     "output_type": "stream",
     "text": [
      "100% (1000 of 1000) |#####################| Elapsed Time: 0:01:18 Time: 0:01:18\n"
     ]
    },
    {
     "name": "stdout",
     "output_type": "stream",
     "text": [
      "Min training objective value 1.0, found in 7 points\n",
      "Testing on the remaining 2139 sentences\n"
     ]
    },
    {
     "name": "stderr",
     "output_type": "stream",
     "text": [
      "\r",
      "                                                                               \r",
      "\r",
      "N/A% (0 of 1000) |                       | Elapsed Time: 0:00:00 ETA:  --:--:--"
     ]
    },
    {
     "name": "stdout",
     "output_type": "stream",
     "text": [
      "Worst objective 795.0\n",
      "\n",
      "Run 9\n"
     ]
    },
    {
     "name": "stderr",
     "output_type": "stream",
     "text": [
      "100% (1000 of 1000) |#####################| Elapsed Time: 0:01:06 Time: 0:01:06\n"
     ]
    },
    {
     "name": "stdout",
     "output_type": "stream",
     "text": [
      "Min training objective value 0.0, found in 270 points\n",
      "Testing on the remaining 2139 sentences\n",
      "Worst objective 2559.0\n",
      "\n",
      "Overall worst objective for 10 runs of sample size 20 = 3652.5\n"
     ]
    },
    {
     "data": {
      "text/plain": [
       "3652.5"
      ]
     },
     "execution_count": 13,
     "metadata": {},
     "output_type": "execute_result"
    }
   ],
   "source": [
    "evaluate_sample_size(20)"
   ]
  },
  {
   "cell_type": "code",
   "execution_count": 14,
   "metadata": {
    "collapsed": false,
    "scrolled": true
   },
   "outputs": [
    {
     "name": "stdout",
     "output_type": "stream",
     "text": [
      "\n",
      "Sample size 50, doing 10 runs\n",
      "\n",
      "Run 0\n"
     ]
    },
    {
     "name": "stderr",
     "output_type": "stream",
     "text": [
      "100% (1000 of 1000) |#####################| Elapsed Time: 0:03:22 Time: 0:03:22\n"
     ]
    },
    {
     "name": "stdout",
     "output_type": "stream",
     "text": [
      "Min training objective value 0.0, found in 4 points\n",
      "Testing on the remaining 2109 sentences\n"
     ]
    },
    {
     "name": "stderr",
     "output_type": "stream",
     "text": [
      "\r",
      "                                                                               \r",
      "\r",
      "N/A% (0 of 1000) |                       | Elapsed Time: 0:00:00 ETA:  --:--:--"
     ]
    },
    {
     "name": "stdout",
     "output_type": "stream",
     "text": [
      "Worst objective 649.5\n",
      "\n",
      "Run 1\n"
     ]
    },
    {
     "name": "stderr",
     "output_type": "stream",
     "text": [
      "100% (1000 of 1000) |#####################| Elapsed Time: 0:02:52 Time: 0:02:52\n"
     ]
    },
    {
     "name": "stdout",
     "output_type": "stream",
     "text": [
      "Min training objective value 0.0, found in 7 points\n",
      "Testing on the remaining 2109 sentences\n"
     ]
    },
    {
     "name": "stderr",
     "output_type": "stream",
     "text": [
      "\r",
      "                                                                               \r",
      "\r",
      "N/A% (0 of 1000) |                       | Elapsed Time: 0:00:00 ETA:  --:--:--"
     ]
    },
    {
     "name": "stdout",
     "output_type": "stream",
     "text": [
      "Worst objective 872.0\n",
      "\n",
      "Run 2\n"
     ]
    },
    {
     "name": "stderr",
     "output_type": "stream",
     "text": [
      "100% (1000 of 1000) |#####################| Elapsed Time: 0:02:52 Time: 0:02:52\n"
     ]
    },
    {
     "name": "stdout",
     "output_type": "stream",
     "text": [
      "Min training objective value 0.0, found in 4 points\n",
      "Testing on the remaining 2109 sentences\n"
     ]
    },
    {
     "name": "stderr",
     "output_type": "stream",
     "text": [
      "\r",
      "                                                                               \r",
      "\r",
      "N/A% (0 of 1000) |                       | Elapsed Time: 0:00:00 ETA:  --:--:--"
     ]
    },
    {
     "name": "stdout",
     "output_type": "stream",
     "text": [
      "Worst objective 561.5\n",
      "\n",
      "Run 3\n"
     ]
    },
    {
     "name": "stderr",
     "output_type": "stream",
     "text": [
      "100% (1000 of 1000) |#####################| Elapsed Time: 0:03:01 Time: 0:03:01\n"
     ]
    },
    {
     "name": "stdout",
     "output_type": "stream",
     "text": [
      "Min training objective value 1.0, found in 4 points\n",
      "Testing on the remaining 2109 sentences\n"
     ]
    },
    {
     "name": "stderr",
     "output_type": "stream",
     "text": [
      "\r",
      "                                                                               \r",
      "\r",
      "N/A% (0 of 1000) |                       | Elapsed Time: 0:00:00 ETA:  --:--:--"
     ]
    },
    {
     "name": "stdout",
     "output_type": "stream",
     "text": [
      "Worst objective 648.5\n",
      "\n",
      "Run 4\n"
     ]
    },
    {
     "name": "stderr",
     "output_type": "stream",
     "text": [
      "100% (1000 of 1000) |#####################| Elapsed Time: 0:02:33 Time: 0:02:33\n"
     ]
    },
    {
     "name": "stdout",
     "output_type": "stream",
     "text": [
      "Min training objective value 3.0, found in 7 points\n",
      "Testing on the remaining 2109 sentences\n"
     ]
    },
    {
     "name": "stderr",
     "output_type": "stream",
     "text": [
      "\r",
      "                                                                               \r",
      "\r",
      "N/A% (0 of 1000) |                       | Elapsed Time: 0:00:00 ETA:  --:--:--"
     ]
    },
    {
     "name": "stdout",
     "output_type": "stream",
     "text": [
      "Worst objective 793.0\n",
      "\n",
      "Run 5\n"
     ]
    },
    {
     "name": "stderr",
     "output_type": "stream",
     "text": [
      "100% (1000 of 1000) |#####################| Elapsed Time: 0:03:22 Time: 0:03:22\n"
     ]
    },
    {
     "name": "stdout",
     "output_type": "stream",
     "text": [
      "Min training objective value 55.0, found in 34 points\n",
      "Testing on the remaining 2109 sentences\n"
     ]
    },
    {
     "name": "stderr",
     "output_type": "stream",
     "text": [
      "\r",
      "                                                                               \r",
      "\r",
      "N/A% (0 of 1000) |                       | Elapsed Time: 0:00:00 ETA:  --:--:--"
     ]
    },
    {
     "name": "stdout",
     "output_type": "stream",
     "text": [
      "Worst objective 1377.5\n",
      "\n",
      "Run 6\n"
     ]
    },
    {
     "name": "stderr",
     "output_type": "stream",
     "text": [
      "100% (1000 of 1000) |#####################| Elapsed Time: 0:02:37 Time: 0:02:37\n"
     ]
    },
    {
     "name": "stdout",
     "output_type": "stream",
     "text": [
      "Min training objective value 0.0, found in 4 points\n",
      "Testing on the remaining 2109 sentences\n"
     ]
    },
    {
     "name": "stderr",
     "output_type": "stream",
     "text": [
      "\r",
      "                                                                               \r",
      "\r",
      "N/A% (0 of 1000) |                       | Elapsed Time: 0:00:00 ETA:  --:--:--"
     ]
    },
    {
     "name": "stdout",
     "output_type": "stream",
     "text": [
      "Worst objective 561.5\n",
      "\n",
      "Run 7\n"
     ]
    },
    {
     "name": "stderr",
     "output_type": "stream",
     "text": [
      "100% (1000 of 1000) |#####################| Elapsed Time: 0:03:05 Time: 0:03:05\n"
     ]
    },
    {
     "name": "stdout",
     "output_type": "stream",
     "text": [
      "Min training objective value 0.0, found in 8 points\n",
      "Testing on the remaining 2109 sentences\n"
     ]
    },
    {
     "name": "stderr",
     "output_type": "stream",
     "text": [
      "\r",
      "                                                                               \r",
      "\r",
      "N/A% (0 of 1000) |                       | Elapsed Time: 0:00:00 ETA:  --:--:--"
     ]
    },
    {
     "name": "stdout",
     "output_type": "stream",
     "text": [
      "Worst objective 718.5\n",
      "\n",
      "Run 8\n"
     ]
    },
    {
     "name": "stderr",
     "output_type": "stream",
     "text": [
      "100% (1000 of 1000) |#####################| Elapsed Time: 0:01:57 Time: 0:01:57\n"
     ]
    },
    {
     "name": "stdout",
     "output_type": "stream",
     "text": [
      "Min training objective value 2.0, found in 4 points\n",
      "Testing on the remaining 2109 sentences\n"
     ]
    },
    {
     "name": "stderr",
     "output_type": "stream",
     "text": [
      "\r",
      "                                                                               \r",
      "\r",
      "N/A% (0 of 1000) |                       | Elapsed Time: 0:00:00 ETA:  --:--:--"
     ]
    },
    {
     "name": "stdout",
     "output_type": "stream",
     "text": [
      "Worst objective 647.5\n",
      "\n",
      "Run 9\n"
     ]
    },
    {
     "name": "stderr",
     "output_type": "stream",
     "text": [
      "100% (1000 of 1000) |#####################| Elapsed Time: 0:02:28 Time: 0:02:28\n"
     ]
    },
    {
     "name": "stdout",
     "output_type": "stream",
     "text": [
      "Min training objective value 22.0, found in 4 points\n",
      "Testing on the remaining 2109 sentences\n",
      "Worst objective 328.5\n",
      "\n",
      "Overall worst objective for 10 runs of sample size 50 = 1377.5\n"
     ]
    },
    {
     "data": {
      "text/plain": [
       "1377.5"
      ]
     },
     "execution_count": 14,
     "metadata": {},
     "output_type": "execute_result"
    }
   ],
   "source": [
    "evaluate_sample_size(50)"
   ]
  },
  {
   "cell_type": "code",
   "execution_count": 15,
   "metadata": {
    "collapsed": false,
    "deletable": true,
    "editable": true,
    "scrolled": true
   },
   "outputs": [
    {
     "name": "stdout",
     "output_type": "stream",
     "text": [
      "\n",
      "Sample size 100, doing 10 runs\n",
      "\n",
      "Run 0\n"
     ]
    },
    {
     "name": "stderr",
     "output_type": "stream",
     "text": [
      "100% (1000 of 1000) |#####################| Elapsed Time: 0:04:21 Time: 0:04:21\n"
     ]
    },
    {
     "name": "stdout",
     "output_type": "stream",
     "text": [
      "Min training objective value 8.0, found in 4 points\n",
      "Testing on the remaining 2059 sentences\n",
      "Worst objective 342.5\n",
      "\n",
      "Run 1\n"
     ]
    },
    {
     "name": "stderr",
     "output_type": "stream",
     "text": [
      "100% (1000 of 1000) |#####################| Elapsed Time: 0:05:24 Time: 0:05:24\n"
     ]
    },
    {
     "name": "stdout",
     "output_type": "stream",
     "text": [
      "Min training objective value 9.0, found in 4 points\n",
      "Testing on the remaining 2059 sentences\n",
      "Worst objective 640.5\n",
      "\n",
      "Run 2\n"
     ]
    },
    {
     "name": "stderr",
     "output_type": "stream",
     "text": [
      "100% (1000 of 1000) |#####################| Elapsed Time: 0:04:46 Time: 0:04:46\n"
     ]
    },
    {
     "name": "stdout",
     "output_type": "stream",
     "text": [
      "Min training objective value 7.5, found in 8 points\n",
      "Testing on the remaining 2059 sentences\n",
      "Worst objective 847.0\n",
      "\n",
      "Run 3\n"
     ]
    },
    {
     "name": "stderr",
     "output_type": "stream",
     "text": [
      "100% (1000 of 1000) |#####################| Elapsed Time: 0:04:18 Time: 0:04:18\n"
     ]
    },
    {
     "name": "stdout",
     "output_type": "stream",
     "text": [
      "Min training objective value 9.0, found in 4 points\n",
      "Testing on the remaining 2059 sentences\n",
      "Worst objective 341.5\n",
      "\n",
      "Run 4\n"
     ]
    },
    {
     "name": "stderr",
     "output_type": "stream",
     "text": [
      "100% (1000 of 1000) |#####################| Elapsed Time: 0:05:01 Time: 0:05:01\n"
     ]
    },
    {
     "name": "stdout",
     "output_type": "stream",
     "text": [
      "Min training objective value 2.5, found in 4 points\n",
      "Testing on the remaining 2059 sentences\n",
      "Worst objective 647.0\n",
      "\n",
      "Run 5\n"
     ]
    },
    {
     "name": "stderr",
     "output_type": "stream",
     "text": [
      "100% (1000 of 1000) |#####################| Elapsed Time: 0:05:03 Time: 0:05:03\n"
     ]
    },
    {
     "name": "stdout",
     "output_type": "stream",
     "text": [
      "Min training objective value 1.0, found in 16 points\n",
      "Testing on the remaining 2059 sentences\n",
      "Worst objective 717.5\n",
      "\n",
      "Run 6\n"
     ]
    },
    {
     "name": "stderr",
     "output_type": "stream",
     "text": [
      "100% (1000 of 1000) |#####################| Elapsed Time: 0:04:14 Time: 0:04:14\n"
     ]
    },
    {
     "name": "stdout",
     "output_type": "stream",
     "text": [
      "Min training objective value 0.0, found in 4 points\n",
      "Testing on the remaining 2059 sentences\n",
      "Worst objective 561.5\n",
      "\n",
      "Run 7\n"
     ]
    },
    {
     "name": "stderr",
     "output_type": "stream",
     "text": [
      "100% (1000 of 1000) |#####################| Elapsed Time: 0:05:34 Time: 0:05:34\n"
     ]
    },
    {
     "name": "stdout",
     "output_type": "stream",
     "text": [
      "Min training objective value 9.0, found in 4 points\n",
      "Testing on the remaining 2059 sentences\n",
      "Worst objective 341.5\n",
      "\n",
      "Run 8\n"
     ]
    },
    {
     "name": "stderr",
     "output_type": "stream",
     "text": [
      "100% (1000 of 1000) |#####################| Elapsed Time: 0:04:03 Time: 0:04:03\n"
     ]
    },
    {
     "name": "stdout",
     "output_type": "stream",
     "text": [
      "Min training objective value 2.0, found in 4 points\n",
      "Testing on the remaining 2059 sentences\n",
      "Worst objective 348.5\n",
      "\n",
      "Run 9\n"
     ]
    },
    {
     "name": "stderr",
     "output_type": "stream",
     "text": [
      "100% (1000 of 1000) |#####################| Elapsed Time: 0:03:35 Time: 0:03:35\n"
     ]
    },
    {
     "name": "stdout",
     "output_type": "stream",
     "text": [
      "Min training objective value 1.0, found in 4 points\n",
      "Testing on the remaining 2059 sentences\n",
      "Worst objective 648.5\n",
      "\n",
      "Overall worst objective for 10 runs of sample size 100 = 847.0\n"
     ]
    },
    {
     "data": {
      "text/plain": [
       "847.0"
      ]
     },
     "execution_count": 15,
     "metadata": {},
     "output_type": "execute_result"
    }
   ],
   "source": [
    "evaluate_sample_size(100)"
   ]
  },
  {
   "cell_type": "code",
   "execution_count": 16,
   "metadata": {
    "collapsed": false,
    "deletable": true,
    "editable": true,
    "scrolled": true
   },
   "outputs": [
    {
     "name": "stdout",
     "output_type": "stream",
     "text": [
      "\n",
      "Sample size 200, doing 10 runs\n",
      "\n",
      "Run 0\n"
     ]
    },
    {
     "name": "stderr",
     "output_type": "stream",
     "text": [
      "100% (1000 of 1000) |#####################| Elapsed Time: 0:08:25 Time: 0:08:25\n"
     ]
    },
    {
     "name": "stdout",
     "output_type": "stream",
     "text": [
      "Min training objective value 31.5, found in 4 points\n",
      "Testing on the remaining 1959 sentences\n",
      "Worst objective 319.0\n",
      "\n",
      "Run 1\n"
     ]
    },
    {
     "name": "stderr",
     "output_type": "stream",
     "text": [
      "100% (1000 of 1000) |#####################| Elapsed Time: 0:08:09 Time: 0:08:09\n"
     ]
    },
    {
     "name": "stdout",
     "output_type": "stream",
     "text": [
      "Min training objective value 50.0, found in 4 points\n",
      "Testing on the remaining 1959 sentences\n",
      "Worst objective 300.5\n",
      "\n",
      "Run 2\n"
     ]
    },
    {
     "name": "stderr",
     "output_type": "stream",
     "text": [
      "100% (1000 of 1000) |#####################| Elapsed Time: 0:06:42 Time: 0:06:42\n"
     ]
    },
    {
     "name": "stdout",
     "output_type": "stream",
     "text": [
      "Min training objective value 33.5, found in 4 points\n",
      "Testing on the remaining 1959 sentences\n",
      "Worst objective 616.0\n",
      "\n",
      "Run 3\n"
     ]
    },
    {
     "name": "stderr",
     "output_type": "stream",
     "text": [
      "100% (1000 of 1000) |#####################| Elapsed Time: 0:06:17 Time: 0:06:17\n"
     ]
    },
    {
     "name": "stdout",
     "output_type": "stream",
     "text": [
      "Min training objective value 13.0, found in 4 points\n",
      "Testing on the remaining 1959 sentences\n",
      "Worst objective 636.5\n",
      "\n",
      "Run 4\n"
     ]
    },
    {
     "name": "stderr",
     "output_type": "stream",
     "text": [
      "100% (1000 of 1000) |#####################| Elapsed Time: 0:07:23 Time: 0:07:23\n"
     ]
    },
    {
     "name": "stdout",
     "output_type": "stream",
     "text": [
      "Min training objective value 69.0, found in 4 points\n",
      "Testing on the remaining 1959 sentences\n",
      "Worst objective 281.5\n",
      "\n",
      "Run 5\n"
     ]
    },
    {
     "name": "stderr",
     "output_type": "stream",
     "text": [
      "100% (1000 of 1000) |#####################| Elapsed Time: 0:06:16 Time: 0:06:16\n"
     ]
    },
    {
     "name": "stdout",
     "output_type": "stream",
     "text": [
      "Min training objective value 13.5, found in 4 points\n",
      "Testing on the remaining 1959 sentences\n",
      "Worst objective 548.0\n",
      "\n",
      "Run 6\n"
     ]
    },
    {
     "name": "stderr",
     "output_type": "stream",
     "text": [
      "100% (1000 of 1000) |#####################| Elapsed Time: 0:05:44 Time: 0:05:44\n"
     ]
    },
    {
     "name": "stdout",
     "output_type": "stream",
     "text": [
      "Min training objective value 53.5, found in 4 points\n",
      "Testing on the remaining 1959 sentences\n",
      "Worst objective 297.0\n",
      "\n",
      "Run 7\n"
     ]
    },
    {
     "name": "stderr",
     "output_type": "stream",
     "text": [
      "100% (1000 of 1000) |#####################| Elapsed Time: 0:05:48 Time: 0:05:48\n"
     ]
    },
    {
     "name": "stdout",
     "output_type": "stream",
     "text": [
      "Min training objective value 46.5, found in 4 points\n",
      "Testing on the remaining 1959 sentences\n",
      "Worst objective 304.0\n",
      "\n",
      "Run 8\n"
     ]
    },
    {
     "name": "stderr",
     "output_type": "stream",
     "text": [
      "100% (1000 of 1000) |#####################| Elapsed Time: 0:06:08 Time: 0:06:08\n"
     ]
    },
    {
     "name": "stdout",
     "output_type": "stream",
     "text": [
      "Min training objective value 13.0, found in 4 points\n",
      "Testing on the remaining 1959 sentences\n",
      "Worst objective 548.5\n",
      "\n",
      "Run 9\n"
     ]
    },
    {
     "name": "stderr",
     "output_type": "stream",
     "text": [
      "100% (1000 of 1000) |#####################| Elapsed Time: 0:04:43 Time: 0:04:43\n"
     ]
    },
    {
     "name": "stdout",
     "output_type": "stream",
     "text": [
      "Min training objective value 14.0, found in 4 points\n",
      "Testing on the remaining 1959 sentences\n",
      "Worst objective 336.5\n",
      "\n",
      "Overall worst objective for 10 runs of sample size 200 = 636.5\n"
     ]
    },
    {
     "data": {
      "text/plain": [
       "636.5"
      ]
     },
     "execution_count": 16,
     "metadata": {},
     "output_type": "execute_result"
    }
   ],
   "source": [
    "evaluate_sample_size(200)"
   ]
  },
  {
   "cell_type": "code",
   "execution_count": 17,
   "metadata": {
    "collapsed": false
   },
   "outputs": [
    {
     "name": "stdout",
     "output_type": "stream",
     "text": [
      "\n",
      "Sample size 100, doing 10 runs\n",
      "\n",
      "Run 0\n"
     ]
    },
    {
     "name": "stderr",
     "output_type": "stream",
     "text": [
      "100% (1000 of 1000) |#####################| Elapsed Time: 0:03:10 Time: 0:03:10\n"
     ]
    },
    {
     "name": "stdout",
     "output_type": "stream",
     "text": [
      "Min training objective value 0.0, found in 5 points\n",
      "Testing on the remaining 2059 sentences\n",
      "Worst objective 269.5\n",
      "\n",
      "Run 1\n"
     ]
    },
    {
     "name": "stderr",
     "output_type": "stream",
     "text": [
      "100% (1000 of 1000) |#####################| Elapsed Time: 0:02:14 Time: 0:02:14\n"
     ]
    },
    {
     "name": "stdout",
     "output_type": "stream",
     "text": [
      "Min training objective value 0.0, found in 5 points\n",
      "Testing on the remaining 2059 sentences\n",
      "Worst objective 332.5\n",
      "\n",
      "Run 2\n"
     ]
    },
    {
     "name": "stderr",
     "output_type": "stream",
     "text": [
      "100% (1000 of 1000) |#####################| Elapsed Time: 0:02:13 Time: 0:02:13\n"
     ]
    },
    {
     "name": "stdout",
     "output_type": "stream",
     "text": [
      "Min training objective value 4.0, found in 5 points\n",
      "Testing on the remaining 2059 sentences\n",
      "Worst objective 349.5\n",
      "\n",
      "Run 3\n"
     ]
    },
    {
     "name": "stderr",
     "output_type": "stream",
     "text": [
      "100% (1000 of 1000) |#####################| Elapsed Time: 0:03:22 Time: 0:03:22\n"
     ]
    },
    {
     "name": "stdout",
     "output_type": "stream",
     "text": [
      "Min training objective value 31.0, found in 5 points\n",
      "Testing on the remaining 2059 sentences\n",
      "Worst objective 238.5\n",
      "\n",
      "Run 4\n"
     ]
    },
    {
     "name": "stderr",
     "output_type": "stream",
     "text": [
      "100% (1000 of 1000) |#####################| Elapsed Time: 0:02:45 Time: 0:02:45\n"
     ]
    },
    {
     "name": "stdout",
     "output_type": "stream",
     "text": [
      "Min training objective value 0.0, found in 5 points\n",
      "Testing on the remaining 2059 sentences\n",
      "Worst objective 269.5\n",
      "\n",
      "Run 5\n"
     ]
    },
    {
     "name": "stderr",
     "output_type": "stream",
     "text": [
      "100% (1000 of 1000) |#####################| Elapsed Time: 0:02:19 Time: 0:02:19\n"
     ]
    },
    {
     "name": "stdout",
     "output_type": "stream",
     "text": [
      "Min training objective value 2.5, found in 9 points\n",
      "Testing on the remaining 2059 sentences\n",
      "Worst objective 553.0\n",
      "\n",
      "Run 6\n"
     ]
    },
    {
     "name": "stderr",
     "output_type": "stream",
     "text": [
      "100% (1000 of 1000) |#####################| Elapsed Time: 0:02:37 Time: 0:02:37\n"
     ]
    },
    {
     "name": "stdout",
     "output_type": "stream",
     "text": [
      "Min training objective value 1.5, found in 9 points\n",
      "Testing on the remaining 2059 sentences\n",
      "Worst objective 554.0\n",
      "\n",
      "Run 7\n"
     ]
    },
    {
     "name": "stderr",
     "output_type": "stream",
     "text": [
      "100% (1000 of 1000) |#####################| Elapsed Time: 0:02:34 Time: 0:02:34\n"
     ]
    },
    {
     "name": "stdout",
     "output_type": "stream",
     "text": [
      "Min training objective value 4.0, found in 5 points\n",
      "Testing on the remaining 2059 sentences\n",
      "Worst objective 265.5\n",
      "\n",
      "Run 8\n"
     ]
    },
    {
     "name": "stderr",
     "output_type": "stream",
     "text": [
      "100% (1000 of 1000) |#####################| Elapsed Time: 0:02:36 Time: 0:02:36\n"
     ]
    },
    {
     "name": "stdout",
     "output_type": "stream",
     "text": [
      "Min training objective value 0.0, found in 30 points\n",
      "Testing on the remaining 2059 sentences\n",
      "Worst objective 575.0\n",
      "\n",
      "Run 9\n"
     ]
    },
    {
     "name": "stderr",
     "output_type": "stream",
     "text": [
      "100% (1000 of 1000) |#####################| Elapsed Time: 0:02:16 Time: 0:02:16\n"
     ]
    },
    {
     "name": "stdout",
     "output_type": "stream",
     "text": [
      "Min training objective value 0.0, found in 10 points\n",
      "Testing on the remaining 2059 sentences\n",
      "Worst objective 332.5\n",
      "\n",
      "Overall worst objective for 10 runs of sample size 100 = 575.0\n",
      "\n",
      "Sample size 100, doing 10 runs\n",
      "\n",
      "Run 0\n"
     ]
    },
    {
     "name": "stderr",
     "output_type": "stream",
     "text": [
      "100% (1000 of 1000) |#####################| Elapsed Time: 0:02:25 Time: 0:02:25\n"
     ]
    },
    {
     "name": "stdout",
     "output_type": "stream",
     "text": [
      "Min training objective value 0.0, found in 25 points\n",
      "Testing on the remaining 2059 sentences\n",
      "Worst objective 422.0\n",
      "\n",
      "Run 1\n"
     ]
    },
    {
     "name": "stderr",
     "output_type": "stream",
     "text": [
      "100% (1000 of 1000) |#####################| Elapsed Time: 0:02:14 Time: 0:02:14\n"
     ]
    },
    {
     "name": "stdout",
     "output_type": "stream",
     "text": [
      "Min training objective value 21.0, found in 10 points\n",
      "Testing on the remaining 2059 sentences\n",
      "Worst objective 225.5\n",
      "\n",
      "Run 2\n"
     ]
    },
    {
     "name": "stderr",
     "output_type": "stream",
     "text": [
      "100% (1000 of 1000) |#####################| Elapsed Time: 0:02:17 Time: 0:02:17\n"
     ]
    },
    {
     "name": "stdout",
     "output_type": "stream",
     "text": [
      "Min training objective value 0.0, found in 15 points\n",
      "Testing on the remaining 2059 sentences\n",
      "Worst objective 246.5\n",
      "\n",
      "Run 3\n"
     ]
    },
    {
     "name": "stderr",
     "output_type": "stream",
     "text": [
      "100% (1000 of 1000) |#####################| Elapsed Time: 0:02:31 Time: 0:02:31\n"
     ]
    },
    {
     "name": "stdout",
     "output_type": "stream",
     "text": [
      "Min training objective value 31.0, found in 10 points\n",
      "Testing on the remaining 2059 sentences\n",
      "Worst objective 185.5\n",
      "\n",
      "Run 4\n"
     ]
    },
    {
     "name": "stderr",
     "output_type": "stream",
     "text": [
      "100% (1000 of 1000) |#####################| Elapsed Time: 0:02:12 Time: 0:02:12\n"
     ]
    },
    {
     "name": "stdout",
     "output_type": "stream",
     "text": [
      "Min training objective value 0.0, found in 10 points\n",
      "Testing on the remaining 2059 sentences\n",
      "Worst objective 177.5\n",
      "\n",
      "Run 5\n"
     ]
    },
    {
     "name": "stderr",
     "output_type": "stream",
     "text": [
      "100% (1000 of 1000) |#####################| Elapsed Time: 0:01:53 Time: 0:01:53\n"
     ]
    },
    {
     "name": "stdout",
     "output_type": "stream",
     "text": [
      "Min training objective value 0.0, found in 15 points\n",
      "Testing on the remaining 2059 sentences\n",
      "Worst objective 216.5\n",
      "\n",
      "Run 6\n"
     ]
    },
    {
     "name": "stderr",
     "output_type": "stream",
     "text": [
      "100% (1000 of 1000) |#####################| Elapsed Time: 0:01:54 Time: 0:01:54\n"
     ]
    },
    {
     "name": "stdout",
     "output_type": "stream",
     "text": [
      "Min training objective value 21.0, found in 30 points\n",
      "Testing on the remaining 2059 sentences\n",
      "Worst objective 500.0\n",
      "\n",
      "Run 7\n"
     ]
    },
    {
     "name": "stderr",
     "output_type": "stream",
     "text": [
      "100% (1000 of 1000) |#####################| Elapsed Time: 0:02:19 Time: 0:02:19\n"
     ]
    },
    {
     "name": "stdout",
     "output_type": "stream",
     "text": [
      "Min training objective value 0.0, found in 20 points\n",
      "Testing on the remaining 2059 sentences\n",
      "Worst objective 341.5\n",
      "\n",
      "Run 8\n"
     ]
    },
    {
     "name": "stderr",
     "output_type": "stream",
     "text": [
      "100% (1000 of 1000) |#####################| Elapsed Time: 0:02:10 Time: 0:02:10\n"
     ]
    },
    {
     "name": "stdout",
     "output_type": "stream",
     "text": [
      "Min training objective value 5.0, found in 5 points\n",
      "Testing on the remaining 2059 sentences\n",
      "Worst objective 206.0\n",
      "\n",
      "Run 9\n"
     ]
    },
    {
     "name": "stderr",
     "output_type": "stream",
     "text": [
      "100% (1000 of 1000) |#####################| Elapsed Time: 0:02:00 Time: 0:02:00\n"
     ]
    },
    {
     "name": "stdout",
     "output_type": "stream",
     "text": [
      "Min training objective value 0.0, found in 10 points\n",
      "Testing on the remaining 2059 sentences\n",
      "Worst objective 177.5\n",
      "\n",
      "Overall worst objective for 10 runs of sample size 100 = 500.0\n",
      "\n",
      "Sample size 100, doing 10 runs\n",
      "\n",
      "Run 0\n"
     ]
    },
    {
     "name": "stderr",
     "output_type": "stream",
     "text": [
      "100% (1000 of 1000) |#####################| Elapsed Time: 0:02:36 Time: 0:02:36\n"
     ]
    },
    {
     "name": "stdout",
     "output_type": "stream",
     "text": [
      "Min training objective value 18.0, found in 4 points\n",
      "Testing on the remaining 2059 sentences\n",
      "Worst objective 465.5\n",
      "\n",
      "Run 1\n"
     ]
    },
    {
     "name": "stderr",
     "output_type": "stream",
     "text": [
      "100% (1000 of 1000) |#####################| Elapsed Time: 0:01:52 Time: 0:01:52\n"
     ]
    },
    {
     "name": "stdout",
     "output_type": "stream",
     "text": [
      "Min training objective value 0.0, found in 14 points\n",
      "Testing on the remaining 2059 sentences\n",
      "Worst objective 460.5\n",
      "\n",
      "Run 2\n"
     ]
    },
    {
     "name": "stderr",
     "output_type": "stream",
     "text": [
      "100% (1000 of 1000) |#####################| Elapsed Time: 0:02:05 Time: 0:02:05\n"
     ]
    },
    {
     "name": "stdout",
     "output_type": "stream",
     "text": [
      "Min training objective value 5.0, found in 5 points\n",
      "Testing on the remaining 2059 sentences\n",
      "Worst objective 580.5\n",
      "\n",
      "Run 3\n"
     ]
    },
    {
     "name": "stderr",
     "output_type": "stream",
     "text": [
      "100% (1000 of 1000) |#####################| Elapsed Time: 0:02:17 Time: 0:02:17\n"
     ]
    },
    {
     "name": "stdout",
     "output_type": "stream",
     "text": [
      "Min training objective value 0.0, found in 5 points\n",
      "Testing on the remaining 2059 sentences\n",
      "Worst objective 257.5\n",
      "\n",
      "Run 4\n"
     ]
    },
    {
     "name": "stderr",
     "output_type": "stream",
     "text": [
      "100% (1000 of 1000) |#####################| Elapsed Time: 0:02:05 Time: 0:02:05\n"
     ]
    },
    {
     "name": "stdout",
     "output_type": "stream",
     "text": [
      "Min training objective value 6.0, found in 5 points\n",
      "Testing on the remaining 2059 sentences\n",
      "Worst objective 251.5\n",
      "\n",
      "Run 5\n"
     ]
    },
    {
     "name": "stderr",
     "output_type": "stream",
     "text": [
      "100% (1000 of 1000) |#####################| Elapsed Time: 0:02:18 Time: 0:02:18\n"
     ]
    },
    {
     "name": "stdout",
     "output_type": "stream",
     "text": [
      "Min training objective value 13.0, found in 4 points\n",
      "Testing on the remaining 2059 sentences\n",
      "Worst objective 682.5\n",
      "\n",
      "Run 6\n"
     ]
    },
    {
     "name": "stderr",
     "output_type": "stream",
     "text": [
      "100% (1000 of 1000) |#####################| Elapsed Time: 0:01:57 Time: 0:01:57\n"
     ]
    },
    {
     "name": "stdout",
     "output_type": "stream",
     "text": [
      "Min training objective value 6.0, found in 4 points\n",
      "Testing on the remaining 2059 sentences\n",
      "Worst objective 362.0\n",
      "\n",
      "Run 7\n"
     ]
    },
    {
     "name": "stderr",
     "output_type": "stream",
     "text": [
      "100% (1000 of 1000) |#####################| Elapsed Time: 0:02:16 Time: 0:02:16\n"
     ]
    },
    {
     "name": "stdout",
     "output_type": "stream",
     "text": [
      "Min training objective value 16.0, found in 10 points\n",
      "Testing on the remaining 2059 sentences\n",
      "Worst objective 469.0\n",
      "\n",
      "Run 8\n"
     ]
    },
    {
     "name": "stderr",
     "output_type": "stream",
     "text": [
      "100% (1000 of 1000) |#####################| Elapsed Time: 0:02:00 Time: 0:02:00\n"
     ]
    },
    {
     "name": "stdout",
     "output_type": "stream",
     "text": [
      "Min training objective value 19.0, found in 5 points\n",
      "Testing on the remaining 2059 sentences\n",
      "Worst objective 238.5\n",
      "\n",
      "Run 9\n"
     ]
    },
    {
     "name": "stderr",
     "output_type": "stream",
     "text": [
      "100% (1000 of 1000) |#####################| Elapsed Time: 0:02:54 Time: 0:02:54\n"
     ]
    },
    {
     "name": "stdout",
     "output_type": "stream",
     "text": [
      "Min training objective value 14.5, found in 4 points\n",
      "Testing on the remaining 2059 sentences\n",
      "Worst objective 469.0\n",
      "\n",
      "Overall worst objective for 10 runs of sample size 100 = 682.5\n",
      "\n",
      "Sample size 100, doing 10 runs\n",
      "\n",
      "Run 0\n"
     ]
    },
    {
     "name": "stderr",
     "output_type": "stream",
     "text": [
      "100% (1000 of 1000) |#####################| Elapsed Time: 0:02:22 Time: 0:02:22\n"
     ]
    },
    {
     "name": "stdout",
     "output_type": "stream",
     "text": [
      "Min training objective value 16.0, found in 5 points\n",
      "Testing on the remaining 2059 sentences\n",
      "Worst objective 322.5\n",
      "\n",
      "Run 1\n"
     ]
    },
    {
     "name": "stderr",
     "output_type": "stream",
     "text": [
      "100% (1000 of 1000) |#####################| Elapsed Time: 0:01:45 Time: 0:01:45\n"
     ]
    },
    {
     "name": "stdout",
     "output_type": "stream",
     "text": [
      "Min training objective value 2.0, found in 5 points\n",
      "Testing on the remaining 2059 sentences\n",
      "Worst objective 469.5\n",
      "\n",
      "Run 2\n"
     ]
    },
    {
     "name": "stderr",
     "output_type": "stream",
     "text": [
      "100% (1000 of 1000) |#####################| Elapsed Time: 0:01:57 Time: 0:01:57\n"
     ]
    },
    {
     "name": "stdout",
     "output_type": "stream",
     "text": [
      "Min training objective value 4.0, found in 5 points\n",
      "Testing on the remaining 2059 sentences\n",
      "Worst objective 334.5\n",
      "\n",
      "Run 3\n"
     ]
    },
    {
     "name": "stderr",
     "output_type": "stream",
     "text": [
      "100% (1000 of 1000) |#####################| Elapsed Time: 0:02:12 Time: 0:02:12\n"
     ]
    },
    {
     "name": "stdout",
     "output_type": "stream",
     "text": [
      "Min training objective value 2.0, found in 4 points\n",
      "Testing on the remaining 2059 sentences\n",
      "Worst objective 227.0\n",
      "\n",
      "Run 4\n"
     ]
    },
    {
     "name": "stderr",
     "output_type": "stream",
     "text": [
      "100% (1000 of 1000) |#####################| Elapsed Time: 0:01:51 Time: 0:01:51\n"
     ]
    },
    {
     "name": "stdout",
     "output_type": "stream",
     "text": [
      "Min training objective value 2.0, found in 5 points\n",
      "Testing on the remaining 2059 sentences\n",
      "Worst objective 336.5\n",
      "\n",
      "Run 5\n"
     ]
    },
    {
     "name": "stderr",
     "output_type": "stream",
     "text": [
      "100% (1000 of 1000) |#####################| Elapsed Time: 0:01:41 Time: 0:01:41\n"
     ]
    },
    {
     "name": "stdout",
     "output_type": "stream",
     "text": [
      "Min training objective value 8.0, found in 9 points\n",
      "Testing on the remaining 2059 sentences\n",
      "Worst objective 840.5\n",
      "\n",
      "Run 6\n"
     ]
    },
    {
     "name": "stderr",
     "output_type": "stream",
     "text": [
      "100% (1000 of 1000) |#####################| Elapsed Time: 0:01:45 Time: 0:01:45\n"
     ]
    },
    {
     "name": "stdout",
     "output_type": "stream",
     "text": [
      "Min training objective value 2.5, found in 5 points\n",
      "Testing on the remaining 2059 sentences\n",
      "Worst objective 336.0\n",
      "\n",
      "Run 7\n"
     ]
    },
    {
     "name": "stderr",
     "output_type": "stream",
     "text": [
      "100% (1000 of 1000) |#####################| Elapsed Time: 0:02:08 Time: 0:02:08\n"
     ]
    },
    {
     "name": "stdout",
     "output_type": "stream",
     "text": [
      "Min training objective value 2.0, found in 4 points\n",
      "Testing on the remaining 2059 sentences\n",
      "Worst objective 227.0\n",
      "\n",
      "Run 8\n"
     ]
    },
    {
     "name": "stderr",
     "output_type": "stream",
     "text": [
      "100% (1000 of 1000) |#####################| Elapsed Time: 0:02:14 Time: 0:02:14\n"
     ]
    },
    {
     "name": "stdout",
     "output_type": "stream",
     "text": [
      "Min training objective value 13.0, found in 5 points\n",
      "Testing on the remaining 2059 sentences\n",
      "Worst objective 1066.0\n",
      "\n",
      "Run 9\n"
     ]
    },
    {
     "name": "stderr",
     "output_type": "stream",
     "text": [
      "100% (1000 of 1000) |#####################| Elapsed Time: 0:01:43 Time: 0:01:43\n"
     ]
    },
    {
     "name": "stdout",
     "output_type": "stream",
     "text": [
      "Min training objective value 6.5, found in 4 points\n",
      "Testing on the remaining 2059 sentences\n",
      "Worst objective 222.5\n",
      "\n",
      "Overall worst objective for 10 runs of sample size 100 = 1066.0\n",
      "\n",
      "Sample size 100, doing 10 runs\n",
      "\n",
      "Run 0\n"
     ]
    },
    {
     "name": "stderr",
     "output_type": "stream",
     "text": [
      "100% (1000 of 1000) |#####################| Elapsed Time: 0:01:56 Time: 0:01:56\n"
     ]
    },
    {
     "name": "stdout",
     "output_type": "stream",
     "text": [
      "Min training objective value 0.0, found in 10 points\n",
      "Testing on the remaining 2059 sentences\n",
      "Worst objective 253.5\n",
      "\n",
      "Run 1\n"
     ]
    },
    {
     "name": "stderr",
     "output_type": "stream",
     "text": [
      "100% (1000 of 1000) |#####################| Elapsed Time: 0:02:01 Time: 0:02:01\n"
     ]
    },
    {
     "name": "stdout",
     "output_type": "stream",
     "text": [
      "Min training objective value 0.0, found in 10 points\n",
      "Testing on the remaining 2059 sentences\n",
      "Worst objective 216.0\n",
      "\n",
      "Run 2\n"
     ]
    },
    {
     "name": "stderr",
     "output_type": "stream",
     "text": [
      "100% (1000 of 1000) |#####################| Elapsed Time: 0:02:02 Time: 0:02:02\n"
     ]
    },
    {
     "name": "stdout",
     "output_type": "stream",
     "text": [
      "Min training objective value 0.0, found in 10 points\n",
      "Testing on the remaining 2059 sentences\n",
      "Worst objective 253.5\n",
      "\n",
      "Run 3\n"
     ]
    },
    {
     "name": "stderr",
     "output_type": "stream",
     "text": [
      "100% (1000 of 1000) |#####################| Elapsed Time: 0:02:08 Time: 0:02:08\n"
     ]
    },
    {
     "name": "stdout",
     "output_type": "stream",
     "text": [
      "Min training objective value 35.5, found in 5 points\n",
      "Testing on the remaining 2059 sentences\n",
      "Worst objective 122.0\n",
      "\n",
      "Run 4\n"
     ]
    },
    {
     "name": "stderr",
     "output_type": "stream",
     "text": [
      "100% (1000 of 1000) |#####################| Elapsed Time: 0:01:31 Time: 0:01:31\n"
     ]
    },
    {
     "name": "stdout",
     "output_type": "stream",
     "text": [
      "Min training objective value 2.0, found in 15 points\n",
      "Testing on the remaining 2059 sentences\n",
      "Worst objective 197.5\n",
      "\n",
      "Run 5\n"
     ]
    },
    {
     "name": "stderr",
     "output_type": "stream",
     "text": [
      "100% (1000 of 1000) |#####################| Elapsed Time: 0:02:09 Time: 0:02:09\n"
     ]
    },
    {
     "name": "stdout",
     "output_type": "stream",
     "text": [
      "Min training objective value 1.5, found in 10 points\n",
      "Testing on the remaining 2059 sentences\n",
      "Worst objective 198.0\n",
      "\n",
      "Run 6\n"
     ]
    },
    {
     "name": "stderr",
     "output_type": "stream",
     "text": [
      "100% (1000 of 1000) |#####################| Elapsed Time: 0:02:05 Time: 0:02:05\n"
     ]
    },
    {
     "name": "stdout",
     "output_type": "stream",
     "text": [
      "Min training objective value 0.0, found in 15 points\n",
      "Testing on the remaining 2059 sentences\n",
      "Worst objective 199.5\n",
      "\n",
      "Run 7\n"
     ]
    },
    {
     "name": "stderr",
     "output_type": "stream",
     "text": [
      "100% (1000 of 1000) |#####################| Elapsed Time: 0:01:45 Time: 0:01:45\n"
     ]
    },
    {
     "name": "stdout",
     "output_type": "stream",
     "text": [
      "Min training objective value 0.0, found in 15 points\n",
      "Testing on the remaining 2059 sentences\n",
      "Worst objective 308.0\n",
      "\n",
      "Run 8\n"
     ]
    },
    {
     "name": "stderr",
     "output_type": "stream",
     "text": [
      "100% (1000 of 1000) |#####################| Elapsed Time: 0:01:36 Time: 0:01:36\n"
     ]
    },
    {
     "name": "stdout",
     "output_type": "stream",
     "text": [
      "Min training objective value 0.0, found in 10 points\n",
      "Testing on the remaining 2059 sentences\n",
      "Worst objective 216.0\n",
      "\n",
      "Run 9\n"
     ]
    },
    {
     "name": "stderr",
     "output_type": "stream",
     "text": [
      "100% (1000 of 1000) |#####################| Elapsed Time: 0:01:45 Time: 0:01:45\n"
     ]
    },
    {
     "name": "stdout",
     "output_type": "stream",
     "text": [
      "Min training objective value 2.0, found in 5 points\n",
      "Testing on the remaining 2059 sentences\n",
      "Worst objective 155.5\n",
      "\n",
      "Overall worst objective for 10 runs of sample size 100 = 308.0\n",
      "\n",
      "Sample size 100, doing 10 runs\n",
      "\n",
      "Run 0\n"
     ]
    },
    {
     "name": "stderr",
     "output_type": "stream",
     "text": [
      "100% (1000 of 1000) |#####################| Elapsed Time: 0:02:02 Time: 0:02:02\n"
     ]
    },
    {
     "name": "stdout",
     "output_type": "stream",
     "text": [
      "Min training objective value 2.5, found in 5 points\n",
      "Testing on the remaining 2059 sentences\n",
      "Worst objective 151.0\n",
      "\n",
      "Run 1\n"
     ]
    },
    {
     "name": "stderr",
     "output_type": "stream",
     "text": [
      "100% (1000 of 1000) |#####################| Elapsed Time: 0:01:54 Time: 0:01:54\n"
     ]
    },
    {
     "name": "stdout",
     "output_type": "stream",
     "text": [
      "Min training objective value 0.0, found in 15 points\n",
      "Testing on the remaining 2059 sentences\n",
      "Worst objective 157.5\n",
      "\n",
      "Run 2\n"
     ]
    },
    {
     "name": "stderr",
     "output_type": "stream",
     "text": [
      "100% (1000 of 1000) |#####################| Elapsed Time: 0:01:46 Time: 0:01:46\n"
     ]
    },
    {
     "name": "stdout",
     "output_type": "stream",
     "text": [
      "Min training objective value 0.0, found in 5 points\n",
      "Testing on the remaining 2059 sentences\n",
      "Worst objective 95.0\n",
      "\n",
      "Run 3\n"
     ]
    },
    {
     "name": "stderr",
     "output_type": "stream",
     "text": [
      "100% (1000 of 1000) |#####################| Elapsed Time: 0:02:05 Time: 0:02:05\n"
     ]
    },
    {
     "name": "stdout",
     "output_type": "stream",
     "text": [
      "Min training objective value 3.0, found in 74 points\n",
      "Testing on the remaining 2059 sentences\n",
      "Worst objective 446.0\n",
      "\n",
      "Run 4\n"
     ]
    },
    {
     "name": "stderr",
     "output_type": "stream",
     "text": [
      "100% (1000 of 1000) |#####################| Elapsed Time: 0:01:37 Time: 0:01:37\n"
     ]
    },
    {
     "name": "stdout",
     "output_type": "stream",
     "text": [
      "Min training objective value 0.0, found in 40 points\n",
      "Testing on the remaining 2059 sentences\n",
      "Worst objective 454.0\n",
      "\n",
      "Run 5\n"
     ]
    },
    {
     "name": "stderr",
     "output_type": "stream",
     "text": [
      "100% (1000 of 1000) |#####################| Elapsed Time: 0:01:53 Time: 0:01:53\n"
     ]
    },
    {
     "name": "stdout",
     "output_type": "stream",
     "text": [
      "Min training objective value 3.0, found in 10 points\n",
      "Testing on the remaining 2059 sentences\n",
      "Worst objective 171.0\n",
      "\n",
      "Run 6\n"
     ]
    },
    {
     "name": "stderr",
     "output_type": "stream",
     "text": [
      "100% (1000 of 1000) |#####################| Elapsed Time: 0:01:50 Time: 0:01:50\n"
     ]
    },
    {
     "name": "stdout",
     "output_type": "stream",
     "text": [
      "Min training objective value 0.0, found in 15 points\n",
      "Testing on the remaining 2059 sentences\n",
      "Worst objective 173.0\n",
      "\n",
      "Run 7\n"
     ]
    },
    {
     "name": "stderr",
     "output_type": "stream",
     "text": [
      "100% (1000 of 1000) |#####################| Elapsed Time: 0:01:48 Time: 0:01:48\n"
     ]
    },
    {
     "name": "stdout",
     "output_type": "stream",
     "text": [
      "Min training objective value 0.0, found in 30 points\n",
      "Testing on the remaining 2059 sentences\n",
      "Worst objective 355.0\n",
      "\n",
      "Run 8\n"
     ]
    },
    {
     "name": "stderr",
     "output_type": "stream",
     "text": [
      "100% (1000 of 1000) |#####################| Elapsed Time: 0:01:37 Time: 0:01:37\n"
     ]
    },
    {
     "name": "stdout",
     "output_type": "stream",
     "text": [
      "Min training objective value 0.0, found in 20 points\n",
      "Testing on the remaining 2059 sentences\n",
      "Worst objective 168.0\n",
      "\n",
      "Run 9\n"
     ]
    },
    {
     "name": "stderr",
     "output_type": "stream",
     "text": [
      "100% (1000 of 1000) |#####################| Elapsed Time: 0:02:24 Time: 0:02:24\n"
     ]
    },
    {
     "name": "stdout",
     "output_type": "stream",
     "text": [
      "Min training objective value 0.0, found in 15 points\n",
      "Testing on the remaining 2059 sentences\n",
      "Worst objective 173.0\n",
      "\n",
      "Overall worst objective for 10 runs of sample size 100 = 454.0\n",
      "\n",
      "Sample size 100, doing 10 runs\n",
      "\n",
      "Run 0\n"
     ]
    },
    {
     "name": "stderr",
     "output_type": "stream",
     "text": [
      "100% (1000 of 1000) |#####################| Elapsed Time: 0:02:20 Time: 0:02:20\n"
     ]
    },
    {
     "name": "stdout",
     "output_type": "stream",
     "text": [
      "Min training objective value 59.5, found in 10 points\n",
      "Testing on the remaining 2059 sentences\n",
      "Worst objective 866.5\n",
      "\n",
      "Run 1\n"
     ]
    },
    {
     "name": "stderr",
     "output_type": "stream",
     "text": [
      "100% (1000 of 1000) |#####################| Elapsed Time: 0:01:42 Time: 0:01:42\n"
     ]
    },
    {
     "name": "stdout",
     "output_type": "stream",
     "text": [
      "Min training objective value 0.0, found in 14 points\n",
      "Testing on the remaining 2059 sentences\n",
      "Worst objective 504.0\n",
      "\n",
      "Run 2\n"
     ]
    },
    {
     "name": "stderr",
     "output_type": "stream",
     "text": [
      "100% (1000 of 1000) |#####################| Elapsed Time: 0:01:47 Time: 0:01:47\n"
     ]
    },
    {
     "name": "stdout",
     "output_type": "stream",
     "text": [
      "Min training objective value 31.0, found in 5 points\n",
      "Testing on the remaining 2059 sentences\n",
      "Worst objective 168.0\n",
      "\n",
      "Run 3\n"
     ]
    },
    {
     "name": "stderr",
     "output_type": "stream",
     "text": [
      "100% (1000 of 1000) |#####################| Elapsed Time: 0:01:58 Time: 0:01:58\n"
     ]
    },
    {
     "name": "stdout",
     "output_type": "stream",
     "text": [
      "Min training objective value 2.0, found in 5 points\n",
      "Testing on the remaining 2059 sentences\n",
      "Worst objective 197.0\n",
      "\n",
      "Run 4\n"
     ]
    },
    {
     "name": "stderr",
     "output_type": "stream",
     "text": [
      "100% (1000 of 1000) |#####################| Elapsed Time: 0:01:48 Time: 0:01:48\n"
     ]
    },
    {
     "name": "stdout",
     "output_type": "stream",
     "text": [
      "Min training objective value 0.0, found in 10 points\n",
      "Testing on the remaining 2059 sentences\n",
      "Worst objective 493.5\n",
      "\n",
      "Run 5\n"
     ]
    },
    {
     "name": "stderr",
     "output_type": "stream",
     "text": [
      "100% (1000 of 1000) |#####################| Elapsed Time: 0:02:12 Time: 0:02:12\n"
     ]
    },
    {
     "name": "stdout",
     "output_type": "stream",
     "text": [
      "Min training objective value 0.0, found in 5 points\n",
      "Testing on the remaining 2059 sentences\n",
      "Worst objective 199.0\n",
      "\n",
      "Run 6\n"
     ]
    },
    {
     "name": "stderr",
     "output_type": "stream",
     "text": [
      "100% (1000 of 1000) |#####################| Elapsed Time: 0:01:36 Time: 0:01:36\n"
     ]
    },
    {
     "name": "stdout",
     "output_type": "stream",
     "text": [
      "Min training objective value 0.0, found in 5 points\n",
      "Testing on the remaining 2059 sentences\n",
      "Worst objective 199.0\n",
      "\n",
      "Run 7\n"
     ]
    },
    {
     "name": "stderr",
     "output_type": "stream",
     "text": [
      "100% (1000 of 1000) |#####################| Elapsed Time: 0:01:38 Time: 0:01:38\n"
     ]
    },
    {
     "name": "stdout",
     "output_type": "stream",
     "text": [
      "Min training objective value 0.0, found in 10 points\n",
      "Testing on the remaining 2059 sentences\n",
      "Worst objective 504.0\n",
      "\n",
      "Run 8\n"
     ]
    },
    {
     "name": "stderr",
     "output_type": "stream",
     "text": [
      "100% (1000 of 1000) |#####################| Elapsed Time: 0:02:00 Time: 0:02:00\n"
     ]
    },
    {
     "name": "stdout",
     "output_type": "stream",
     "text": [
      "Min training objective value 34.5, found in 4 points\n",
      "Testing on the remaining 2059 sentences\n",
      "Worst objective 1437.5\n",
      "\n",
      "Run 9\n"
     ]
    },
    {
     "name": "stderr",
     "output_type": "stream",
     "text": [
      "100% (1000 of 1000) |#####################| Elapsed Time: 0:01:45 Time: 0:01:45\n"
     ]
    },
    {
     "name": "stdout",
     "output_type": "stream",
     "text": [
      "Min training objective value 3.5, found in 5 points\n",
      "Testing on the remaining 2059 sentences\n",
      "Worst objective 614.0\n",
      "\n",
      "Overall worst objective for 10 runs of sample size 100 = 1437.5\n",
      "\n",
      "Sample size 100, doing 10 runs\n",
      "\n",
      "Run 0\n"
     ]
    },
    {
     "name": "stderr",
     "output_type": "stream",
     "text": [
      "100% (1000 of 1000) |#####################| Elapsed Time: 0:01:52 Time: 0:01:52\n"
     ]
    },
    {
     "name": "stdout",
     "output_type": "stream",
     "text": [
      "Min training objective value 1.0, found in 15 points\n",
      "Testing on the remaining 2059 sentences\n",
      "Worst objective 350.0\n",
      "\n",
      "Run 1\n"
     ]
    },
    {
     "name": "stderr",
     "output_type": "stream",
     "text": [
      "100% (1000 of 1000) |#####################| Elapsed Time: 0:01:41 Time: 0:01:41\n"
     ]
    },
    {
     "name": "stdout",
     "output_type": "stream",
     "text": [
      "Min training objective value 8.0, found in 15 points\n",
      "Testing on the remaining 2059 sentences\n",
      "Worst objective 259.5\n",
      "\n",
      "Run 2\n"
     ]
    },
    {
     "name": "stderr",
     "output_type": "stream",
     "text": [
      "100% (1000 of 1000) |#####################| Elapsed Time: 0:02:27 Time: 0:02:27\n"
     ]
    },
    {
     "name": "stdout",
     "output_type": "stream",
     "text": [
      "Min training objective value 2.0, found in 15 points\n",
      "Testing on the remaining 2059 sentences\n",
      "Worst objective 215.0\n",
      "\n",
      "Run 3\n"
     ]
    },
    {
     "name": "stderr",
     "output_type": "stream",
     "text": [
      "100% (1000 of 1000) |#####################| Elapsed Time: 0:01:55 Time: 0:01:55\n"
     ]
    },
    {
     "name": "stdout",
     "output_type": "stream",
     "text": [
      "Min training objective value 3.0, found in 15 points\n",
      "Testing on the remaining 2059 sentences\n",
      "Worst objective 214.0\n",
      "\n",
      "Run 4\n"
     ]
    },
    {
     "name": "stderr",
     "output_type": "stream",
     "text": [
      "100% (1000 of 1000) |#####################| Elapsed Time: 0:01:47 Time: 0:01:47\n"
     ]
    },
    {
     "name": "stdout",
     "output_type": "stream",
     "text": [
      "Min training objective value 2.0, found in 10 points\n",
      "Testing on the remaining 2059 sentences\n",
      "Worst objective 160.5\n",
      "\n",
      "Run 5\n"
     ]
    },
    {
     "name": "stderr",
     "output_type": "stream",
     "text": [
      "100% (1000 of 1000) |#####################| Elapsed Time: 0:01:52 Time: 0:01:52\n"
     ]
    },
    {
     "name": "stdout",
     "output_type": "stream",
     "text": [
      "Min training objective value 0.0, found in 15 points\n",
      "Testing on the remaining 2059 sentences\n",
      "Worst objective 292.5\n",
      "\n",
      "Run 6\n"
     ]
    },
    {
     "name": "stderr",
     "output_type": "stream",
     "text": [
      "100% (1000 of 1000) |#####################| Elapsed Time: 0:01:59 Time: 0:01:59\n"
     ]
    },
    {
     "name": "stdout",
     "output_type": "stream",
     "text": [
      "Min training objective value 1.0, found in 5 points\n",
      "Testing on the remaining 2059 sentences\n",
      "Worst objective 291.5\n",
      "\n",
      "Run 7\n"
     ]
    },
    {
     "name": "stderr",
     "output_type": "stream",
     "text": [
      "100% (1000 of 1000) |#####################| Elapsed Time: 0:01:33 Time: 0:01:33\n"
     ]
    },
    {
     "name": "stdout",
     "output_type": "stream",
     "text": [
      "Min training objective value 3.0, found in 25 points\n",
      "Testing on the remaining 2059 sentences\n",
      "Worst objective 314.5\n",
      "\n",
      "Run 8\n"
     ]
    },
    {
     "name": "stderr",
     "output_type": "stream",
     "text": [
      "100% (1000 of 1000) |#####################| Elapsed Time: 0:02:05 Time: 0:02:05\n"
     ]
    },
    {
     "name": "stdout",
     "output_type": "stream",
     "text": [
      "Min training objective value 1.0, found in 10 points\n",
      "Testing on the remaining 2059 sentences\n",
      "Worst objective 257.5\n",
      "\n",
      "Run 9\n"
     ]
    },
    {
     "name": "stderr",
     "output_type": "stream",
     "text": [
      "100% (1000 of 1000) |#####################| Elapsed Time: 0:02:01 Time: 0:02:01\n"
     ]
    },
    {
     "name": "stdout",
     "output_type": "stream",
     "text": [
      "Min training objective value 33.5, found in 5 points\n",
      "Testing on the remaining 2059 sentences\n",
      "Worst objective 259.0\n",
      "\n",
      "Overall worst objective for 10 runs of sample size 100 = 350.0\n",
      "\n",
      "Sample size 100, doing 10 runs\n",
      "\n",
      "Run 0\n"
     ]
    },
    {
     "name": "stderr",
     "output_type": "stream",
     "text": [
      "100% (1000 of 1000) |#####################| Elapsed Time: 0:02:01 Time: 0:02:01\n"
     ]
    },
    {
     "name": "stdout",
     "output_type": "stream",
     "text": [
      "Min training objective value 0.0, found in 10 points\n",
      "Testing on the remaining 2059 sentences\n",
      "Worst objective 200.0\n",
      "\n",
      "Run 1\n"
     ]
    },
    {
     "name": "stderr",
     "output_type": "stream",
     "text": [
      "100% (1000 of 1000) |#####################| Elapsed Time: 0:01:24 Time: 0:01:24\n"
     ]
    },
    {
     "name": "stdout",
     "output_type": "stream",
     "text": [
      "Min training objective value 0.0, found in 5 points\n",
      "Testing on the remaining 2059 sentences\n",
      "Worst objective 140.5\n",
      "\n",
      "Run 2\n"
     ]
    },
    {
     "name": "stderr",
     "output_type": "stream",
     "text": [
      "100% (1000 of 1000) |#####################| Elapsed Time: 0:02:04 Time: 0:02:04\n"
     ]
    },
    {
     "name": "stdout",
     "output_type": "stream",
     "text": [
      "Min training objective value 1.0, found in 14 points\n",
      "Testing on the remaining 2059 sentences\n",
      "Worst objective 217.0\n",
      "\n",
      "Run 3\n"
     ]
    },
    {
     "name": "stderr",
     "output_type": "stream",
     "text": [
      "100% (1000 of 1000) |#####################| Elapsed Time: 0:02:04 Time: 0:02:04\n"
     ]
    },
    {
     "name": "stdout",
     "output_type": "stream",
     "text": [
      "Min training objective value 2.0, found in 5 points\n",
      "Testing on the remaining 2059 sentences\n",
      "Worst objective 113.0\n",
      "\n",
      "Run 4\n"
     ]
    },
    {
     "name": "stderr",
     "output_type": "stream",
     "text": [
      "100% (1000 of 1000) |#####################| Elapsed Time: 0:01:44 Time: 0:01:44\n"
     ]
    },
    {
     "name": "stdout",
     "output_type": "stream",
     "text": [
      "Min training objective value 2.0, found in 34 points\n",
      "Testing on the remaining 2059 sentences\n",
      "Worst objective 260.5\n",
      "\n",
      "Run 5\n"
     ]
    },
    {
     "name": "stderr",
     "output_type": "stream",
     "text": [
      "100% (1000 of 1000) |#####################| Elapsed Time: 0:02:09 Time: 0:02:09\n"
     ]
    },
    {
     "name": "stdout",
     "output_type": "stream",
     "text": [
      "Min training objective value 2.0, found in 10 points\n",
      "Testing on the remaining 2059 sentences\n",
      "Worst objective 198.0\n",
      "\n",
      "Run 6\n"
     ]
    },
    {
     "name": "stderr",
     "output_type": "stream",
     "text": [
      "100% (1000 of 1000) |#####################| Elapsed Time: 0:01:34 Time: 0:01:34\n"
     ]
    },
    {
     "name": "stdout",
     "output_type": "stream",
     "text": [
      "Min training objective value 1.0, found in 10 points\n",
      "Testing on the remaining 2059 sentences\n",
      "Worst objective 139.5\n",
      "\n",
      "Run 7\n"
     ]
    },
    {
     "name": "stderr",
     "output_type": "stream",
     "text": [
      "100% (1000 of 1000) |#####################| Elapsed Time: 0:02:07 Time: 0:02:07\n"
     ]
    },
    {
     "name": "stdout",
     "output_type": "stream",
     "text": [
      "Min training objective value 0.0, found in 15 points\n",
      "Testing on the remaining 2059 sentences\n",
      "Worst objective 200.0\n",
      "\n",
      "Run 8\n"
     ]
    },
    {
     "name": "stderr",
     "output_type": "stream",
     "text": [
      "100% (1000 of 1000) |#####################| Elapsed Time: 0:01:52 Time: 0:01:52\n"
     ]
    },
    {
     "name": "stdout",
     "output_type": "stream",
     "text": [
      "Min training objective value 3.0, found in 10 points\n",
      "Testing on the remaining 2059 sentences\n",
      "Worst objective 197.0\n",
      "\n",
      "Run 9\n"
     ]
    },
    {
     "name": "stderr",
     "output_type": "stream",
     "text": [
      "100% (1000 of 1000) |#####################| Elapsed Time: 0:01:57 Time: 0:01:57\n"
     ]
    },
    {
     "name": "stdout",
     "output_type": "stream",
     "text": [
      "Min training objective value 8.0, found in 5 points\n",
      "Testing on the remaining 2059 sentences\n",
      "Worst objective 140.5\n",
      "\n",
      "Overall worst objective for 10 runs of sample size 100 = 260.5\n",
      "\n",
      "Sample size 100, doing 10 runs\n",
      "\n",
      "Run 0\n"
     ]
    },
    {
     "name": "stderr",
     "output_type": "stream",
     "text": [
      "100% (1000 of 1000) |#####################| Elapsed Time: 0:02:13 Time: 0:02:13\n"
     ]
    },
    {
     "name": "stdout",
     "output_type": "stream",
     "text": [
      "Min training objective value 0.0, found in 5 points\n",
      "Testing on the remaining 2059 sentences\n",
      "Worst objective 84.5\n",
      "\n",
      "Run 1\n"
     ]
    },
    {
     "name": "stderr",
     "output_type": "stream",
     "text": [
      "100% (1000 of 1000) |#####################| Elapsed Time: 0:01:30 Time: 0:01:30\n"
     ]
    },
    {
     "name": "stdout",
     "output_type": "stream",
     "text": [
      "Min training objective value 0.0, found in 23 points\n",
      "Testing on the remaining 2059 sentences\n",
      "Worst objective 253.0\n",
      "\n",
      "Run 2\n"
     ]
    },
    {
     "name": "stderr",
     "output_type": "stream",
     "text": [
      "100% (1000 of 1000) |#####################| Elapsed Time: 0:01:47 Time: 0:01:47\n"
     ]
    },
    {
     "name": "stdout",
     "output_type": "stream",
     "text": [
      "Min training objective value 0.0, found in 31 points\n",
      "Testing on the remaining 2059 sentences\n",
      "Worst objective 226.5\n",
      "\n",
      "Run 3\n"
     ]
    },
    {
     "name": "stderr",
     "output_type": "stream",
     "text": [
      "100% (1000 of 1000) |#####################| Elapsed Time: 0:01:41 Time: 0:01:41\n"
     ]
    },
    {
     "name": "stdout",
     "output_type": "stream",
     "text": [
      "Min training objective value 0.0, found in 25 points\n",
      "Testing on the remaining 2059 sentences\n",
      "Worst objective 274.5\n",
      "\n",
      "Run 4\n"
     ]
    },
    {
     "name": "stderr",
     "output_type": "stream",
     "text": [
      "100% (1000 of 1000) |#####################| Elapsed Time: 0:02:32 Time: 0:02:32\n"
     ]
    },
    {
     "name": "stdout",
     "output_type": "stream",
     "text": [
      "Min training objective value 5.5, found in 13 points\n",
      "Testing on the remaining 2059 sentences\n",
      "Worst objective 242.5\n",
      "\n",
      "Run 5\n"
     ]
    },
    {
     "name": "stderr",
     "output_type": "stream",
     "text": [
      "100% (1000 of 1000) |#####################| Elapsed Time: 0:01:43 Time: 0:01:43\n"
     ]
    },
    {
     "name": "stdout",
     "output_type": "stream",
     "text": [
      "Min training objective value 0.0, found in 16 points\n",
      "Testing on the remaining 2059 sentences\n",
      "Worst objective 105.0\n",
      "\n",
      "Run 6\n"
     ]
    },
    {
     "name": "stderr",
     "output_type": "stream",
     "text": [
      "100% (1000 of 1000) |#####################| Elapsed Time: 0:01:45 Time: 0:01:45\n"
     ]
    },
    {
     "name": "stdout",
     "output_type": "stream",
     "text": [
      "Min training objective value 0.0, found in 9 points\n",
      "Testing on the remaining 2059 sentences\n",
      "Worst objective 84.5\n",
      "\n",
      "Run 7\n"
     ]
    },
    {
     "name": "stderr",
     "output_type": "stream",
     "text": [
      "100% (1000 of 1000) |#####################| Elapsed Time: 0:01:35 Time: 0:01:35\n"
     ]
    },
    {
     "name": "stdout",
     "output_type": "stream",
     "text": [
      "Min training objective value 0.0, found in 162 points\n",
      "Testing on the remaining 2059 sentences\n",
      "Worst objective 581.0\n",
      "\n",
      "Run 8\n"
     ]
    },
    {
     "name": "stderr",
     "output_type": "stream",
     "text": [
      "100% (1000 of 1000) |#####################| Elapsed Time: 0:01:38 Time: 0:01:38\n"
     ]
    },
    {
     "name": "stdout",
     "output_type": "stream",
     "text": [
      "Min training objective value 0.0, found in 28 points\n",
      "Testing on the remaining 2059 sentences\n",
      "Worst objective 226.5\n",
      "\n",
      "Run 9\n"
     ]
    },
    {
     "name": "stderr",
     "output_type": "stream",
     "text": [
      "100% (1000 of 1000) |#####################| Elapsed Time: 0:02:01 Time: 0:02:01\n"
     ]
    },
    {
     "name": "stdout",
     "output_type": "stream",
     "text": [
      "Min training objective value 0.0, found in 28 points\n",
      "Testing on the remaining 2059 sentences\n",
      "Worst objective 253.0\n",
      "\n",
      "Overall worst objective for 10 runs of sample size 100 = 581.0\n"
     ]
    },
    {
     "ename": "IndexError",
     "evalue": "tuple index out of range",
     "output_type": "error",
     "traceback": [
      "\u001b[0;31m---------------------------------------------------------------------------\u001b[0m",
      "\u001b[0;31mIndexError\u001b[0m                                Traceback (most recent call last)",
      "\u001b[0;32m<ipython-input-17-eeeaa86c052a>\u001b[0m in \u001b[0;36m<module>\u001b[0;34m()\u001b[0m\n\u001b[1;32m      5\u001b[0m     \u001b[0mgold100_worst_objectives\u001b[0m\u001b[0;34m.\u001b[0m\u001b[0mappend\u001b[0m\u001b[0;34m(\u001b[0m\u001b[0mevaluate_sample_size\u001b[0m\u001b[0;34m(\u001b[0m\u001b[0;36m100\u001b[0m\u001b[0;34m,\u001b[0m \u001b[0mxref\u001b[0m\u001b[0;34m)\u001b[0m\u001b[0;34m)\u001b[0m\u001b[0;34m\u001b[0m\u001b[0m\n\u001b[1;32m      6\u001b[0m print('Worst objective for {} random target parameter '\n\u001b[0;32m----> 7\u001b[0;31m       'sets trained with sample size 100 = {}'.format(np.max(gold100_worst_objectives)))\n\u001b[0m",
      "\u001b[0;31mIndexError\u001b[0m: tuple index out of range"
     ]
    }
   ],
   "source": [
    "gold100_worst_objectives = []\n",
    "gold100_n_runs = 10\n",
    "for i in range(gold100_n_runs):\n",
    "    xref = [np.random.uniform(*bounds) for bounds in x_bounds]\n",
    "    gold100_worst_objectives.append(evaluate_sample_size(100, xref))"
   ]
  },
  {
   "cell_type": "code",
   "execution_count": 18,
   "metadata": {
    "collapsed": false
   },
   "outputs": [
    {
     "name": "stdout",
     "output_type": "stream",
     "text": [
      "Worst objective for 10 random target parameter sets trained with sample size 100 = 1437.5\n"
     ]
    }
   ],
   "source": [
    "print('Worst objective for {} random target parameter '\n",
    "      'sets trained with sample size 100 = {}'\n",
    "      .format(gold100_n_runs, np.max(gold100_worst_objectives)))"
   ]
  },
  {
   "cell_type": "markdown",
   "metadata": {},
   "source": [
    "This tells me how many gold alignments I need to be able to recover a working set of parameters."
   ]
  }
 ],
 "metadata": {
  "kernelspec": {
   "display_name": "Python 3",
   "language": "python",
   "name": "python3"
  },
  "language_info": {
   "codemirror_mode": {
    "name": "ipython",
    "version": 3
   },
   "file_extension": ".py",
   "mimetype": "text/x-python",
   "name": "python",
   "nbconvert_exporter": "python",
   "pygments_lexer": "ipython3",
   "version": "3.6.1"
  }
 },
 "nbformat": 4,
 "nbformat_minor": 2
}
