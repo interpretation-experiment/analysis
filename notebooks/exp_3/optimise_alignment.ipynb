{
 "cells": [
  {
   "cell_type": "markdown",
   "metadata": {
    "deletable": true,
    "editable": true
   },
   "source": [
    "# Alignment optimisation"
   ]
  },
  {
   "cell_type": "markdown",
   "metadata": {
    "deletable": true,
    "editable": true
   },
   "source": [
    "## 1 Setup"
   ]
  },
  {
   "cell_type": "markdown",
   "metadata": {
    "deletable": true,
    "editable": true
   },
   "source": [
    "Flags"
   ]
  },
  {
   "cell_type": "code",
   "execution_count": 1,
   "metadata": {
    "collapsed": true,
    "deletable": true,
    "editable": true
   },
   "outputs": [],
   "source": [
    "# None"
   ]
  },
  {
   "cell_type": "markdown",
   "metadata": {
    "deletable": true,
    "editable": true
   },
   "source": [
    "Setup the database"
   ]
  },
  {
   "cell_type": "code",
   "execution_count": 2,
   "metadata": {
    "collapsed": false,
    "deletable": true,
    "editable": true
   },
   "outputs": [
    {
     "name": "stdout",
     "output_type": "stream",
     "text": [
      "Database: spreadr_exp_3\n"
     ]
    }
   ],
   "source": [
    "import os, sys\n",
    "sys.path.insert(1, os.path.abspath('../..'))\n",
    "import analysis\n",
    "\n",
    "DB_NAME = 'spreadr_' + os.path.split(os.path.abspath(os.path.curdir))[1]\n",
    "GOLD_ALIGNMENTS = '../../data/alignments/{}/sebastien-lerique.csv'.format(DB_NAME)\n",
    "analysis.setup(DB_NAME)\n",
    "print('Database:', DB_NAME)"
   ]
  },
  {
   "cell_type": "code",
   "execution_count": 3,
   "metadata": {
    "collapsed": true,
    "deletable": true,
    "editable": true
   },
   "outputs": [],
   "source": [
    "#import random\n",
    "import itertools\n",
    "import csv\n",
    "import json\n",
    "\n",
    "import numpy as np\n",
    "from scipy import optimize\n",
    "from nltk.metrics import edit_distance\n",
    "from frozendict import frozendict\n",
    "#import matplotlib.pyplot as plt\n",
    "#%matplotlib inline\n",
    "#from mpl_toolkits.mplot3d import Axes3D\n",
    "from progressbar import ProgressBar\n",
    "\n",
    "from gists.models import Sentence\n",
    "from analysis import settings, transformations"
   ]
  },
  {
   "cell_type": "markdown",
   "metadata": {
    "deletable": true,
    "editable": true
   },
   "source": [
    "## 2 Optimise for hand-coded alignments"
   ]
  },
  {
   "cell_type": "markdown",
   "metadata": {
    "deletable": true,
    "editable": true
   },
   "source": [
    "### 2.1 Framework setup"
   ]
  },
  {
   "cell_type": "code",
   "execution_count": 4,
   "metadata": {
    "collapsed": false,
    "deletable": true,
    "editable": true
   },
   "outputs": [],
   "source": [
    "gold_sentences = []\n",
    "gold_alignments = []\n",
    "with open(GOLD_ALIGNMENTS, 'r') as gold_file:\n",
    "    reader = csv.DictReader(gold_file)\n",
    "    for row in reader:\n",
    "        sentence = Sentence.objects.get(id=row['sentence_id'])\n",
    "        gold_sentences.append(sentence)\n",
    "        int_alignment = (json.loads(row['parent_coding']),\n",
    "                         json.loads(row['sentence_coding']))\n",
    "        alignment = transformations.int_decode_scoreless_alignment(\n",
    "            sentence.parent.tokens, sentence.tokens, int_alignment)\n",
    "        alignment += (0,)\n",
    "        # One gold alignment per sentence\n",
    "        gold_alignments.append([alignment])"
   ]
  },
  {
   "cell_type": "code",
   "execution_count": 5,
   "metadata": {
    "collapsed": true,
    "deletable": true,
    "editable": true
   },
   "outputs": [],
   "source": [
    "def alignments(sentences, parameters):\n",
    "    frozen_parameters = frozendict(parameters)\n",
    "    return [transformations.align_lemmas(s.parent.tokens, s.tokens,\n",
    "                                         parameters=frozen_parameters)\n",
    "            for s in sentences]"
   ]
  },
  {
   "cell_type": "code",
   "execution_count": 6,
   "metadata": {
    "collapsed": true,
    "deletable": true,
    "editable": true
   },
   "outputs": [],
   "source": [
    "def distance(alignment1, alignment2):\n",
    "    seq1A, seq1B = alignment1[:2]\n",
    "    seq2A, seq2B = alignment2[:2]\n",
    "    seq1A = list(map(id, seq1A))\n",
    "    seq1B = list(map(id, seq1B))\n",
    "    seq2A = list(map(id, seq2A))\n",
    "    seq2B = list(map(id, seq2B))\n",
    "    return (edit_distance(seq1A, seq2A) + edit_distance(seq1B, seq2B)) / 2"
   ]
  },
  {
   "cell_type": "code",
   "execution_count": 7,
   "metadata": {
    "collapsed": true,
    "deletable": true,
    "editable": true
   },
   "outputs": [],
   "source": [
    "BASE_COMPARE_FACTOR = 1\n",
    "def x2parameters(x):\n",
    "    return frozendict({\n",
    "        'COMPARE_FACTOR': BASE_COMPARE_FACTOR,\n",
    "        'COMPARE_ORIGIN': x[0] * BASE_COMPARE_FACTOR,\n",
    "        'GAP_OPEN': (x[1] + x[2]) * BASE_COMPARE_FACTOR,\n",
    "        'GAP_EXTEND': x[2] * BASE_COMPARE_FACTOR,\n",
    "        'EXCHANGE': None,\n",
    "    })\n",
    "\n",
    "def parameters2x(parameters):\n",
    "    return (np.array([parameters['COMPARE_ORIGIN'],\n",
    "                      parameters['GAP_OPEN'] - parameters['GAP_EXTEND'],\n",
    "                      parameters['GAP_EXTEND']])\n",
    "            / parameters['COMPARE_FACTOR'])"
   ]
  },
  {
   "cell_type": "code",
   "execution_count": 8,
   "metadata": {
    "collapsed": true,
    "deletable": true,
    "editable": true
   },
   "outputs": [],
   "source": [
    "def objective(x, sentences, ref_alignments):\n",
    "    x_alignments = alignments(sentences, x2parameters(x))\n",
    "    distances = []\n",
    "    for ref_as, x_as in zip(ref_alignments, x_alignments):\n",
    "        if len(x_as) == 0:\n",
    "            # Add an empty alignment if there are none\n",
    "            x_as = [([], [])]\n",
    "        # Or use max+mean\n",
    "        distances.append(np.max([distance(ref_a, x_a) for ref_a, x_a\n",
    "                                 in itertools.product(ref_as,  x_as)]))\n",
    "    return np.sum(distances)"
   ]
  },
  {
   "cell_type": "markdown",
   "metadata": {
    "deletable": true,
    "editable": true
   },
   "source": [
    "### 2.2 Brute force"
   ]
  },
  {
   "cell_type": "markdown",
   "metadata": {},
   "source": [
    "#### 2.2.1 On large boundaries, with discretization=10"
   ]
  },
  {
   "cell_type": "code",
   "execution_count": 9,
   "metadata": {
    "collapsed": true,
    "deletable": true,
    "editable": true
   },
   "outputs": [],
   "source": [
    "x_bounds = [\n",
    "    (-1, -.01), # COMPARE_ORIGIN / COMPARE_FACTOR\n",
    "    (-1, -.01), # (GAP_OPEN - GAP_EXTEND) / COMPARE_FACTOR\n",
    "    (-1, -.01), # GAP_EXTEND / COMPARE_FACTOR\n",
    "]"
   ]
  },
  {
   "cell_type": "code",
   "execution_count": 10,
   "metadata": {
    "collapsed": false,
    "deletable": true,
    "editable": true
   },
   "outputs": [
    {
     "name": "stderr",
     "output_type": "stream",
     "text": [
      "100% (1000 of 1000) |#####################| Elapsed Time: 0:26:50 Time: 0:26:50\n"
     ]
    },
    {
     "name": "stdout",
     "output_type": "stream",
     "text": [
      "Min optimisation objective value 255.0, found in 3 points\n"
     ]
    }
   ],
   "source": [
    "discretization = 10\n",
    "n_dims = len(x_bounds)\n",
    "xs = [np.linspace(start, stop, discretization) for (start, stop) in x_bounds]\n",
    "grids = np.meshgrid(*xs, indexing='ij')\n",
    "values = np.zeros_like(grids[0])\n",
    "\n",
    "for i, k in ProgressBar(max_value=len(values.flat))(\n",
    "        enumerate(itertools.product(range(discretization), repeat=n_dims))):\n",
    "    values[k] = objective([grids[j][k] for j in range(n_dims)],\n",
    "                          gold_sentences, gold_alignments)\n",
    "\n",
    "min_value = np.min(values)\n",
    "min_locations = np.where(values == min_value)\n",
    "print('Min optimisation objective value {}, found in {} points'\n",
    "      .format(min_value, len(min_locations[0])))"
   ]
  },
  {
   "cell_type": "code",
   "execution_count": 11,
   "metadata": {
    "collapsed": false,
    "deletable": true,
    "editable": true
   },
   "outputs": [
    {
     "name": "stdout",
     "output_type": "stream",
     "text": [
      "[-1.0, -0.12, -0.22999999999999998]\n",
      "<frozendict {'COMPARE_FACTOR': 1, 'COMPARE_ORIGIN': -1.0, 'GAP_OPEN': -0.34999999999999998, 'GAP_EXTEND': -0.22999999999999998, 'EXCHANGE': None}>\n",
      "\n",
      "[-0.78000000000000003, -0.12, -0.12]\n",
      "<frozendict {'COMPARE_FACTOR': 1, 'COMPARE_ORIGIN': -0.78000000000000003, 'GAP_OPEN': -0.23999999999999999, 'GAP_EXTEND': -0.12, 'EXCHANGE': None}>\n",
      "\n",
      "[-0.56000000000000005, -0.12, -0.01]\n",
      "<frozendict {'COMPARE_FACTOR': 1, 'COMPARE_ORIGIN': -0.56000000000000005, 'GAP_OPEN': -0.13, 'GAP_EXTEND': -0.01, 'EXCHANGE': None}>\n",
      "\n"
     ]
    }
   ],
   "source": [
    "for k in zip(*min_locations):\n",
    "    x = [grids[0][k], grids[1][k], grids[2][k]]\n",
    "    print(x)\n",
    "    print(x2parameters(x))\n",
    "    print()"
   ]
  },
  {
   "cell_type": "markdown",
   "metadata": {},
   "source": [
    "Attempting to fine-tune the minima found"
   ]
  },
  {
   "cell_type": "code",
   "execution_count": 12,
   "metadata": {
    "collapsed": false,
    "deletable": true,
    "editable": true
   },
   "outputs": [
    {
     "name": "stdout",
     "output_type": "stream",
     "text": [
      "Starting at x =  [-0.56000000000000005, -0.12, -0.01]\n",
      "[-1.   -0.12 -0.23]\n",
      "Optimization terminated successfully.    (Exit mode 0)\n",
      "            Current function value: 255.0\n",
      "            Iterations: 1\n",
      "            Function evaluations: 5\n",
      "            Gradient evaluations: 1\n",
      "     fun: 255.0\n",
      "     jac: array([ 0.,  0.,  0.])\n",
      " message: 'Optimization terminated successfully.'\n",
      "    nfev: 5\n",
      "     nit: 1\n",
      "    njev: 1\n",
      "  status: 0\n",
      " success: True\n",
      "       x: array([-1.  , -0.12, -0.23])\n",
      "<frozendict {'COMPARE_FACTOR': 1, 'COMPARE_ORIGIN': -1.0, 'GAP_OPEN': -0.34999999999999998, 'GAP_EXTEND': -0.22999999999999998, 'EXCHANGE': None}>\n",
      "\n",
      "\n",
      "Starting at x =  [-0.56000000000000005, -0.12, -0.01]\n",
      "[-0.78 -0.12 -0.12]\n",
      "Optimization terminated successfully.    (Exit mode 0)\n",
      "            Current function value: 255.0\n",
      "            Iterations: 1\n",
      "            Function evaluations: 5\n",
      "            Gradient evaluations: 1\n",
      "     fun: 255.0\n",
      "     jac: array([ 0.,  0.,  0.])\n",
      " message: 'Optimization terminated successfully.'\n",
      "    nfev: 5\n",
      "     nit: 1\n",
      "    njev: 1\n",
      "  status: 0\n",
      " success: True\n",
      "       x: array([-0.78, -0.12, -0.12])\n",
      "<frozendict {'COMPARE_FACTOR': 1, 'COMPARE_ORIGIN': -0.78000000000000003, 'GAP_OPEN': -0.23999999999999999, 'GAP_EXTEND': -0.12, 'EXCHANGE': None}>\n",
      "\n",
      "\n",
      "Starting at x =  [-0.56000000000000005, -0.12, -0.01]\n",
      "[-0.56 -0.12 -0.01]\n",
      "Optimization terminated successfully.    (Exit mode 0)\n",
      "            Current function value: 255.0\n",
      "            Iterations: 1\n",
      "            Function evaluations: 5\n",
      "            Gradient evaluations: 1\n",
      "     fun: 255.0\n",
      "     jac: array([ 0.,  0.,  0.])\n",
      " message: 'Optimization terminated successfully.'\n",
      "    nfev: 5\n",
      "     nit: 1\n",
      "    njev: 1\n",
      "  status: 0\n",
      " success: True\n",
      "       x: array([-0.56, -0.12, -0.01])\n",
      "<frozendict {'COMPARE_FACTOR': 1, 'COMPARE_ORIGIN': -0.56000000000000005, 'GAP_OPEN': -0.13, 'GAP_EXTEND': -0.01, 'EXCHANGE': None}>\n",
      "\n",
      "\n"
     ]
    }
   ],
   "source": [
    "for k in zip(*min_locations):\n",
    "    print('Starting at x = ', x)\n",
    "    result = optimize.minimize(\n",
    "        objective, [grids[0][k], grids[1][k], grids[2][k]],\n",
    "        method='SLSQP',\n",
    "        bounds=x_bounds,\n",
    "        args=(gold_sentences, gold_alignments),\n",
    "        options={'disp': True, 'maxiter': 500},\n",
    "        callback=print)\n",
    "    print(result)\n",
    "    print(x2parameters(result.x))\n",
    "    print()\n",
    "    print()"
   ]
  },
  {
   "cell_type": "markdown",
   "metadata": {},
   "source": [
    "Does not seem to work much."
   ]
  },
  {
   "cell_type": "markdown",
   "metadata": {
    "deletable": true,
    "editable": true
   },
   "source": [
    "#### 2.2.2 On more restricted boundaries, with discretization=10"
   ]
  },
  {
   "cell_type": "code",
   "execution_count": 13,
   "metadata": {
    "collapsed": true,
    "deletable": true,
    "editable": true
   },
   "outputs": [],
   "source": [
    "x_bounds = [\n",
    "    (-1, -.5), # COMPARE_ORIGIN / COMPARE_FACTOR\n",
    "    (-.5, -.01), # (GAP_OPEN - GAP_EXTEND) / COMPARE_FACTOR\n",
    "    (-.5, -.01), # GAP_EXTEND / COMPARE_FACTOR\n",
    "]"
   ]
  },
  {
   "cell_type": "code",
   "execution_count": 14,
   "metadata": {
    "collapsed": false,
    "deletable": true,
    "editable": true
   },
   "outputs": [
    {
     "name": "stderr",
     "output_type": "stream",
     "text": [
      "100% (1000 of 1000) |#####################| Elapsed Time: 0:18:56 Time: 0:18:56\n"
     ]
    },
    {
     "name": "stdout",
     "output_type": "stream",
     "text": [
      "Min optimisation objective value 240.0, found in 1 points\n"
     ]
    }
   ],
   "source": [
    "discretization = 10\n",
    "n_dims = len(x_bounds)\n",
    "xs = [np.linspace(start, stop, discretization) for (start, stop) in x_bounds]\n",
    "grids = np.meshgrid(*xs, indexing='ij')\n",
    "values = np.zeros_like(grids[0])\n",
    "\n",
    "for i, k in ProgressBar(max_value=len(values.flat))(\n",
    "        enumerate(itertools.product(range(discretization), repeat=n_dims))):\n",
    "    values[k] = objective([grids[j][k] for j in range(n_dims)],\n",
    "                          gold_sentences, gold_alignments)\n",
    "\n",
    "min_value = np.min(values)\n",
    "min_locations = np.where(values == min_value)\n",
    "print('Min optimisation objective value {}, found in {} points'\n",
    "      .format(min_value, len(min_locations[0])))"
   ]
  },
  {
   "cell_type": "code",
   "execution_count": 15,
   "metadata": {
    "collapsed": false,
    "deletable": true,
    "editable": true
   },
   "outputs": [
    {
     "name": "stdout",
     "output_type": "stream",
     "text": [
      "[-0.88888888888888884, -0.17333333333333334, -0.11888888888888893]\n",
      "<frozendict {'COMPARE_FACTOR': 1, 'COMPARE_ORIGIN': -0.88888888888888884, 'GAP_OPEN': -0.29222222222222227, 'GAP_EXTEND': -0.11888888888888893, 'EXCHANGE': None}>\n",
      "\n"
     ]
    }
   ],
   "source": [
    "for k in zip(*min_locations):\n",
    "    x = [grids[0][k], grids[1][k], grids[2][k]]\n",
    "    print(x)\n",
    "    print(x2parameters(x))\n",
    "    print()"
   ]
  },
  {
   "cell_type": "markdown",
   "metadata": {
    "deletable": true,
    "editable": true
   },
   "source": [
    "#### 2.2.2 On more restricted boundaries, with discretization=20"
   ]
  },
  {
   "cell_type": "code",
   "execution_count": 16,
   "metadata": {
    "collapsed": true,
    "deletable": true,
    "editable": true
   },
   "outputs": [],
   "source": [
    "x_bounds = [\n",
    "    (-1, -.5), # COMPARE_ORIGIN / COMPARE_FACTOR\n",
    "    (-.5, -.01), # (GAP_OPEN - GAP_EXTEND) / COMPARE_FACTOR\n",
    "    (-.5, -.01), # GAP_EXTEND / COMPARE_FACTOR\n",
    "]"
   ]
  },
  {
   "cell_type": "code",
   "execution_count": 17,
   "metadata": {
    "collapsed": false,
    "deletable": true,
    "editable": true
   },
   "outputs": [
    {
     "name": "stderr",
     "output_type": "stream",
     "text": [
      "100% (8000 of 8000) |#####################| Elapsed Time: 2:33:16 Time: 2:33:16\n"
     ]
    },
    {
     "name": "stdout",
     "output_type": "stream",
     "text": [
      "Min optimisation objective value 242.0, found in 2 points\n"
     ]
    }
   ],
   "source": [
    "discretization = 20\n",
    "n_dims = len(x_bounds)\n",
    "xs = [np.linspace(start, stop, discretization) for (start, stop) in x_bounds]\n",
    "grids = np.meshgrid(*xs, indexing='ij')\n",
    "values = np.zeros_like(grids[0])\n",
    "\n",
    "for i, k in ProgressBar(max_value=len(values.flat))(\n",
    "        enumerate(itertools.product(range(discretization), repeat=n_dims))):\n",
    "    values[k] = objective([grids[j][k] for j in range(n_dims)],\n",
    "                          gold_sentences, gold_alignments)\n",
    "\n",
    "min_value = np.min(values)\n",
    "min_locations = np.where(values == min_value)\n",
    "print('Min optimisation objective value {}, found in {} points'\n",
    "      .format(min_value, len(min_locations[0])))"
   ]
  },
  {
   "cell_type": "code",
   "execution_count": 18,
   "metadata": {
    "collapsed": false,
    "deletable": true,
    "editable": true
   },
   "outputs": [
    {
     "name": "stdout",
     "output_type": "stream",
     "text": [
      "[-0.97368421052631582, -0.16473684210526318, -0.16473684210526318]\n",
      "<frozendict {'COMPARE_FACTOR': 1, 'COMPARE_ORIGIN': -0.97368421052631582, 'GAP_OPEN': -0.32947368421052636, 'GAP_EXTEND': -0.16473684210526318, 'EXCHANGE': None}>\n",
      "\n",
      "[-0.92105263157894735, -0.16473684210526318, -0.13894736842105265]\n",
      "<frozendict {'COMPARE_FACTOR': 1, 'COMPARE_ORIGIN': -0.92105263157894735, 'GAP_OPEN': -0.30368421052631583, 'GAP_EXTEND': -0.13894736842105265, 'EXCHANGE': None}>\n",
      "\n"
     ]
    }
   ],
   "source": [
    "for k in zip(*min_locations):\n",
    "    x = [grids[0][k], grids[1][k], grids[2][k]]\n",
    "    print(x)\n",
    "    print(x2parameters(x))\n",
    "    print()"
   ]
  },
  {
   "cell_type": "markdown",
   "metadata": {
    "deletable": true,
    "editable": true
   },
   "source": [
    "TODO: why less with finer discretisation?"
   ]
  }
 ],
 "metadata": {
  "kernelspec": {
   "display_name": "Python 3",
   "language": "python",
   "name": "python3"
  },
  "language_info": {
   "codemirror_mode": {
    "name": "ipython",
    "version": 3
   },
   "file_extension": ".py",
   "mimetype": "text/x-python",
   "name": "python",
   "nbconvert_exporter": "python",
   "pygments_lexer": "ipython3",
   "version": "3.6.1"
  }
 },
 "nbformat": 4,
 "nbformat_minor": 2
}
