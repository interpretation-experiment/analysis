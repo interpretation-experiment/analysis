{
 "cells": [
  {
   "cell_type": "markdown",
   "metadata": {
    "deletable": true,
    "editable": true
   },
   "source": [
    "# Spam exploration"
   ]
  },
  {
   "cell_type": "markdown",
   "metadata": {
    "deletable": true,
    "editable": true
   },
   "source": [
    "## 1 Setup"
   ]
  },
  {
   "cell_type": "markdown",
   "metadata": {
    "deletable": true,
    "editable": true
   },
   "source": [
    "Flags"
   ]
  },
  {
   "cell_type": "code",
   "execution_count": 1,
   "metadata": {
    "collapsed": true,
    "deletable": true,
    "editable": true
   },
   "outputs": [],
   "source": [
    "SAVE_FIGURES = False"
   ]
  },
  {
   "cell_type": "markdown",
   "metadata": {
    "deletable": true,
    "editable": true
   },
   "source": [
    "Setup the database"
   ]
  },
  {
   "cell_type": "code",
   "execution_count": 2,
   "metadata": {
    "collapsed": false,
    "deletable": true,
    "editable": true
   },
   "outputs": [
    {
     "name": "stdout",
     "output_type": "stream",
     "text": [
      "Database: spreadr_exp_3\n"
     ]
    }
   ],
   "source": [
    "import os, sys\n",
    "sys.path.insert(1, os.path.abspath('../..'))\n",
    "import analysis\n",
    "\n",
    "FIG = os.path.join(os.path.abspath(os.path.curdir), '{}.png')\n",
    "DB_NAME = 'spreadr_' + os.path.split(os.path.abspath(os.path.curdir))[1]\n",
    "analysis.setup(DB_NAME)\n",
    "print('Database:', DB_NAME)"
   ]
  },
  {
   "cell_type": "markdown",
   "metadata": {
    "deletable": true,
    "editable": true
   },
   "source": [
    "Imports for the analysis"
   ]
  },
  {
   "cell_type": "code",
   "execution_count": 3,
   "metadata": {
    "collapsed": false,
    "deletable": true,
    "editable": true
   },
   "outputs": [],
   "source": [
    "from pandas import DataFrame\n",
    "\n",
    "from gists.models import Sentence"
   ]
  },
  {
   "cell_type": "markdown",
   "metadata": {
    "deletable": true,
    "editable": true
   },
   "source": [
    "## 2 Transformation rate per sentence"
   ]
  },
  {
   "cell_type": "markdown",
   "metadata": {
    "deletable": true,
    "editable": true
   },
   "source": [
    "First build our data"
   ]
  },
  {
   "cell_type": "code",
   "execution_count": 4,
   "metadata": {
    "collapsed": false,
    "deletable": true,
    "editable": true
   },
   "outputs": [],
   "source": [
    "sentences = [s for s in\n",
    "             Sentence.objects.experiment.filter(parent__isnull=False)\n",
    "             if not s.rogue and not s.doublepost]\n",
    "data = []\n",
    "for distance in Sentence.DISTANCE_TYPES:\n",
    "    for sentence in sentences:\n",
    "        data.append({\n",
    "                'tree id': sentence.tree.id,\n",
    "                'username': sentence.profile.user.username,\n",
    "                'prolific': sentence.profile.prolific_id,\n",
    "                'distance': distance,\n",
    "                'transformation rate': getattr(sentence, distance + '_distance')(sentence.parent)\n",
    "            })\n",
    "data = DataFrame(data, index=[s.id for _ in Sentence.DISTANCE_TYPES for s in sentences])"
   ]
  },
  {
   "cell_type": "markdown",
   "metadata": {
    "deletable": true,
    "editable": true
   },
   "source": [
    "Not all of these are spam, nor does this list contain all the spam, but it lets us check most of it."
   ]
  },
  {
   "cell_type": "code",
   "execution_count": 5,
   "metadata": {
    "collapsed": false,
    "deletable": true,
    "editable": true,
    "scrolled": false
   },
   "outputs": [
    {
     "name": "stdout",
     "output_type": "stream",
     "text": [
      "Distance: raw\n",
      "      tree id         username                  prolific  transformation rate\n",
      "1061       24  Uncoolfollower7  58219a1097b5100001b9b960             0.951220\n",
      "900        18            david  58ea6499bb572d000121a096             0.945055\n",
      "848         5              mjg  58b0d302731c3f0001d2750b             0.931034\n",
      "987        11          Daryl92  5714e0958adadb00098deed4             0.891892\n",
      "903         8        weepostie  56f99190895094000b922acf             0.886364\n",
      "1354        9       DJScoobieD  58d3af29685589000142cce0             0.871795\n",
      "1162        8          Daryl92  5714e0958adadb00098deed4             0.866667\n",
      "1013        6  Uncoolfollower7  58219a1097b5100001b9b960             0.854545\n",
      "2224       37       hootyowlie  57431ca11466ad000e685a93             0.847826\n",
      "1111       21  Uncoolfollower7  58219a1097b5100001b9b960             0.843750\n",
      "910        12            david  58ea6499bb572d000121a096             0.841584\n",
      "922         4        weepostie  56f99190895094000b922acf             0.837209\n",
      "3715       54            onkar  56b7b0eae77ebe000cbf5889             0.836538\n",
      "919        15            david  58ea6499bb572d000121a096             0.836364\n",
      "816        20        weepostie  56f99190895094000b922acf             0.835821\n",
      "1068       25  Uncoolfollower7  58219a1097b5100001b9b960             0.834783\n",
      "781         8         DEEDEE67  579226da16a091000112cb85             0.829545\n",
      "1456       23         vincmuir  57b53ad8a18afd00013e0565             0.828125\n",
      "956        27           Yasmin  56cefc4cb009e1000aa73684             0.827273\n",
      "1449        9              sjr  58aacb1476c5b70001662661             0.823529\n",
      "\n",
      "Distance: ow\n",
      "      tree id        username                  prolific  transformation rate\n",
      "1114       19         Daryl92  5714e0958adadb00098deed4             1.000000\n",
      "3570       32           onkar  56b7b0eae77ebe000cbf5889             1.000000\n",
      "1036       10         Daryl92  5714e0958adadb00098deed4             1.000000\n",
      "3283       33          DD6891  5727bc0522e522001079efff             1.000000\n",
      "3043       41            Matt  588126f90234ec00016eff60             1.000000\n",
      "3969       49      nat__dup_1  589c74326a8d3b00017ebb17             1.000000\n",
      "1456       23        vincmuir  57b53ad8a18afd00013e0565             1.000000\n",
      "3715       54           onkar  56b7b0eae77ebe000cbf5889             1.000000\n",
      "1168       18         Daryl92  5714e0958adadb00098deed4             0.956522\n",
      "1451       28        vincmuir  57b53ad8a18afd00013e0565             0.947368\n",
      "3004       42            Matt  588126f90234ec00016eff60             0.947368\n",
      "2397       51           Jules  57ee8eb1e62704000199d5ae             0.944444\n",
      "1010       12         unicorn  58e627277f27080001eaea4c             0.916667\n",
      "1449        9             sjr  58aacb1476c5b70001662661             0.916667\n",
      "1368       26        vincmuir  57b53ad8a18afd00013e0565             0.911765\n",
      "1356       12        vincmuir  57b53ad8a18afd00013e0565             0.909091\n",
      "3228       52  ElliotHollings  58de70ac1400fc0001207546             0.909091\n",
      "2224       37      hootyowlie  57431ca11466ad000e685a93             0.904762\n",
      "1341       20        vincmuir  57b53ad8a18afd00013e0565             0.896552\n",
      "2132       32      hootyowlie  57431ca11466ad000e685a93             0.894737\n",
      "\n",
      "Distance: oc\n",
      "      tree id        username                  prolific  transformation rate\n",
      "1010       12         unicorn  58e627277f27080001eaea4c             1.000000\n",
      "1443       13        vincmuir  57b53ad8a18afd00013e0565             1.000000\n",
      "3228       52  ElliotHollings  58de70ac1400fc0001207546             1.000000\n",
      "3715       54           onkar  56b7b0eae77ebe000cbf5889             1.000000\n",
      "792        15        DEEDEE67  579226da16a091000112cb85             1.000000\n",
      "1178        9         Daryl92  5714e0958adadb00098deed4             1.000000\n",
      "3695       50           onkar  56b7b0eae77ebe000cbf5889             1.000000\n",
      "1451       28        vincmuir  57b53ad8a18afd00013e0565             1.000000\n",
      "1071        4         Daryl92  5714e0958adadb00098deed4             1.000000\n",
      "3969       49      nat__dup_1  589c74326a8d3b00017ebb17             1.000000\n",
      "3717       33           onkar  56b7b0eae77ebe000cbf5889             1.000000\n",
      "3690       42           onkar  56b7b0eae77ebe000cbf5889             1.000000\n",
      "3570       32           onkar  56b7b0eae77ebe000cbf5889             1.000000\n",
      "1085       23         Daryl92  5714e0958adadb00098deed4             1.000000\n",
      "3283       33          DD6891  5727bc0522e522001079efff             1.000000\n",
      "1341       20        vincmuir  57b53ad8a18afd00013e0565             0.923077\n",
      "2169       49      hootyowlie  57431ca11466ad000e685a93             0.923077\n",
      "2330       51      Kellie2129  58eb648394cb4b00017fe739             0.923077\n",
      "2094       42           bbaby  58c1cd465e07b6000139dd73             0.916667\n",
      "2397       51           Jules  57ee8eb1e62704000199d5ae             0.909091\n",
      "\n",
      "Distance: uc\n",
      "      tree id         username                  prolific  transformation rate\n",
      "3283       33           DD6891  5727bc0522e522001079efff             1.000000\n",
      "3570       32            onkar  56b7b0eae77ebe000cbf5889             1.000000\n",
      "792        15         DEEDEE67  579226da16a091000112cb85             1.000000\n",
      "3690       42            onkar  56b7b0eae77ebe000cbf5889             1.000000\n",
      "1010       12          unicorn  58e627277f27080001eaea4c             1.000000\n",
      "3228       52   ElliotHollings  58de70ac1400fc0001207546             1.000000\n",
      "3715       54            onkar  56b7b0eae77ebe000cbf5889             1.000000\n",
      "3695       50            onkar  56b7b0eae77ebe000cbf5889             1.000000\n",
      "3717       33            onkar  56b7b0eae77ebe000cbf5889             1.000000\n",
      "3969       49       nat__dup_1  589c74326a8d3b00017ebb17             1.000000\n",
      "2094       42            bbaby  58c1cd465e07b6000139dd73             0.937500\n",
      "1061       24  Uncoolfollower7  58219a1097b5100001b9b960             0.909091\n",
      "2450       48            Jules  57ee8eb1e62704000199d5ae             0.909091\n",
      "2508       52            Jules  57ee8eb1e62704000199d5ae             0.900000\n",
      "398         4       kaleem1606  578173b74a84da00014c2f84             0.888889\n",
      "2190       55       hootyowlie  57431ca11466ad000e685a93             0.888889\n",
      "2169       49       hootyowlie  57431ca11466ad000e685a93             0.882353\n",
      "2330       51       Kellie2129  58eb648394cb4b00017fe739             0.882353\n",
      "2331       32       Kellie2129  58eb648394cb4b00017fe739             0.875000\n",
      "848         5              mjg  58b0d302731c3f0001d2750b             0.875000\n",
      "\n"
     ]
    }
   ],
   "source": [
    "for distance in Sentence.DISTANCE_TYPES:\n",
    "    print('Distance: {}'.format(distance))\n",
    "    print(data[data.distance == distance].sort_values(by='transformation rate', ascending=False)\n",
    "          [['tree id', 'username', 'prolific', 'transformation rate']].head(20))\n",
    "    print()"
   ]
  }
 ],
 "metadata": {
  "kernelspec": {
   "display_name": "Python 3",
   "language": "python",
   "name": "python3"
  },
  "language_info": {
   "codemirror_mode": {
    "name": "ipython",
    "version": 3
   },
   "file_extension": ".py",
   "mimetype": "text/x-python",
   "name": "python",
   "nbconvert_exporter": "python",
   "pygments_lexer": "ipython3",
   "version": "3.6.0"
  }
 },
 "nbformat": 4,
 "nbformat_minor": 0
}
