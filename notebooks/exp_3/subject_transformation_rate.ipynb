{
 "cells": [
  {
   "cell_type": "markdown",
   "metadata": {
    "deletable": true,
    "editable": true
   },
   "source": [
    "# Subject transformation rate"
   ]
  },
  {
   "cell_type": "markdown",
   "metadata": {
    "deletable": true,
    "editable": true
   },
   "source": [
    "## 1 Setup"
   ]
  },
  {
   "cell_type": "markdown",
   "metadata": {
    "deletable": true,
    "editable": true
   },
   "source": [
    "Flags"
   ]
  },
  {
   "cell_type": "code",
   "execution_count": 1,
   "metadata": {
    "collapsed": true,
    "deletable": true,
    "editable": true
   },
   "outputs": [],
   "source": [
    "SAVE_FIGURES = False"
   ]
  },
  {
   "cell_type": "markdown",
   "metadata": {
    "deletable": true,
    "editable": true
   },
   "source": [
    "Setup the database"
   ]
  },
  {
   "cell_type": "code",
   "execution_count": 2,
   "metadata": {
    "collapsed": false,
    "deletable": true,
    "editable": true
   },
   "outputs": [
    {
     "name": "stdout",
     "output_type": "stream",
     "text": [
      "Database: spreadr_exp_3\n"
     ]
    }
   ],
   "source": [
    "import os, sys\n",
    "sys.path.insert(1, os.path.abspath('../..'))\n",
    "import analysis\n",
    "\n",
    "FIG = os.path.join(os.path.abspath(os.path.curdir), '{}.png')\n",
    "DB_NAME = 'spreadr_' + os.path.split(os.path.abspath(os.path.curdir))[1]\n",
    "analysis.setup(DB_NAME)\n",
    "print('Database:', DB_NAME)"
   ]
  },
  {
   "cell_type": "markdown",
   "metadata": {
    "deletable": true,
    "editable": true
   },
   "source": [
    "Imports for the analysis"
   ]
  },
  {
   "cell_type": "code",
   "execution_count": 3,
   "metadata": {
    "collapsed": false,
    "deletable": true,
    "editable": true
   },
   "outputs": [],
   "source": [
    "from pandas import DataFrame\n",
    "from django.db.models import Count\n",
    "\n",
    "from gists.models import Sentence, Profile, GistsConfiguration\n",
    "\n",
    "config = GistsConfiguration.get_solo()"
   ]
  },
  {
   "cell_type": "markdown",
   "metadata": {
    "deletable": true,
    "editable": true
   },
   "source": [
    "## 2 Transformation rate per subject"
   ]
  },
  {
   "cell_type": "markdown",
   "metadata": {
    "deletable": true,
    "editable": true
   },
   "source": [
    "First build our data"
   ]
  },
  {
   "cell_type": "code",
   "execution_count": 4,
   "metadata": {
    "collapsed": false,
    "deletable": true,
    "editable": true
   },
   "outputs": [],
   "source": [
    "profiles = Profile.objects\\\n",
    "    .annotate(Count('sentences'))\\\n",
    "    .filter(sentences__count=config.experiment_work + config.training_work,\n",
    "            user__is_staff=False)\n",
    "data = []\n",
    "for distance in Sentence.DISTANCE_TYPES:\n",
    "    for profile in profiles:\n",
    "        data.append({\n",
    "                'username': profile.user.username,\n",
    "                'prolific': profile.prolific_id,\n",
    "                'distance': distance,\n",
    "                'transformation rate': profile.transformation_rate(distance)\n",
    "            })\n",
    "data = DataFrame(data)"
   ]
  },
  {
   "cell_type": "code",
   "execution_count": 5,
   "metadata": {
    "collapsed": false,
    "deletable": true,
    "editable": true,
    "scrolled": false
   },
   "outputs": [
    {
     "name": "stdout",
     "output_type": "stream",
     "text": [
      "Distance: raw\n",
      "                     username                  prolific  transformation rate\n",
      "38                      James  58e3a1700a0f6e0001583a9c             0.002875\n",
      "129                    hayden  57681fca8e454c000133a203             0.005859\n",
      "64                      martr  5809d7202e30a90001da9772             0.007720\n",
      "11                   Laechnor  57c8adc4c6c5ed00013fa2a0             0.013352\n",
      "36                    unicorn  58e627277f27080001eaea4c             0.014744\n",
      "123                    milton  55b35d6ffdf99b7e6a9904c0             0.014961\n",
      "44                Nightmares1  57b2fb9ff0ed6e000151776a             0.017305\n",
      "137                     Iaink  58cc615c27e23a0001b4fe69             0.021228\n",
      "63                     Sharon  589b9715a7d45800010429b6             0.024155\n",
      "119                   Stewart  57f7a412b603d90001945fbb             0.031290\n",
      "130                   abigail  58d92cae33fef3000118a7e9             0.031329\n",
      "35                    hannahj  5714a4b18adadb00128deb77             0.031712\n",
      "48   5863de9de9cb31000195e5e4  5863de9de9cb31000195e5e4             0.038078\n",
      "136                 TomRiddle  5836f2421bf4040001eb6a36             0.039399\n",
      "102                        NB  58d107ff2fc72000011f8d0e             0.039543\n",
      "46                 Roddickman  58b99fcaf814e400015249bc             0.040930\n",
      "61                      Julia  55b6be53fdf99b437183f96d             0.042646\n",
      "83                 HarryBrown  58e64c34ad3fdb00011b055f             0.046028\n",
      "16                      qazin  57c4761195a3ea00016e5992             0.047843\n",
      "28                        zoe  56abcb46f209e0000adab961             0.048193\n",
      "58                 jojosprite  5778f087ca706f000190edbb             0.050098\n",
      "65                    profjmw  57797d333146cb0001d1b261             0.050164\n",
      "134                  EmmaLowe  5840a23e462286000136b652             0.051169\n",
      "67                     budgie  571a57e56a1c6300124bb6bd             0.051940\n",
      "121                    Morgan  5825f44f95f3030001cf88a4             0.052581\n",
      "53                       Nick  58d692e033fef30001189c4e             0.054055\n",
      "96                    Pauline  56fee62304254b000e00169b             0.056384\n",
      "47                    Foxyguy  57a8356b25cb71000128c1cd             0.058444\n",
      "5                    Jonathan  58c565298a3f870001c0e70d             0.061429\n",
      "68                      joey5  56968912b3cad1000de43f23             0.061937\n",
      "..                        ...                       ...                  ...\n",
      "120                      Jane  562cd833733ea000111632ba             0.222058\n",
      "50                        sjr  58aacb1476c5b70001662661             0.222378\n",
      "94                      Katie  55a145fcfdf99b6ec83c2470             0.224353\n",
      "112                kelley4eva  58c539c993dac30001d49be0             0.226796\n",
      "33                      Laura  572faa2cad131600100169b5             0.236258\n",
      "17                       Will  58c34ea95e07b6000139df7b             0.236740\n",
      "9                       Ellen  56abeb6ff209e0000bdaba4d             0.242276\n",
      "70                      bbaby  58c1cd465e07b6000139dd73             0.252267\n",
      "95                  karenlola  57698d52688a5c00018d958d             0.254860\n",
      "1                       jackh  57f9238bc786ac00011ebc72             0.261675\n",
      "49                indigorblue  577e3a5025cb71000128727e             0.263536\n",
      "30                      david  58ea6499bb572d000121a096             0.277983\n",
      "22                      nickc  56872a0b369319000c269035             0.286403\n",
      "73                 hootyowlie  57431ca11466ad000e685a93             0.286616\n",
      "15                     ctsang  58e98013025fc40001cb567a             0.295522\n",
      "107                Zoe__dup_1  585af6d431a48f00017ab3e1             0.300815\n",
      "72                     Robbie  58dcc6da5d02990001fa6b8b             0.308088\n",
      "23                        mjg  58b0d302731c3f0001d2750b             0.330988\n",
      "31                  weepostie  56f99190895094000b922acf             0.333424\n",
      "7                 sarah861421  581b666bd238be00018a6e45             0.340720\n",
      "104                      Matt  588126f90234ec00016eff60             0.345717\n",
      "40            Uncoolfollower7  58219a1097b5100001b9b960             0.369783\n",
      "85                       Tavz  5751ddcaa300c500073d0344             0.390276\n",
      "69                    amberkf  56d08f34197fb10006233e01             0.393733\n",
      "79                      Jules  57ee8eb1e62704000199d5ae             0.408346\n",
      "6                    98cromel  58c431cf3532d300014d12ff             0.408585\n",
      "77                 Kellie2129  58eb648394cb4b00017fe739             0.436376\n",
      "122                     onkar  56b7b0eae77ebe000cbf5889             0.525797\n",
      "32                    Daryl92  5714e0958adadb00098deed4             0.586938\n",
      "27                   DEEDEE67  579226da16a091000112cb85             0.790828\n",
      "\n",
      "[139 rows x 3 columns]\n",
      "\n",
      "Distance: ow\n",
      "                     username                  prolific  transformation rate\n",
      "262                    milton  55b35d6ffdf99b7e6a9904c0             0.005039\n",
      "268                    hayden  57681fca8e454c000133a203             0.005318\n",
      "177                     James  58e3a1700a0f6e0001583a9c             0.006165\n",
      "203                     martr  5809d7202e30a90001da9772             0.007348\n",
      "150                  Laechnor  57c8adc4c6c5ed00013fa2a0             0.012494\n",
      "276                     Iaink  58cc615c27e23a0001b4fe69             0.018438\n",
      "183               Nightmares1  57b2fb9ff0ed6e000151776a             0.018573\n",
      "202                    Sharon  589b9715a7d45800010429b6             0.021290\n",
      "275                 TomRiddle  5836f2421bf4040001eb6a36             0.027173\n",
      "175                   unicorn  58e627277f27080001eaea4c             0.031954\n",
      "258                   Stewart  57f7a412b603d90001945fbb             0.035452\n",
      "206                    budgie  571a57e56a1c6300124bb6bd             0.038248\n",
      "269                   abigail  58d92cae33fef3000118a7e9             0.038479\n",
      "174                   hannahj  5714a4b18adadb00128deb77             0.040343\n",
      "186                   Foxyguy  57a8356b25cb71000128c1cd             0.044633\n",
      "187  5863de9de9cb31000195e5e4  5863de9de9cb31000195e5e4             0.046960\n",
      "241                        NB  58d107ff2fc72000011f8d0e             0.047002\n",
      "167                       zoe  56abcb46f209e0000adab961             0.047902\n",
      "222                HarryBrown  58e64c34ad3fdb00011b055f             0.051563\n",
      "200                     Julia  55b6be53fdf99b437183f96d             0.054242\n",
      "192                      Nick  58d692e033fef30001189c4e             0.058780\n",
      "235                   Pauline  56fee62304254b000e00169b             0.060467\n",
      "185                Roddickman  58b99fcaf814e400015249bc             0.060564\n",
      "204                   profjmw  57797d333146cb0001d1b261             0.060761\n",
      "155                     qazin  57c4761195a3ea00016e5992             0.062442\n",
      "260                    Morgan  5825f44f95f3030001cf88a4             0.065093\n",
      "144                  Jonathan  58c565298a3f870001c0e70d             0.065426\n",
      "197                jojosprite  5778f087ca706f000190edbb             0.065583\n",
      "207                     joey5  56968912b3cad1000de43f23             0.070537\n",
      "249                    DD6891  5727bc0522e522001079efff             0.078824\n",
      "..                        ...                       ...                  ...\n",
      "233                     Katie  55a145fcfdf99b6ec83c2470             0.254558\n",
      "210                lhanson096  58c1bf3dda66280001b3c4b6             0.259398\n",
      "149                  GregK123  55ff649977f33b0012cb35e1             0.260034\n",
      "172                     Laura  572faa2cad131600100169b5             0.261550\n",
      "165                 lepickers  5740b77ea0a4b2000fb02d95             0.262341\n",
      "259                      Jane  562cd833733ea000111632ba             0.267375\n",
      "189                       sjr  58aacb1476c5b70001662661             0.268087\n",
      "234                 karenlola  57698d52688a5c00018d958d             0.268330\n",
      "148                     Ellen  56abeb6ff209e0000bdaba4d             0.278284\n",
      "179           Uncoolfollower7  58219a1097b5100001b9b960             0.288541\n",
      "170                 weepostie  56f99190895094000b922acf             0.298766\n",
      "188               indigorblue  577e3a5025cb71000128727e             0.298911\n",
      "209                     bbaby  58c1cd465e07b6000139dd73             0.307495\n",
      "156                      Will  58c34ea95e07b6000139df7b             0.313347\n",
      "140                     jackh  57f9238bc786ac00011ebc72             0.321741\n",
      "162                       mjg  58b0d302731c3f0001d2750b             0.322402\n",
      "154                    ctsang  58e98013025fc40001cb567a             0.348968\n",
      "246                Zoe__dup_1  585af6d431a48f00017ab3e1             0.351234\n",
      "212                hootyowlie  57431ca11466ad000e685a93             0.360904\n",
      "161                     nickc  56872a0b369319000c269035             0.364467\n",
      "211                    Robbie  58dcc6da5d02990001fa6b8b             0.378312\n",
      "146               sarah861421  581b666bd238be00018a6e45             0.393428\n",
      "243                      Matt  588126f90234ec00016eff60             0.410655\n",
      "145                  98cromel  58c431cf3532d300014d12ff             0.411783\n",
      "208                   amberkf  56d08f34197fb10006233e01             0.430283\n",
      "224                      Tavz  5751ddcaa300c500073d0344             0.447036\n",
      "218                     Jules  57ee8eb1e62704000199d5ae             0.464780\n",
      "216                Kellie2129  58eb648394cb4b00017fe739             0.489918\n",
      "261                     onkar  56b7b0eae77ebe000cbf5889             0.549442\n",
      "171                   Daryl92  5714e0958adadb00098deed4             0.684400\n",
      "\n",
      "[139 rows x 3 columns]\n",
      "\n",
      "Distance: oc\n",
      "                     username                  prolific  transformation rate\n",
      "342                     martr  5809d7202e30a90001da9772             0.003247\n",
      "316                     James  58e3a1700a0f6e0001583a9c             0.003968\n",
      "407                    hayden  57681fca8e454c000133a203             0.004115\n",
      "401                    milton  55b35d6ffdf99b7e6a9904c0             0.007766\n",
      "289                  Laechnor  57c8adc4c6c5ed00013fa2a0             0.014448\n",
      "314                   unicorn  58e627277f27080001eaea4c             0.018210\n",
      "414                 TomRiddle  5836f2421bf4040001eb6a36             0.020461\n",
      "415                     Iaink  58cc615c27e23a0001b4fe69             0.021187\n",
      "408                   abigail  58d92cae33fef3000118a7e9             0.021276\n",
      "322               Nightmares1  57b2fb9ff0ed6e000151776a             0.023771\n",
      "341                    Sharon  589b9715a7d45800010429b6             0.027793\n",
      "313                   hannahj  5714a4b18adadb00128deb77             0.031621\n",
      "326  5863de9de9cb31000195e5e4  5863de9de9cb31000195e5e4             0.033260\n",
      "345                    budgie  571a57e56a1c6300124bb6bd             0.034707\n",
      "339                     Julia  55b6be53fdf99b437183f96d             0.035113\n",
      "331                      Nick  58d692e033fef30001189c4e             0.035208\n",
      "294                     qazin  57c4761195a3ea00016e5992             0.036941\n",
      "324                Roddickman  58b99fcaf814e400015249bc             0.037530\n",
      "397                   Stewart  57f7a412b603d90001945fbb             0.040776\n",
      "380                        NB  58d107ff2fc72000011f8d0e             0.043089\n",
      "412                  EmmaLowe  5840a23e462286000136b652             0.044776\n",
      "306                       zoe  56abcb46f209e0000adab961             0.045688\n",
      "361                HarryBrown  58e64c34ad3fdb00011b055f             0.051118\n",
      "336                jojosprite  5778f087ca706f000190edbb             0.054250\n",
      "283                  Jonathan  58c565298a3f870001c0e70d             0.054924\n",
      "399                    Morgan  5825f44f95f3030001cf88a4             0.056634\n",
      "374                   Pauline  56fee62304254b000e00169b             0.060179\n",
      "325                   Foxyguy  57a8356b25cb71000128c1cd             0.071047\n",
      "356                  lougibby  58b5614cb1dcb40001960aed             0.073682\n",
      "377               poppytwist1  57ff8c2d90de420001673aa0             0.074349\n",
      "..                        ...                       ...                  ...\n",
      "292                     gilly  5745ef705bef98000fadc462             0.237244\n",
      "349                lhanson096  58c1bf3dda66280001b3c4b6             0.242896\n",
      "287                     Ellen  56abeb6ff209e0000bdaba4d             0.257525\n",
      "308                     david  58ea6499bb572d000121a096             0.261558\n",
      "327               indigorblue  577e3a5025cb71000128727e             0.267624\n",
      "295                      Will  58c34ea95e07b6000139df7b             0.269508\n",
      "373                 karenlola  57698d52688a5c00018d958d             0.269988\n",
      "398                      Jane  562cd833733ea000111632ba             0.273039\n",
      "318           Uncoolfollower7  58219a1097b5100001b9b960             0.273924\n",
      "372                     Katie  55a145fcfdf99b6ec83c2470             0.274189\n",
      "307                     Brook  57f11328f283e200011bc93e             0.274733\n",
      "309                 weepostie  56f99190895094000b922acf             0.282331\n",
      "305                  DEEDEE67  579226da16a091000112cb85             0.290796\n",
      "348                     bbaby  58c1cd465e07b6000139dd73             0.300885\n",
      "279                     jackh  57f9238bc786ac00011ebc72             0.309134\n",
      "293                    ctsang  58e98013025fc40001cb567a             0.320986\n",
      "301                       mjg  58b0d302731c3f0001d2750b             0.323922\n",
      "385                Zoe__dup_1  585af6d431a48f00017ab3e1             0.326789\n",
      "382                      Matt  588126f90234ec00016eff60             0.346636\n",
      "300                     nickc  56872a0b369319000c269035             0.350851\n",
      "350                    Robbie  58dcc6da5d02990001fa6b8b             0.367907\n",
      "351                hootyowlie  57431ca11466ad000e685a93             0.381706\n",
      "284                  98cromel  58c431cf3532d300014d12ff             0.402708\n",
      "285               sarah861421  581b666bd238be00018a6e45             0.405789\n",
      "347                   amberkf  56d08f34197fb10006233e01             0.423625\n",
      "363                      Tavz  5751ddcaa300c500073d0344             0.444922\n",
      "355                Kellie2129  58eb648394cb4b00017fe739             0.457577\n",
      "357                     Jules  57ee8eb1e62704000199d5ae             0.503645\n",
      "400                     onkar  56b7b0eae77ebe000cbf5889             0.554824\n",
      "310                   Daryl92  5714e0958adadb00098deed4             0.646945\n",
      "\n",
      "[139 rows x 3 columns]\n",
      "\n",
      "Distance: uc\n",
      "                     username                  prolific  transformation rate\n",
      "455                     James  58e3a1700a0f6e0001583a9c             0.003968\n",
      "481                     martr  5809d7202e30a90001da9772             0.005952\n",
      "546                    hayden  57681fca8e454c000133a203             0.007407\n",
      "540                    milton  55b35d6ffdf99b7e6a9904c0             0.011506\n",
      "554                     Iaink  58cc615c27e23a0001b4fe69             0.014486\n",
      "428                  Laechnor  57c8adc4c6c5ed00013fa2a0             0.017772\n",
      "452                   hannahj  5714a4b18adadb00128deb77             0.020276\n",
      "461               Nightmares1  57b2fb9ff0ed6e000151776a             0.024675\n",
      "553                 TomRiddle  5836f2421bf4040001eb6a36             0.024691\n",
      "453                   unicorn  58e627277f27080001eaea4c             0.024902\n",
      "547                   abigail  58d92cae33fef3000118a7e9             0.030303\n",
      "470                      Nick  58d692e033fef30001189c4e             0.035038\n",
      "480                    Sharon  589b9715a7d45800010429b6             0.037231\n",
      "484                    budgie  571a57e56a1c6300124bb6bd             0.039033\n",
      "465  5863de9de9cb31000195e5e4  5863de9de9cb31000195e5e4             0.041013\n",
      "433                     qazin  57c4761195a3ea00016e5992             0.041281\n",
      "551                  EmmaLowe  5840a23e462286000136b652             0.041392\n",
      "478                     Julia  55b6be53fdf99b437183f96d             0.044589\n",
      "463                Roddickman  58b99fcaf814e400015249bc             0.044902\n",
      "422                  Jonathan  58c565298a3f870001c0e70d             0.047024\n",
      "445                       zoe  56abcb46f209e0000adab961             0.050520\n",
      "536                   Stewart  57f7a412b603d90001945fbb             0.055025\n",
      "500                HarryBrown  58e64c34ad3fdb00011b055f             0.059805\n",
      "475                jojosprite  5778f087ca706f000190edbb             0.062602\n",
      "513                   Pauline  56fee62304254b000e00169b             0.063706\n",
      "516               poppytwist1  57ff8c2d90de420001673aa0             0.069051\n",
      "519                        NB  58d107ff2fc72000011f8d0e             0.070724\n",
      "527                    DD6891  5727bc0522e522001079efff             0.074197\n",
      "538                    Morgan  5825f44f95f3030001cf88a4             0.074233\n",
      "530                Amberberry  57a4ce3a82f7f90001eea7c7             0.075811\n",
      "..                        ...                       ...                  ...\n",
      "431                     gilly  5745ef705bef98000fadc462             0.244036\n",
      "529                kelley4eva  58c539c993dac30001d49be0             0.254871\n",
      "488                lhanson096  58c1bf3dda66280001b3c4b6             0.255866\n",
      "537                      Jane  562cd833733ea000111632ba             0.261233\n",
      "450                     Laura  572faa2cad131600100169b5             0.262259\n",
      "521                      Matt  588126f90234ec00016eff60             0.269588\n",
      "447                     david  58ea6499bb572d000121a096             0.278711\n",
      "512                 karenlola  57698d52688a5c00018d958d             0.278971\n",
      "511                     Katie  55a145fcfdf99b6ec83c2470             0.281660\n",
      "446                     Brook  57f11328f283e200011bc93e             0.288982\n",
      "418                     jackh  57f9238bc786ac00011ebc72             0.295630\n",
      "426                     Ellen  56abeb6ff209e0000bdaba4d             0.300290\n",
      "457           Uncoolfollower7  58219a1097b5100001b9b960             0.304886\n",
      "448                 weepostie  56f99190895094000b922acf             0.306851\n",
      "432                    ctsang  58e98013025fc40001cb567a             0.307519\n",
      "434                      Will  58c34ea95e07b6000139df7b             0.316788\n",
      "487                     bbaby  58c1cd465e07b6000139dd73             0.316965\n",
      "440                       mjg  58b0d302731c3f0001d2750b             0.334926\n",
      "524                Zoe__dup_1  585af6d431a48f00017ab3e1             0.353317\n",
      "489                    Robbie  58dcc6da5d02990001fa6b8b             0.354052\n",
      "439                     nickc  56872a0b369319000c269035             0.359069\n",
      "424               sarah861421  581b666bd238be00018a6e45             0.373096\n",
      "444                  DEEDEE67  579226da16a091000112cb85             0.379089\n",
      "486                   amberkf  56d08f34197fb10006233e01             0.388911\n",
      "490                hootyowlie  57431ca11466ad000e685a93             0.394575\n",
      "423                  98cromel  58c431cf3532d300014d12ff             0.409259\n",
      "502                      Tavz  5751ddcaa300c500073d0344             0.443521\n",
      "494                Kellie2129  58eb648394cb4b00017fe739             0.489709\n",
      "496                     Jules  57ee8eb1e62704000199d5ae             0.503943\n",
      "539                     onkar  56b7b0eae77ebe000cbf5889             0.556883\n",
      "\n",
      "[139 rows x 3 columns]\n",
      "\n"
     ]
    }
   ],
   "source": [
    "for distance in Sentence.DISTANCE_TYPES:\n",
    "    print('Distance: {}'.format(distance))\n",
    "    print(data[data.distance == distance].sort_values(by='transformation rate')\n",
    "          [['username', 'prolific', 'transformation rate']])\n",
    "    print()"
   ]
  }
 ],
 "metadata": {
  "kernelspec": {
   "display_name": "Python 3",
   "language": "python",
   "name": "python3"
  },
  "language_info": {
   "codemirror_mode": {
    "name": "ipython",
    "version": 3
   },
   "file_extension": ".py",
   "mimetype": "text/x-python",
   "name": "python",
   "nbconvert_exporter": "python",
   "pygments_lexer": "ipython3",
   "version": "3.6.0"
  }
 },
 "nbformat": 4,
 "nbformat_minor": 0
}
