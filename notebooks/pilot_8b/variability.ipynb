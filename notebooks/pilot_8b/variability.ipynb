{
 "cells": [
  {
   "cell_type": "markdown",
   "metadata": {
    "deletable": true,
    "editable": true
   },
   "source": [
    "# Variability in the branches"
   ]
  },
  {
   "cell_type": "markdown",
   "metadata": {
    "deletable": true,
    "editable": true
   },
   "source": [
    "## 1 Setup"
   ]
  },
  {
   "cell_type": "markdown",
   "metadata": {
    "deletable": true,
    "editable": true
   },
   "source": [
    "Flags"
   ]
  },
  {
   "cell_type": "code",
   "execution_count": 1,
   "metadata": {
    "collapsed": true,
    "deletable": true,
    "editable": true
   },
   "outputs": [],
   "source": [
    "SAVE_FIGURES = False"
   ]
  },
  {
   "cell_type": "markdown",
   "metadata": {
    "deletable": true,
    "editable": true
   },
   "source": [
    "Setup the database"
   ]
  },
  {
   "cell_type": "code",
   "execution_count": 2,
   "metadata": {
    "collapsed": false,
    "deletable": true,
    "editable": true
   },
   "outputs": [
    {
     "name": "stdout",
     "output_type": "stream",
     "text": [
      "Database: spreadr_pilot_8b\n"
     ]
    }
   ],
   "source": [
    "import os, sys\n",
    "sys.path.insert(1, os.path.abspath('../..'))\n",
    "import analysis\n",
    "\n",
    "FIG = os.path.join(os.path.abspath(os.path.curdir), '{}.png')\n",
    "DB_NAME = 'spreadr_' + os.path.split(os.path.abspath(os.path.curdir))[1]\n",
    "analysis.setup(DB_NAME)\n",
    "print('Database:', DB_NAME)"
   ]
  },
  {
   "cell_type": "markdown",
   "metadata": {
    "deletable": true,
    "editable": true
   },
   "source": [
    "Imports for the analysis"
   ]
  },
  {
   "cell_type": "code",
   "execution_count": 3,
   "metadata": {
    "collapsed": false,
    "deletable": true,
    "editable": true
   },
   "outputs": [],
   "source": [
    "from itertools import combinations\n",
    "\n",
    "%matplotlib inline\n",
    "import matplotlib.pyplot as plt\n",
    "from matplotlib.collections import LineCollection\n",
    "from matplotlib.patches import Patch\n",
    "import numpy as np\n",
    "import pandas as pd\n",
    "from pandas import DataFrame, concat\n",
    "import seaborn as sb\n",
    "from sklearn.manifold import MDS\n",
    "\n",
    "from gists.models import Sentence, Tree\n",
    "\n",
    "from analysis.utils import grouper, memoized, mpl_palette"
   ]
  },
  {
   "cell_type": "markdown",
   "metadata": {
    "deletable": true,
    "editable": true
   },
   "source": [
    "## 2 Slice variability ~ depth"
   ]
  },
  {
   "cell_type": "markdown",
   "metadata": {
    "deletable": true,
    "editable": true
   },
   "source": [
    "First define slice variability on a tree"
   ]
  },
  {
   "cell_type": "code",
   "execution_count": 4,
   "metadata": {
    "collapsed": false,
    "deletable": true,
    "editable": true
   },
   "outputs": [],
   "source": [
    "def variabilities(sentences):\n",
    "    return np.array([s1.oc_distance(s2)\n",
    "                     for s1, s2 in combinations(sentences, 2)])\n",
    "\n",
    "@memoized\n",
    "def get_leaves(self):\n",
    "    return [s for s in self.sentences.kept.all() if s.children.kept.count() == 0]\n",
    "\n",
    "@memoized\n",
    "def get_depth(self):\n",
    "    return np.max([l.depth for l in self.leaves])\n",
    "\n",
    "@memoized\n",
    "def get_min_depth(self):\n",
    "    return np.min([l.depth for l in self.leaves])\n",
    "\n",
    "@memoized\n",
    "def get_slice(self, depth):\n",
    "    return [s for s in self.sentences.kept if s.depth == depth]\n",
    "\n",
    "@memoized\n",
    "def get_slice_variabilities(self, depth):\n",
    "    return variabilities(self.get_slice(depth))\n",
    "\n",
    "Tree.leaves = property(get_leaves)\n",
    "Tree.depth = property(get_depth)\n",
    "Tree.min_depth = property(get_min_depth)\n",
    "Tree.get_slice = get_slice\n",
    "Tree.get_slice_variabilities = get_slice_variabilities"
   ]
  },
  {
   "cell_type": "markdown",
   "metadata": {
    "deletable": true,
    "editable": true
   },
   "source": [
    "Then generate our data"
   ]
  },
  {
   "cell_type": "code",
   "execution_count": 5,
   "metadata": {
    "collapsed": false,
    "deletable": true,
    "editable": true
   },
   "outputs": [],
   "source": [
    "trees = Tree.objects.experiment.all()\n",
    "data = []\n",
    "for tree in trees:\n",
    "    root_length = len(tree.root.content_words)\n",
    "    for depth in range(1, tree.depth + 1):\n",
    "        for v in tree.get_slice_variabilities(depth):\n",
    "            data.append({'tree id': tree.id,\n",
    "                         'depth': depth,\n",
    "                         'root length': root_length,\n",
    "                         'slice variabilities': v})\n",
    "data = DataFrame(data)\n",
    "root_order = data.groupby('tree id', as_index=False).mean().sort_values(\\\n",
    "    ['root length', 'tree id'])"
   ]
  },
  {
   "cell_type": "code",
   "execution_count": 6,
   "metadata": {
    "collapsed": false,
    "deletable": true,
    "editable": true
   },
   "outputs": [],
   "source": [
    "depth_variabilities = data.groupby(['tree id', 'depth'], as_index=False).mean()"
   ]
  },
  {
   "cell_type": "markdown",
   "metadata": {
    "deletable": true,
    "editable": true
   },
   "source": [
    "Slice variability accross all trees (each depth has a point for each tree)"
   ]
  },
  {
   "cell_type": "code",
   "execution_count": 7,
   "metadata": {
    "collapsed": false,
    "deletable": true,
    "editable": true
   },
   "outputs": [
    {
     "data": {
      "image/png": "[encoded data removed]",
      "text/plain": [
       "<matplotlib.figure.Figure at 0x7fe9372848d0>"
      ]
     },
     "metadata": {},
     "output_type": "display_data"
    }
   ],
   "source": [
    "ax = sb.regplot('depth', 'slice variabilities', data=depth_variabilities,\n",
    "                x_jitter=.1, y_jitter=.01)\n",
    "ax.set_ylabel('slice variability')\n",
    "if SAVE_FIGURES:\n",
    "    ax.figure.savefig(FIG.format('slice-variability_depth_scatter'), dpi=300)"
   ]
  },
  {
   "cell_type": "markdown",
   "metadata": {
    "deletable": true,
    "editable": true
   },
   "source": [
    "The same, but with averages at each depth"
   ]
  },
  {
   "cell_type": "code",
   "execution_count": 8,
   "metadata": {
    "collapsed": true,
    "deletable": true,
    "editable": true
   },
   "outputs": [],
   "source": [
    "def plot_slice_variability(**kwargs):\n",
    "    data = kwargs['data']\n",
    "    gdata = data.groupby('depth', as_index=False)\n",
    "    color = sb.color_palette()[0]\n",
    "    \n",
    "    x = gdata.first()['depth']\n",
    "    y = gdata.mean()['slice variabilities']\n",
    "    ci = gdata['slice variabilities'].aggregate({\n",
    "            'ci': lambda v: v.std() * 1.96 / np.sqrt(len(v) - 1)\n",
    "    })['ci']\n",
    "    \n",
    "    plt.plot(x, y, color=color)\n",
    "    plt.fill_between(x, y - ci, y + ci, color=sb.desaturate(color, 0.2), alpha=0.2)\n",
    "\n",
    "    return plt.gca()"
   ]
  },
  {
   "cell_type": "code",
   "execution_count": 9,
   "metadata": {
    "collapsed": false,
    "deletable": true,
    "editable": true
   },
   "outputs": [
    {
     "data": {
      "image/png": "[encoded data removed]",
      "text/plain": [
       "<matplotlib.figure.Figure at 0x7fe9369aa240>"
      ]
     },
     "metadata": {},
     "output_type": "display_data"
    }
   ],
   "source": [
    "ax = plot_slice_variability(data=depth_variabilities)\n",
    "if SAVE_FIGURES:\n",
    "    ax.figure.savefig(FIG.format('slice-variability_depth_average'), dpi=300)"
   ]
  },
  {
   "cell_type": "markdown",
   "metadata": {
    "deletable": true,
    "editable": true
   },
   "source": [
    "The same, but with detail for each tree"
   ]
  },
  {
   "cell_type": "code",
   "execution_count": 10,
   "metadata": {
    "collapsed": false,
    "deletable": true,
    "editable": true
   },
   "outputs": [
    {
     "data": {
      "image/png": "[encoded data removed]",
      "text/plain": [
       "<matplotlib.figure.Figure at 0x7fe9372baf60>"
      ]
     },
     "metadata": {},
     "output_type": "display_data"
    }
   ],
   "source": [
    "g = sb.FacetGrid(data=data, sharex=True, sharey=True,\n",
    "                 col='tree id', col_wrap=7, size=1.5,\n",
    "                 col_order=root_order['tree id'])\n",
    "g.map_dataframe(plot_slice_variability)\n",
    "g.set_axis_labels(x_var='depth', y_var='slice variability')\n",
    "if SAVE_FIGURES:\n",
    "    g.savefig(FIG.format('slice-variability_depth_per-tree'), dpi=300)"
   ]
  },
  {
   "cell_type": "markdown",
   "metadata": {
    "deletable": true,
    "editable": true
   },
   "source": [
    "## 3 Slice MDS ~ depth"
   ]
  },
  {
   "cell_type": "markdown",
   "metadata": {
    "deletable": true,
    "editable": true
   },
   "source": [
    "Add the multi-dimensional scaling tools"
   ]
  },
  {
   "cell_type": "code",
   "execution_count": 11,
   "metadata": {
    "collapsed": false,
    "deletable": true,
    "editable": true
   },
   "outputs": [],
   "source": [
    "@memoized\n",
    "def similarities_with_previous_leaves(self, depth):\n",
    "    # Compute similarities matrix\n",
    "    sentences = self.get_slice(depth)\n",
    "    \n",
    "    branches = set([s.head for s in sentences])\n",
    "    all_branches = set([c for c in self.root.children.kept])\n",
    "    compl_branches = all_branches.difference(branches)\n",
    "    compl_leaves = [l for l in self.leaves if l.head in compl_branches]\n",
    "\n",
    "    full_sentences = sentences + compl_leaves\n",
    "    size = len(full_sentences)\n",
    "    \n",
    "    similarities = np.zeros((size, size))\n",
    "    indices = {}\n",
    "    for i, s1 in enumerate(full_sentences):\n",
    "        if s1.id not in indices:\n",
    "            indices[s1.id] = i\n",
    "        for j, s2 in enumerate(full_sentences):\n",
    "            similarities[i, j] = s1.oc_distance(s2)\n",
    "    \n",
    "    # Check we saw all the indices go past\n",
    "    assert len(indices) == size\n",
    "    \n",
    "    return (similarities, indices, sentences)\n",
    "\n",
    "@memoized\n",
    "def scalings(self):\n",
    "    data = []\n",
    "    stresses = []\n",
    "    pos = None\n",
    "    branchindices = None\n",
    "    for depth in range(1, self.depth + 1):\n",
    "        # Compute similarities\n",
    "        similarities, indices, sentences = self.similarities_with_previous_leaves(depth)\n",
    "        if len(sentences) < 2:\n",
    "            # There's only one branch left, we're done.\n",
    "            break\n",
    "        \n",
    "        # Get branch indices\n",
    "        old_branchindices = branchindices\n",
    "        branchindices = dict((Sentence.objects.get(id=s).head.id, i)\n",
    "                             for (s, i) in indices.items())\n",
    "        rev_branchindices = dict((i, b) for (b, i) in branchindices.items())\n",
    "        rev_indices = dict((i, s) for (s, i) in indices.items())\n",
    "\n",
    "        # Compute scaling\n",
    "        old_pos = pos\n",
    "        if old_pos is None or (old_pos == 0).all():\n",
    "            mds = MDS(n_components=1, metric=True, max_iter=3000,\n",
    "                      dissimilarity='precomputed', n_jobs=-2)\n",
    "            pos = mds.fit_transform(similarities)\n",
    "        else:\n",
    "            init = old_pos[[old_branchindices[rev_branchindices[i]]\n",
    "                            for i in range(len(indices))]]\n",
    "            mds = MDS(n_components=1, metric=True, max_iter=3000,\n",
    "                      dissimilarity='precomputed', n_jobs=-2, n_init=1)\n",
    "            pos = mds.fit_transform(similarities, init=init)\n",
    "\n",
    "        data.extend([{'sentence id': sentence.id,\n",
    "                      'branch': sentence.head.id,\n",
    "                      'depth': depth,\n",
    "                      'x': pos[indices[sentence.id], 0]}\n",
    "                     for sentence in sentences])\n",
    "        stresses.append(mds.stress_)\n",
    "\n",
    "    data = DataFrame(data)\n",
    "    stresses = np.array(stresses)\n",
    "    return data, stresses\n",
    "\n",
    "Tree.similarities_with_previous_leaves = similarities_with_previous_leaves\n",
    "Tree.scalings = scalings"
   ]
  },
  {
   "cell_type": "markdown",
   "metadata": {
    "deletable": true,
    "editable": true
   },
   "source": [
    "Then check the scaling stresses"
   ]
  },
  {
   "cell_type": "code",
   "execution_count": 12,
   "metadata": {
    "collapsed": false,
    "deletable": true,
    "editable": true,
    "scrolled": true
   },
   "outputs": [
    {
     "name": "stdout",
     "output_type": "stream",
     "text": [
      "Computing... #3"
     ]
    },
    {
     "name": "stderr",
     "output_type": "stream",
     "text": [
      "/home/sl/.virtualenvs/interpretation-experiment.analysis/lib/python3.6/site-packages/sklearn/manifold/mds.py:127: RuntimeWarning: divide by zero encountered in double_scalars\n",
      "  old_stress = stress / dis\n",
      "/home/sl/.virtualenvs/interpretation-experiment.analysis/lib/python3.6/site-packages/sklearn/manifold/mds.py:127: RuntimeWarning: divide by zero encountered in double_scalars\n",
      "  old_stress = stress / dis\n",
      "/home/sl/.virtualenvs/interpretation-experiment.analysis/lib/python3.6/site-packages/sklearn/manifold/mds.py:127: RuntimeWarning: divide by zero encountered in double_scalars\n",
      "  old_stress = stress / dis\n",
      "\n",
      "\n",
      "\n",
      "/home/sl/.virtualenvs/interpretation-experiment.analysis/lib/python3.6/site-packages/sklearn/manifold/mds.py:122: RuntimeWarning: invalid value encountered in double_scalars\n",
      "  if(old_stress - stress / dis) < eps:\n",
      "/home/sl/.virtualenvs/interpretation-experiment.analysis/lib/python3.6/site-packages/sklearn/manifold/mds.py:122: RuntimeWarning: invalid value encountered in double_scalars\n",
      "  if(old_stress - stress / dis) < eps:\n",
      "/home/sl/.virtualenvs/interpretation-experiment.analysis/lib/python3.6/site-packages/sklearn/manifold/mds.py:122: RuntimeWarning: invalid value encountered in double_scalars\n",
      "  if(old_stress - stress / dis) < eps:\n",
      "\n",
      "/home/sl/.virtualenvs/interpretation-experiment.analysis/lib/python3.6/site-packages/sklearn/manifold/mds.py:127: RuntimeWarning: invalid value encountered in double_scalars\n",
      "  old_stress = stress / dis\n",
      "\n",
      "\n",
      "\n",
      "/home/sl/.virtualenvs/interpretation-experiment.analysis/lib/python3.6/site-packages/sklearn/manifold/mds.py:127: RuntimeWarning: invalid value encountered in double_scalars\n",
      "  old_stress = stress / dis\n",
      "\n",
      "/home/sl/.virtualenvs/interpretation-experiment.analysis/lib/python3.6/site-packages/sklearn/manifold/mds.py:127: RuntimeWarning: invalid value encountered in double_scalars\n",
      "  old_stress = stress / dis\n",
      "\n",
      "/home/sl/.virtualenvs/interpretation-experiment.analysis/lib/python3.6/site-packages/sklearn/manifold/mds.py:127: RuntimeWarning: divide by zero encountered in double_scalars\n",
      "  old_stress = stress / dis\n",
      "/home/sl/.virtualenvs/interpretation-experiment.analysis/lib/python3.6/site-packages/sklearn/manifold/mds.py:127: RuntimeWarning: divide by zero encountered in double_scalars\n",
      "  old_stress = stress / dis\n",
      "/home/sl/.virtualenvs/interpretation-experiment.analysis/lib/python3.6/site-packages/sklearn/manifold/mds.py:127: RuntimeWarning: divide by zero encountered in double_scalars\n",
      "  old_stress = stress / dis\n",
      "\n",
      "\n",
      "/home/sl/.virtualenvs/interpretation-experiment.analysis/lib/python3.6/site-packages/sklearn/manifold/mds.py:122: RuntimeWarning: invalid value encountered in double_scalars\n",
      "  if(old_stress - stress / dis) < eps:\n",
      "\n",
      "/home/sl/.virtualenvs/interpretation-experiment.analysis/lib/python3.6/site-packages/sklearn/manifold/mds.py:122: RuntimeWarning: invalid value encountered in double_scalars\n",
      "  if(old_stress - stress / dis) < eps:\n",
      "/home/sl/.virtualenvs/interpretation-experiment.analysis/lib/python3.6/site-packages/sklearn/manifold/mds.py:122: RuntimeWarning: invalid value encountered in double_scalars\n",
      "  if(old_stress - stress / dis) < eps:\n",
      "\n",
      "/home/sl/.virtualenvs/interpretation-experiment.analysis/lib/python3.6/site-packages/sklearn/manifold/mds.py:127: RuntimeWarning: invalid value encountered in double_scalars\n",
      "  old_stress = stress / dis\n",
      "\n",
      "\n",
      "\n",
      "/home/sl/.virtualenvs/interpretation-experiment.analysis/lib/python3.6/site-packages/sklearn/manifold/mds.py:127: RuntimeWarning: invalid value encountered in double_scalars\n",
      "  old_stress = stress / dis\n",
      "\n",
      "/home/sl/.virtualenvs/interpretation-experiment.analysis/lib/python3.6/site-packages/sklearn/manifold/mds.py:127: RuntimeWarning: invalid value encountered in double_scalars\n",
      "  old_stress = stress / dis\n",
      "\n",
      "/home/sl/.virtualenvs/interpretation-experiment.analysis/lib/python3.6/site-packages/sklearn/manifold/mds.py:127: RuntimeWarning: divide by zero encountered in double_scalars\n",
      "  old_stress = stress / dis\n",
      "/home/sl/.virtualenvs/interpretation-experiment.analysis/lib/python3.6/site-packages/sklearn/manifold/mds.py:127: RuntimeWarning: divide by zero encountered in double_scalars\n",
      "  old_stress = stress / dis\n",
      "\n",
      "\n",
      "/home/sl/.virtualenvs/interpretation-experiment.analysis/lib/python3.6/site-packages/sklearn/manifold/mds.py:122: RuntimeWarning: invalid value encountered in double_scalars\n",
      "  if(old_stress - stress / dis) < eps:\n",
      "/home/sl/.virtualenvs/interpretation-experiment.analysis/lib/python3.6/site-packages/sklearn/manifold/mds.py:127: RuntimeWarning: divide by zero encountered in double_scalars\n",
      "  old_stress = stress / dis\n",
      "\n",
      "/home/sl/.virtualenvs/interpretation-experiment.analysis/lib/python3.6/site-packages/sklearn/manifold/mds.py:127: RuntimeWarning: invalid value encountered in double_scalars\n",
      "  old_stress = stress / dis\n",
      "\n",
      "/home/sl/.virtualenvs/interpretation-experiment.analysis/lib/python3.6/site-packages/sklearn/manifold/mds.py:122: RuntimeWarning: invalid value encountered in double_scalars\n",
      "  if(old_stress - stress / dis) < eps:\n",
      "\n",
      "/home/sl/.virtualenvs/interpretation-experiment.analysis/lib/python3.6/site-packages/sklearn/manifold/mds.py:127: RuntimeWarning: invalid value encountered in double_scalars\n",
      "  old_stress = stress / dis\n",
      "\n",
      "\n",
      "/home/sl/.virtualenvs/interpretation-experiment.analysis/lib/python3.6/site-packages/sklearn/manifold/mds.py:122: RuntimeWarning: invalid value encountered in double_scalars\n",
      "  if(old_stress - stress / dis) < eps:\n",
      "\n",
      "/home/sl/.virtualenvs/interpretation-experiment.analysis/lib/python3.6/site-packages/sklearn/manifold/mds.py:127: RuntimeWarning: invalid value encountered in double_scalars\n",
      "  old_stress = stress / dis\n",
      "\n",
      "/home/sl/.virtualenvs/interpretation-experiment.analysis/lib/python3.6/site-packages/sklearn/manifold/mds.py:127: RuntimeWarning: divide by zero encountered in double_scalars\n",
      "  old_stress = stress / dis\n",
      "/home/sl/.virtualenvs/interpretation-experiment.analysis/lib/python3.6/site-packages/sklearn/manifold/mds.py:127: RuntimeWarning: divide by zero encountered in double_scalars\n",
      "  old_stress = stress / dis\n",
      "\n",
      "\n",
      "/home/sl/.virtualenvs/interpretation-experiment.analysis/lib/python3.6/site-packages/sklearn/manifold/mds.py:127: RuntimeWarning: divide by zero encountered in double_scalars\n",
      "  old_stress = stress / dis\n",
      "/home/sl/.virtualenvs/interpretation-experiment.analysis/lib/python3.6/site-packages/sklearn/manifold/mds.py:122: RuntimeWarning: invalid value encountered in double_scalars\n",
      "  if(old_stress - stress / dis) < eps:\n",
      "\n",
      "\n",
      "/home/sl/.virtualenvs/interpretation-experiment.analysis/lib/python3.6/site-packages/sklearn/manifold/mds.py:122: RuntimeWarning: invalid value encountered in double_scalars\n",
      "  if(old_stress - stress / dis) < eps:\n",
      "/home/sl/.virtualenvs/interpretation-experiment.analysis/lib/python3.6/site-packages/sklearn/manifold/mds.py:127: RuntimeWarning: invalid value encountered in double_scalars\n",
      "  old_stress = stress / dis\n",
      "\n",
      "\n",
      "/home/sl/.virtualenvs/interpretation-experiment.analysis/lib/python3.6/site-packages/sklearn/manifold/mds.py:122: RuntimeWarning: invalid value encountered in double_scalars\n",
      "  if(old_stress - stress / dis) < eps:\n",
      "\n",
      "/home/sl/.virtualenvs/interpretation-experiment.analysis/lib/python3.6/site-packages/sklearn/manifold/mds.py:127: RuntimeWarning: invalid value encountered in double_scalars\n",
      "  old_stress = stress / dis\n",
      "\n",
      "/home/sl/.virtualenvs/interpretation-experiment.analysis/lib/python3.6/site-packages/sklearn/manifold/mds.py:127: RuntimeWarning: invalid value encountered in double_scalars\n",
      "  old_stress = stress / dis\n",
      "\n"
     ]
    },
    {
     "name": "stdout",
     "output_type": "stream",
     "text": [
      " #4"
     ]
    },
    {
     "name": "stderr",
     "output_type": "stream",
     "text": [
      "/home/sl/.virtualenvs/interpretation-experiment.analysis/lib/python3.6/site-packages/sklearn/manifold/mds.py:127: RuntimeWarning: divide by zero encountered in double_scalars\n",
      "  old_stress = stress / dis\n",
      "\n",
      "/home/sl/.virtualenvs/interpretation-experiment.analysis/lib/python3.6/site-packages/sklearn/manifold/mds.py:127: RuntimeWarning: divide by zero encountered in double_scalars\n",
      "  old_stress = stress / dis\n",
      "/home/sl/.virtualenvs/interpretation-experiment.analysis/lib/python3.6/site-packages/sklearn/manifold/mds.py:127: RuntimeWarning: divide by zero encountered in double_scalars\n",
      "  old_stress = stress / dis\n",
      "\n",
      "/home/sl/.virtualenvs/interpretation-experiment.analysis/lib/python3.6/site-packages/sklearn/manifold/mds.py:122: RuntimeWarning: invalid value encountered in double_scalars\n",
      "  if(old_stress - stress / dis) < eps:\n",
      "/home/sl/.virtualenvs/interpretation-experiment.analysis/lib/python3.6/site-packages/sklearn/manifold/mds.py:122: RuntimeWarning: invalid value encountered in double_scalars\n",
      "  if(old_stress - stress / dis) < eps:\n",
      "\n",
      "\n",
      "\n",
      "/home/sl/.virtualenvs/interpretation-experiment.analysis/lib/python3.6/site-packages/sklearn/manifold/mds.py:127: RuntimeWarning: invalid value encountered in double_scalars\n",
      "  old_stress = stress / dis\n",
      "/home/sl/.virtualenvs/interpretation-experiment.analysis/lib/python3.6/site-packages/sklearn/manifold/mds.py:127: RuntimeWarning: invalid value encountered in double_scalars\n",
      "  old_stress = stress / dis\n",
      "/home/sl/.virtualenvs/interpretation-experiment.analysis/lib/python3.6/site-packages/sklearn/manifold/mds.py:122: RuntimeWarning: invalid value encountered in double_scalars\n",
      "  if(old_stress - stress / dis) < eps:\n",
      "\n",
      "\n",
      "/home/sl/.virtualenvs/interpretation-experiment.analysis/lib/python3.6/site-packages/sklearn/manifold/mds.py:127: RuntimeWarning: invalid value encountered in double_scalars\n",
      "  old_stress = stress / dis\n",
      "\n",
      "\n"
     ]
    },
    {
     "name": "stdout",
     "output_type": "stream",
     "text": [
      " #5"
     ]
    },
    {
     "name": "stderr",
     "output_type": "stream",
     "text": [
      "/home/sl/.virtualenvs/interpretation-experiment.analysis/lib/python3.6/site-packages/sklearn/manifold/mds.py:127: RuntimeWarning: divide by zero encountered in double_scalars\n",
      "  old_stress = stress / dis\n",
      "/home/sl/.virtualenvs/interpretation-experiment.analysis/lib/python3.6/site-packages/sklearn/manifold/mds.py:127: RuntimeWarning: divide by zero encountered in double_scalars\n",
      "  old_stress = stress / dis\n",
      "/home/sl/.virtualenvs/interpretation-experiment.analysis/lib/python3.6/site-packages/sklearn/manifold/mds.py:127: RuntimeWarning: divide by zero encountered in double_scalars\n",
      "  old_stress = stress / dis\n",
      "\n",
      "\n",
      "/home/sl/.virtualenvs/interpretation-experiment.analysis/lib/python3.6/site-packages/sklearn/manifold/mds.py:122: RuntimeWarning: invalid value encountered in double_scalars\n",
      "  if(old_stress - stress / dis) < eps:\n",
      "/home/sl/.virtualenvs/interpretation-experiment.analysis/lib/python3.6/site-packages/sklearn/manifold/mds.py:122: RuntimeWarning: invalid value encountered in double_scalars\n",
      "  if(old_stress - stress / dis) < eps:\n",
      "\n",
      "\n",
      "\n",
      "/home/sl/.virtualenvs/interpretation-experiment.analysis/lib/python3.6/site-packages/sklearn/manifold/mds.py:122: RuntimeWarning: invalid value encountered in double_scalars\n",
      "  if(old_stress - stress / dis) < eps:\n",
      "/home/sl/.virtualenvs/interpretation-experiment.analysis/lib/python3.6/site-packages/sklearn/manifold/mds.py:127: RuntimeWarning: invalid value encountered in double_scalars\n",
      "  old_stress = stress / dis\n",
      "\n",
      "/home/sl/.virtualenvs/interpretation-experiment.analysis/lib/python3.6/site-packages/sklearn/manifold/mds.py:127: RuntimeWarning: invalid value encountered in double_scalars\n",
      "  old_stress = stress / dis\n",
      "\n",
      "\n",
      "/home/sl/.virtualenvs/interpretation-experiment.analysis/lib/python3.6/site-packages/sklearn/manifold/mds.py:127: RuntimeWarning: invalid value encountered in double_scalars\n",
      "  old_stress = stress / dis\n",
      "\n",
      "/home/sl/.virtualenvs/interpretation-experiment.analysis/lib/python3.6/site-packages/sklearn/manifold/mds.py:127: RuntimeWarning: divide by zero encountered in double_scalars\n",
      "  old_stress = stress / dis\n",
      "\n",
      "/home/sl/.virtualenvs/interpretation-experiment.analysis/lib/python3.6/site-packages/sklearn/manifold/mds.py:127: RuntimeWarning: divide by zero encountered in double_scalars\n",
      "  old_stress = stress / dis\n",
      "\n",
      "/home/sl/.virtualenvs/interpretation-experiment.analysis/lib/python3.6/site-packages/sklearn/manifold/mds.py:127: RuntimeWarning: divide by zero encountered in double_scalars\n",
      "  old_stress = stress / dis\n",
      "\n",
      "/home/sl/.virtualenvs/interpretation-experiment.analysis/lib/python3.6/site-packages/sklearn/manifold/mds.py:122: RuntimeWarning: invalid value encountered in double_scalars\n",
      "  if(old_stress - stress / dis) < eps:\n",
      "/home/sl/.virtualenvs/interpretation-experiment.analysis/lib/python3.6/site-packages/sklearn/manifold/mds.py:122: RuntimeWarning: invalid value encountered in double_scalars\n",
      "  if(old_stress - stress / dis) < eps:\n",
      "/home/sl/.virtualenvs/interpretation-experiment.analysis/lib/python3.6/site-packages/sklearn/manifold/mds.py:122: RuntimeWarning: invalid value encountered in double_scalars\n",
      "  if(old_stress - stress / dis) < eps:\n",
      "\n",
      "\n",
      "\n",
      "/home/sl/.virtualenvs/interpretation-experiment.analysis/lib/python3.6/site-packages/sklearn/manifold/mds.py:127: RuntimeWarning: invalid value encountered in double_scalars\n",
      "  old_stress = stress / dis\n",
      "\n",
      "/home/sl/.virtualenvs/interpretation-experiment.analysis/lib/python3.6/site-packages/sklearn/manifold/mds.py:127: RuntimeWarning: invalid value encountered in double_scalars\n",
      "  old_stress = stress / dis\n",
      "/home/sl/.virtualenvs/interpretation-experiment.analysis/lib/python3.6/site-packages/sklearn/manifold/mds.py:127: RuntimeWarning: invalid value encountered in double_scalars\n",
      "  old_stress = stress / dis\n",
      "\n",
      "\n"
     ]
    },
    {
     "name": "stdout",
     "output_type": "stream",
     "text": [
      " #6 #7"
     ]
    },
    {
     "name": "stderr",
     "output_type": "stream",
     "text": [
      "/home/sl/.virtualenvs/interpretation-experiment.analysis/lib/python3.6/site-packages/sklearn/manifold/mds.py:127: RuntimeWarning: divide by zero encountered in double_scalars\n",
      "  old_stress = stress / dis\n",
      "\n",
      "/home/sl/.virtualenvs/interpretation-experiment.analysis/lib/python3.6/site-packages/sklearn/manifold/mds.py:127: RuntimeWarning: divide by zero encountered in double_scalars\n",
      "  old_stress = stress / dis\n",
      "/home/sl/.virtualenvs/interpretation-experiment.analysis/lib/python3.6/site-packages/sklearn/manifold/mds.py:127: RuntimeWarning: divide by zero encountered in double_scalars\n",
      "  old_stress = stress / dis\n",
      "/home/sl/.virtualenvs/interpretation-experiment.analysis/lib/python3.6/site-packages/sklearn/manifold/mds.py:122: RuntimeWarning: invalid value encountered in double_scalars\n",
      "  if(old_stress - stress / dis) < eps:\n",
      "\n",
      "\n",
      "\n",
      "/home/sl/.virtualenvs/interpretation-experiment.analysis/lib/python3.6/site-packages/sklearn/manifold/mds.py:122: RuntimeWarning: invalid value encountered in double_scalars\n",
      "  if(old_stress - stress / dis) < eps:\n",
      "/home/sl/.virtualenvs/interpretation-experiment.analysis/lib/python3.6/site-packages/sklearn/manifold/mds.py:122: RuntimeWarning: invalid value encountered in double_scalars\n",
      "  if(old_stress - stress / dis) < eps:\n",
      "\n",
      "/home/sl/.virtualenvs/interpretation-experiment.analysis/lib/python3.6/site-packages/sklearn/manifold/mds.py:127: RuntimeWarning: invalid value encountered in double_scalars\n",
      "  old_stress = stress / dis\n",
      "/home/sl/.virtualenvs/interpretation-experiment.analysis/lib/python3.6/site-packages/sklearn/manifold/mds.py:127: RuntimeWarning: invalid value encountered in double_scalars\n",
      "  old_stress = stress / dis\n",
      "\n",
      "\n",
      "\n",
      "/home/sl/.virtualenvs/interpretation-experiment.analysis/lib/python3.6/site-packages/sklearn/manifold/mds.py:127: RuntimeWarning: invalid value encountered in double_scalars\n",
      "  old_stress = stress / dis\n",
      "\n",
      "/home/sl/.virtualenvs/interpretation-experiment.analysis/lib/python3.6/site-packages/sklearn/manifold/mds.py:127: RuntimeWarning: divide by zero encountered in double_scalars\n",
      "  old_stress = stress / dis\n",
      "/home/sl/.virtualenvs/interpretation-experiment.analysis/lib/python3.6/site-packages/sklearn/manifold/mds.py:127: RuntimeWarning: divide by zero encountered in double_scalars\n",
      "  old_stress = stress / dis\n",
      "/home/sl/.virtualenvs/interpretation-experiment.analysis/lib/python3.6/site-packages/sklearn/manifold/mds.py:127: RuntimeWarning: divide by zero encountered in double_scalars\n",
      "  old_stress = stress / dis\n",
      "\n",
      "\n",
      "/home/sl/.virtualenvs/interpretation-experiment.analysis/lib/python3.6/site-packages/sklearn/manifold/mds.py:122: RuntimeWarning: invalid value encountered in double_scalars\n",
      "  if(old_stress - stress / dis) < eps:\n",
      "/home/sl/.virtualenvs/interpretation-experiment.analysis/lib/python3.6/site-packages/sklearn/manifold/mds.py:122: RuntimeWarning: invalid value encountered in double_scalars\n",
      "  if(old_stress - stress / dis) < eps:\n",
      "\n",
      "\n",
      "/home/sl/.virtualenvs/interpretation-experiment.analysis/lib/python3.6/site-packages/sklearn/manifold/mds.py:122: RuntimeWarning: invalid value encountered in double_scalars\n",
      "  if(old_stress - stress / dis) < eps:\n",
      "/home/sl/.virtualenvs/interpretation-experiment.analysis/lib/python3.6/site-packages/sklearn/manifold/mds.py:127: RuntimeWarning: invalid value encountered in double_scalars\n",
      "  old_stress = stress / dis\n",
      "\n",
      "\n",
      "\n",
      "/home/sl/.virtualenvs/interpretation-experiment.analysis/lib/python3.6/site-packages/sklearn/manifold/mds.py:127: RuntimeWarning: invalid value encountered in double_scalars\n",
      "  old_stress = stress / dis\n",
      "\n",
      "/home/sl/.virtualenvs/interpretation-experiment.analysis/lib/python3.6/site-packages/sklearn/manifold/mds.py:127: RuntimeWarning: invalid value encountered in double_scalars\n",
      "  old_stress = stress / dis\n",
      "\n",
      "/home/sl/.virtualenvs/interpretation-experiment.analysis/lib/python3.6/site-packages/sklearn/manifold/mds.py:127: RuntimeWarning: divide by zero encountered in double_scalars\n",
      "  old_stress = stress / dis\n",
      "\n",
      "/home/sl/.virtualenvs/interpretation-experiment.analysis/lib/python3.6/site-packages/sklearn/manifold/mds.py:127: RuntimeWarning: divide by zero encountered in double_scalars\n",
      "  old_stress = stress / dis\n",
      "/home/sl/.virtualenvs/interpretation-experiment.analysis/lib/python3.6/site-packages/sklearn/manifold/mds.py:127: RuntimeWarning: divide by zero encountered in double_scalars\n",
      "  old_stress = stress / dis\n",
      "/home/sl/.virtualenvs/interpretation-experiment.analysis/lib/python3.6/site-packages/sklearn/manifold/mds.py:122: RuntimeWarning: invalid value encountered in double_scalars\n",
      "  if(old_stress - stress / dis) < eps:\n",
      "\n",
      "\n",
      "\n",
      "/home/sl/.virtualenvs/interpretation-experiment.analysis/lib/python3.6/site-packages/sklearn/manifold/mds.py:122: RuntimeWarning: invalid value encountered in double_scalars\n",
      "  if(old_stress - stress / dis) < eps:\n",
      "/home/sl/.virtualenvs/interpretation-experiment.analysis/lib/python3.6/site-packages/sklearn/manifold/mds.py:127: RuntimeWarning: invalid value encountered in double_scalars\n",
      "  old_stress = stress / dis\n",
      "\n",
      "/home/sl/.virtualenvs/interpretation-experiment.analysis/lib/python3.6/site-packages/sklearn/manifold/mds.py:122: RuntimeWarning: invalid value encountered in double_scalars\n",
      "  if(old_stress - stress / dis) < eps:\n",
      "/home/sl/.virtualenvs/interpretation-experiment.analysis/lib/python3.6/site-packages/sklearn/manifold/mds.py:127: RuntimeWarning: invalid value encountered in double_scalars\n",
      "  old_stress = stress / dis\n",
      "\n",
      "\n",
      "/home/sl/.virtualenvs/interpretation-experiment.analysis/lib/python3.6/site-packages/sklearn/manifold/mds.py:127: RuntimeWarning: invalid value encountered in double_scalars\n",
      "  old_stress = stress / dis\n",
      "\n",
      "\n",
      "/home/sl/.virtualenvs/interpretation-experiment.analysis/lib/python3.6/site-packages/sklearn/manifold/mds.py:127: RuntimeWarning: divide by zero encountered in double_scalars\n",
      "  old_stress = stress / dis\n",
      "/home/sl/.virtualenvs/interpretation-experiment.analysis/lib/python3.6/site-packages/sklearn/manifold/mds.py:127: RuntimeWarning: divide by zero encountered in double_scalars\n",
      "  old_stress = stress / dis\n",
      "\n",
      "\n",
      "/home/sl/.virtualenvs/interpretation-experiment.analysis/lib/python3.6/site-packages/sklearn/manifold/mds.py:127: RuntimeWarning: divide by zero encountered in double_scalars\n",
      "  old_stress = stress / dis\n",
      "/home/sl/.virtualenvs/interpretation-experiment.analysis/lib/python3.6/site-packages/sklearn/manifold/mds.py:122: RuntimeWarning: invalid value encountered in double_scalars\n",
      "  if(old_stress - stress / dis) < eps:\n",
      "\n",
      "/home/sl/.virtualenvs/interpretation-experiment.analysis/lib/python3.6/site-packages/sklearn/manifold/mds.py:122: RuntimeWarning: invalid value encountered in double_scalars\n",
      "  if(old_stress - stress / dis) < eps:\n",
      "\n",
      "/home/sl/.virtualenvs/interpretation-experiment.analysis/lib/python3.6/site-packages/sklearn/manifold/mds.py:127: RuntimeWarning: invalid value encountered in double_scalars\n",
      "  old_stress = stress / dis\n",
      "/home/sl/.virtualenvs/interpretation-experiment.analysis/lib/python3.6/site-packages/sklearn/manifold/mds.py:122: RuntimeWarning: invalid value encountered in double_scalars\n",
      "  if(old_stress - stress / dis) < eps:\n",
      "\n",
      "\n",
      "\n",
      "/home/sl/.virtualenvs/interpretation-experiment.analysis/lib/python3.6/site-packages/sklearn/manifold/mds.py:127: RuntimeWarning: invalid value encountered in double_scalars\n",
      "  old_stress = stress / dis\n",
      "/home/sl/.virtualenvs/interpretation-experiment.analysis/lib/python3.6/site-packages/sklearn/manifold/mds.py:127: RuntimeWarning: invalid value encountered in double_scalars\n",
      "  old_stress = stress / dis\n",
      "\n",
      "\n",
      "/home/sl/.virtualenvs/interpretation-experiment.analysis/lib/python3.6/site-packages/sklearn/manifold/mds.py:127: RuntimeWarning: divide by zero encountered in double_scalars\n",
      "  old_stress = stress / dis\n",
      "\n",
      "/home/sl/.virtualenvs/interpretation-experiment.analysis/lib/python3.6/site-packages/sklearn/manifold/mds.py:127: RuntimeWarning: divide by zero encountered in double_scalars\n",
      "  old_stress = stress / dis\n",
      "/home/sl/.virtualenvs/interpretation-experiment.analysis/lib/python3.6/site-packages/sklearn/manifold/mds.py:127: RuntimeWarning: divide by zero encountered in double_scalars\n",
      "  old_stress = stress / dis\n",
      "\n",
      "\n",
      "/home/sl/.virtualenvs/interpretation-experiment.analysis/lib/python3.6/site-packages/sklearn/manifold/mds.py:122: RuntimeWarning: invalid value encountered in double_scalars\n",
      "  if(old_stress - stress / dis) < eps:\n",
      "/home/sl/.virtualenvs/interpretation-experiment.analysis/lib/python3.6/site-packages/sklearn/manifold/mds.py:122: RuntimeWarning: invalid value encountered in double_scalars\n",
      "  if(old_stress - stress / dis) < eps:\n",
      "\n",
      "/home/sl/.virtualenvs/interpretation-experiment.analysis/lib/python3.6/site-packages/sklearn/manifold/mds.py:122: RuntimeWarning: invalid value encountered in double_scalars\n",
      "  if(old_stress - stress / dis) < eps:\n",
      "\n",
      "/home/sl/.virtualenvs/interpretation-experiment.analysis/lib/python3.6/site-packages/sklearn/manifold/mds.py:127: RuntimeWarning: invalid value encountered in double_scalars\n",
      "  old_stress = stress / dis\n",
      "\n",
      "/home/sl/.virtualenvs/interpretation-experiment.analysis/lib/python3.6/site-packages/sklearn/manifold/mds.py:127: RuntimeWarning: invalid value encountered in double_scalars\n",
      "  old_stress = stress / dis\n",
      "\n",
      "/home/sl/.virtualenvs/interpretation-experiment.analysis/lib/python3.6/site-packages/sklearn/manifold/mds.py:127: RuntimeWarning: invalid value encountered in double_scalars\n",
      "  old_stress = stress / dis\n",
      "\n",
      "\n"
     ]
    },
    {
     "name": "stdout",
     "output_type": "stream",
     "text": [
      " #8"
     ]
    },
    {
     "name": "stderr",
     "output_type": "stream",
     "text": [
      "/home/sl/.virtualenvs/interpretation-experiment.analysis/lib/python3.6/site-packages/sklearn/manifold/mds.py:127: RuntimeWarning: divide by zero encountered in double_scalars\n",
      "  old_stress = stress / dis\n",
      "\n",
      "/home/sl/.virtualenvs/interpretation-experiment.analysis/lib/python3.6/site-packages/sklearn/manifold/mds.py:122: RuntimeWarning: invalid value encountered in double_scalars\n",
      "  if(old_stress - stress / dis) < eps:\n",
      "/home/sl/.virtualenvs/interpretation-experiment.analysis/lib/python3.6/site-packages/sklearn/manifold/mds.py:127: RuntimeWarning: divide by zero encountered in double_scalars\n",
      "  old_stress = stress / dis\n",
      "/home/sl/.virtualenvs/interpretation-experiment.analysis/lib/python3.6/site-packages/sklearn/manifold/mds.py:127: RuntimeWarning: divide by zero encountered in double_scalars\n",
      "  old_stress = stress / dis\n",
      "\n",
      "\n",
      "/home/sl/.virtualenvs/interpretation-experiment.analysis/lib/python3.6/site-packages/sklearn/manifold/mds.py:127: RuntimeWarning: invalid value encountered in double_scalars\n",
      "  old_stress = stress / dis\n",
      "/home/sl/.virtualenvs/interpretation-experiment.analysis/lib/python3.6/site-packages/sklearn/manifold/mds.py:122: RuntimeWarning: invalid value encountered in double_scalars\n",
      "  if(old_stress - stress / dis) < eps:\n",
      "\n",
      "\n",
      "\n",
      "/home/sl/.virtualenvs/interpretation-experiment.analysis/lib/python3.6/site-packages/sklearn/manifold/mds.py:127: RuntimeWarning: invalid value encountered in double_scalars\n",
      "  old_stress = stress / dis\n",
      "\n",
      "/home/sl/.virtualenvs/interpretation-experiment.analysis/lib/python3.6/site-packages/sklearn/manifold/mds.py:122: RuntimeWarning: invalid value encountered in double_scalars\n",
      "  if(old_stress - stress / dis) < eps:\n",
      "\n",
      "/home/sl/.virtualenvs/interpretation-experiment.analysis/lib/python3.6/site-packages/sklearn/manifold/mds.py:127: RuntimeWarning: invalid value encountered in double_scalars\n",
      "  old_stress = stress / dis\n",
      "\n",
      "/home/sl/.virtualenvs/interpretation-experiment.analysis/lib/python3.6/site-packages/sklearn/manifold/mds.py:127: RuntimeWarning: divide by zero encountered in double_scalars\n",
      "  old_stress = stress / dis\n",
      "\n",
      "/home/sl/.virtualenvs/interpretation-experiment.analysis/lib/python3.6/site-packages/sklearn/manifold/mds.py:122: RuntimeWarning: invalid value encountered in double_scalars\n",
      "  if(old_stress - stress / dis) < eps:\n",
      "\n",
      "/home/sl/.virtualenvs/interpretation-experiment.analysis/lib/python3.6/site-packages/sklearn/manifold/mds.py:127: RuntimeWarning: invalid value encountered in double_scalars\n",
      "  old_stress = stress / dis\n",
      "\n"
     ]
    },
    {
     "data": {
      "image/png": "[encoded data removed]",
      "text/plain": [
       "<matplotlib.figure.Figure at 0x7fe933d9e0f0>"
      ]
     },
     "metadata": {},
     "output_type": "display_data"
    }
   ],
   "source": [
    "# Compute scalings\n",
    "trees = Tree.objects.experiment.all()\n",
    "stresses = []\n",
    "print\n",
    "print('Computing...', end='')\n",
    "for i, tree in enumerate(trees):\n",
    "    print(' #{}'.format(tree.id), end='')\n",
    "    stresses.append(tree.scalings()[1])\n",
    "tree_stresses = np.array([s.mean() for s in stresses])\n",
    "flat_stresses = np.concatenate(stresses)\n",
    "\n",
    "# Plot stresses\n",
    "fig, axes = plt.subplots(1, 2, figsize=(12, 4), sharex=True)\n",
    "bins = axes[0].hist(tree_stresses, 20, label='Stress (pre-averaged on trees)')[1]\n",
    "axes[0].set_ylabel('Number of trees')\n",
    "axes[0].legend(loc='best')\n",
    "axes[1].hist(flat_stresses, bins=20, label='Stress (for all depths)')\n",
    "axes[1].set_ylabel('Number of (tree, depth)s')\n",
    "axes[1].legend(loc='best');"
   ]
  },
  {
   "cell_type": "markdown",
   "metadata": {
    "deletable": true,
    "editable": true
   },
   "source": [
    "Define the branch plotting function"
   ]
  },
  {
   "cell_type": "code",
   "execution_count": 13,
   "metadata": {
    "collapsed": true,
    "deletable": true,
    "editable": true
   },
   "outputs": [],
   "source": [
    "def plot_branches(x, y, **kwargs):\n",
    "    data = kwargs.pop('data')\n",
    "    x_name = y_name = ''\n",
    "    if isinstance(x, str):\n",
    "        x_name = x\n",
    "        x = data[x_name]\n",
    "    if isinstance(y, str):\n",
    "        y_name = y\n",
    "        y = data[y_name]\n",
    "    ax = kwargs.get('ax', plt.gca())\n",
    "    \n",
    "    # Get tree\n",
    "    sentences = [Sentence.objects.get(id=id) for id in data['sentence id']]\n",
    "    assert len(set(s.tree for s in sentences)) == 1\n",
    "    tree = sentences[0].tree\n",
    "    \n",
    "    # Define colors\n",
    "    branches = sorted(set(data['branch']), reverse=True)\n",
    "    cmap, palette = mpl_palette(len(branches))\n",
    "    \n",
    "    # Plot branches\n",
    "    legend_handles = []\n",
    "    for i, branch in enumerate(branches):\n",
    "        bdata = concat([DataFrame({'branch': branch, 'depth': 0, 'x': 0}, index=[-1]),\n",
    "                        data[data.branch == branch]])\n",
    "        bdata.plot(x_name, y_name, ax=ax, color=palette[i])\n",
    "        legend_handles.append(Patch(color=palette[i], label='#{}'.format(branch)))\n",
    "    \n",
    "    # Set legend data (seaborn catches legend stuff if we do it here,\n",
    "    # so we return some data by this mechanism and use it in the\n",
    "    # plotting code after FacetGrid.map_dataframe()).\n",
    "    legends = kwargs.get('legends', None)\n",
    "    if legends is not None:\n",
    "        legends[tree.id] = legend_handles\n",
    "    \n",
    "    # Set chrome\n",
    "    if kwargs.get('set_chrome', False):\n",
    "        ax.set_title('tree id = {}'.format(tree.id))\n",
    "        ax.set_xlabel(x_name)\n",
    "        ax.set_ylabel(y_name)"
   ]
  },
  {
   "cell_type": "markdown",
   "metadata": {
    "deletable": true,
    "editable": true
   },
   "source": [
    "Now plot scalings for all trees"
   ]
  },
  {
   "cell_type": "code",
   "execution_count": 14,
   "metadata": {
    "collapsed": false,
    "deletable": true,
    "editable": true
   },
   "outputs": [
    {
     "data": {
      "image/png": "[encoded data removed]",
      "text/plain": [
       "<matplotlib.figure.Figure at 0x7fe933c225c0>"
      ]
     },
     "metadata": {},
     "output_type": "display_data"
    }
   ],
   "source": [
    "# Make a DataFrame of all trees\n",
    "trees = Tree.objects.experiment\n",
    "trees_order = root_order[root_order['tree id'].isin([tree.id for tree in trees])]['tree id']\n",
    "tree_scalings = []\n",
    "for tree in trees:\n",
    "    s, _ = tree.scalings()\n",
    "    s['tree id'] = tree.id\n",
    "    tree_scalings.append(s)\n",
    "tree_scalings = concat(tree_scalings)\n",
    "\n",
    "# Plot and handle legend\n",
    "g = sb.FacetGrid(tree_scalings, col='tree id',\n",
    "                 sharex=True, sharey=True,\n",
    "                 col_wrap=7, size=4,\n",
    "                 col_order=trees_order)\n",
    "legends = {}\n",
    "g.map_dataframe(plot_branches, 'depth', 'x',\n",
    "                set_chrome=True, legends=legends)\n",
    "g.set(xlim=(0, tree_scalings['depth'].max() * 1.4))\n",
    "for i, ax in enumerate(g.axes):\n",
    "    ax.legend(handles=legends[trees_order.iloc[i]], loc='upper right')\n",
    "if SAVE_FIGURES:\n",
    "    g.savefig(FIG.format('branches_mds'), dpi=300)"
   ]
  }
 ],
 "metadata": {
  "kernelspec": {
   "display_name": "Python 3",
   "language": "python",
   "name": "python3"
  },
  "language_info": {
   "codemirror_mode": {
    "name": "ipython",
    "version": 3
   },
   "file_extension": ".py",
   "mimetype": "text/x-python",
   "name": "python",
   "nbconvert_exporter": "python",
   "pygments_lexer": "ipython3",
   "version": "3.6.0"
  }
 },
 "nbformat": 4,
 "nbformat_minor": 0
}
