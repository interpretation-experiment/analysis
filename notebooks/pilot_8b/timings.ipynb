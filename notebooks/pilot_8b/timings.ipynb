{
 "cells": [
  {
   "cell_type": "markdown",
   "metadata": {
    "deletable": true,
    "editable": true
   },
   "source": [
    "# Timings\n",
    "\n",
    "How the participants progress through the experiment."
   ]
  },
  {
   "cell_type": "markdown",
   "metadata": {
    "deletable": true,
    "editable": true
   },
   "source": [
    "## 1 Setup"
   ]
  },
  {
   "cell_type": "markdown",
   "metadata": {
    "deletable": true,
    "editable": true
   },
   "source": [
    "Flags"
   ]
  },
  {
   "cell_type": "code",
   "execution_count": 1,
   "metadata": {
    "ExecuteTime": {
     "end_time": "2017-02-15T23:20:21.217195",
     "start_time": "2017-02-15T23:20:21.213072"
    },
    "collapsed": true,
    "deletable": true,
    "editable": true
   },
   "outputs": [],
   "source": [
    "SAVE_FIGURES = False"
   ]
  },
  {
   "cell_type": "markdown",
   "metadata": {
    "deletable": true,
    "editable": true
   },
   "source": [
    "First, setup the database"
   ]
  },
  {
   "cell_type": "code",
   "execution_count": 2,
   "metadata": {
    "ExecuteTime": {
     "end_time": "2017-02-15T23:20:44.477619",
     "start_time": "2017-02-15T23:20:43.809873"
    },
    "collapsed": false,
    "deletable": true,
    "editable": true
   },
   "outputs": [
    {
     "name": "stdout",
     "output_type": "stream",
     "text": [
      "Database: spreadr_pilot_8b\n"
     ]
    }
   ],
   "source": [
    "import os, sys\n",
    "sys.path.insert(1, os.path.abspath('../..'))\n",
    "import analysis\n",
    "\n",
    "FIG = os.path.join(os.path.abspath(os.path.curdir), '{}.png')\n",
    "DB_NAME = 'spreadr_' + os.path.split(os.path.abspath(os.path.curdir))[1]\n",
    "analysis.setup(DB_NAME)\n",
    "print('Database:', DB_NAME)"
   ]
  },
  {
   "cell_type": "markdown",
   "metadata": {
    "deletable": true,
    "editable": true
   },
   "source": [
    "Then import all we need for the analysis"
   ]
  },
  {
   "cell_type": "code",
   "execution_count": 3,
   "metadata": {
    "ExecuteTime": {
     "end_time": "2017-02-15T23:24:33.003455",
     "start_time": "2017-02-15T23:24:31.836554"
    },
    "collapsed": false,
    "deletable": true,
    "editable": true
   },
   "outputs": [],
   "source": [
    "%matplotlib inline\n",
    "import matplotlib.pyplot as plt\n",
    "import numpy as np\n",
    "import seaborn as sb\n",
    "from django.db.models import Count\n",
    "\n",
    "from gists.models import Sentence, Profile, Questionnaire, GistsConfiguration\n",
    "\n",
    "config = GistsConfiguration.get_solo()"
   ]
  },
  {
   "cell_type": "markdown",
   "metadata": {
    "collapsed": true,
    "deletable": true,
    "editable": true
   },
   "source": [
    "## 2 Registration ➙ First training sentence\n",
    "\n",
    "$= time(homeInstructions) + t(expInstructions) + t(trainingSentence)$"
   ]
  },
  {
   "cell_type": "markdown",
   "metadata": {
    "deletable": true,
    "editable": true
   },
   "source": [
    "Get non-staff profiles who completed the experiment"
   ]
  },
  {
   "cell_type": "code",
   "execution_count": 4,
   "metadata": {
    "collapsed": false,
    "deletable": true,
    "editable": true
   },
   "outputs": [],
   "source": [
    "profiles = Profile.objects\\\n",
    "    .annotate(Count('sentences'))\\\n",
    "    .filter(sentences__count=config.experiment_work + config.training_work,\n",
    "            user__is_staff=False)"
   ]
  },
  {
   "cell_type": "markdown",
   "metadata": {
    "deletable": true,
    "editable": true
   },
   "source": [
    "Get mean time from profile creation to first training sentence creation"
   ]
  },
  {
   "cell_type": "code",
   "execution_count": 5,
   "metadata": {
    "collapsed": false,
    "deletable": true,
    "editable": true
   },
   "outputs": [
    {
     "name": "stdout",
     "output_type": "stream",
     "text": [
      "Registration ➙ First training sentence avg: 0:01:59.900000\n"
     ]
    }
   ],
   "source": [
    "registration_to_first_training = np.array(\n",
    "    [profile.sentences.filter(bucket='training').order_by('created').first().created\n",
    "     - profile.created for profile in profiles])\\\n",
    "    .mean()\n",
    "print('Registration ➙ First training sentence avg: {}'.format(registration_to_first_training))"
   ]
  },
  {
   "cell_type": "markdown",
   "metadata": {
    "deletable": true,
    "editable": true
   },
   "source": [
    "## 3 First training sentence ➙ Last training sentence\n",
    "\n",
    "$= t(training) - t(trainingSentence)$"
   ]
  },
  {
   "cell_type": "code",
   "execution_count": 6,
   "metadata": {
    "collapsed": false,
    "deletable": true,
    "editable": true
   },
   "outputs": [
    {
     "name": "stdout",
     "output_type": "stream",
     "text": [
      "First training sentence ➙ Last training sentence avg: 0:00:32.900000\n",
      "Training sentence avg: 0:00:32.900000\n",
      "Training avg: 0:01:05.800000\n"
     ]
    }
   ],
   "source": [
    "first_to_last_training = np.array(\n",
    "    [profile.sentences.filter(bucket='training').order_by('-created').first().created\n",
    "     - profile.sentences.filter(bucket='training').order_by('created').first().created\n",
    "     for profile in profiles])\\\n",
    "    .mean()\n",
    "print('First training sentence ➙ Last training sentence avg: {}'.format(first_to_last_training))\n",
    "training_sentence = first_to_last_training / (config.training_work - 1)\n",
    "print('Training sentence avg: {}'.format(training_sentence))\n",
    "training = config.training_work * training_sentence\n",
    "print('Training avg: {}'.format(training))"
   ]
  },
  {
   "cell_type": "markdown",
   "metadata": {
    "deletable": true,
    "editable": true
   },
   "source": [
    "## 4 Last training sentence ➙ Questionnaire\n",
    "\n",
    "$= t(questionnaire)$"
   ]
  },
  {
   "cell_type": "code",
   "execution_count": 7,
   "metadata": {
    "collapsed": false,
    "deletable": true,
    "editable": true
   },
   "outputs": [],
   "source": [
    "#questionnaire = np.array(\n",
    "#    [profile.questionnaire.created\n",
    "#     - profile.sentences.filter(bucket='training').order_by('-created').first().created\n",
    "#     for profile in profiles])\\\n",
    "#    .mean()\n",
    "#print('Questionnaire avg: {}'.format(questionnaire))"
   ]
  },
  {
   "cell_type": "markdown",
   "metadata": {
    "deletable": true,
    "editable": true
   },
   "source": [
    "## 5 Questionnaire ➙ First exp sentence\n",
    "\n",
    "$= t(backToExp) + t(expSentence)$"
   ]
  },
  {
   "cell_type": "code",
   "execution_count": 8,
   "metadata": {
    "collapsed": false,
    "deletable": true,
    "editable": true
   },
   "outputs": [],
   "source": [
    "#questionnaire_to_first_exp = np.array(\n",
    "#    [profile.sentences.filter(bucket='experiment').order_by('created').first().created\n",
    "#     - profile.questionnaire.created\n",
    "#     for profile in profiles])\\\n",
    "#    .mean()\n",
    "#print('Questionnaire ➙ First exp sentence avg: {}'.format(questionnaire_to_first_exp))"
   ]
  },
  {
   "cell_type": "markdown",
   "metadata": {
    "deletable": true,
    "editable": true
   },
   "source": [
    "## 6 First exp sentence ➙ Last exp sentence\n",
    "\n",
    "$= t(exp) - t(expSentence)$"
   ]
  },
  {
   "cell_type": "code",
   "execution_count": 9,
   "metadata": {
    "collapsed": false,
    "deletable": true,
    "editable": true
   },
   "outputs": [
    {
     "name": "stdout",
     "output_type": "stream",
     "text": [
      "First exp sentence ➙ Last exp sentence avg: 0:02:59.300000\n",
      "Exp sentence avg: 0:00:35.860000\n",
      "Exp avg: 0:03:35.160000\n"
     ]
    }
   ],
   "source": [
    "first_to_last_exp = np.array(\n",
    "    [profile.sentences.filter(bucket='experiment').order_by('-created').first().created\n",
    "     - profile.sentences.filter(bucket='experiment').order_by('created').first().created\n",
    "     for profile in profiles])\\\n",
    "    .mean()\n",
    "print('First exp sentence ➙ Last exp sentence avg: {}'.format(first_to_last_exp))\n",
    "exp_sentence = first_to_last_exp / (config.experiment_work - 1)\n",
    "print('Exp sentence avg: {}'.format(exp_sentence))\n",
    "exp = config.experiment_work * exp_sentence\n",
    "print('Exp avg: {}'.format(exp))"
   ]
  },
  {
   "cell_type": "markdown",
   "metadata": {
    "deletable": true,
    "editable": true
   },
   "source": [
    "## 7 Registration ➙ Last exp sentence\n",
    "\n",
    "$= t(total)$"
   ]
  },
  {
   "cell_type": "code",
   "execution_count": 10,
   "metadata": {
    "collapsed": false,
    "deletable": true,
    "editable": true
   },
   "outputs": [
    {
     "name": "stdout",
     "output_type": "stream",
     "text": [
      "Total avg: 0:06:16.100000\n"
     ]
    }
   ],
   "source": [
    "total = np.array(\n",
    "    [profile.sentences.filter(bucket='experiment').order_by('-created').first().created\n",
    "     - profile.created\n",
    "     for profile in profiles])\\\n",
    "    .mean()\n",
    "print('Total avg: {}'.format(total))"
   ]
  },
  {
   "cell_type": "markdown",
   "metadata": {
    "deletable": true,
    "editable": true
   },
   "source": [
    "## 8 Summary"
   ]
  },
  {
   "cell_type": "code",
   "execution_count": 11,
   "metadata": {
    "collapsed": false,
    "deletable": true,
    "editable": true
   },
   "outputs": [
    {
     "name": "stdout",
     "output_type": "stream",
     "text": [
      "Intro (= home instructions + exp instructions):      0:01:27\n",
      "Training:                                            0:01:05\n",
      "Training sentence:                                   0:00:32\n",
      "Exp:                                                 0:03:35\n",
      "Exp sentence:                                        0:00:35\n",
      "All sentence:                                        0:00:35\n",
      "Total:                                               0:06:16\n"
     ]
    }
   ],
   "source": [
    "def pretty_print(name, timedelta):\n",
    "    timestr = '{}'.format(timedelta).split('.')[0]\n",
    "    print(name + ': {0:>{width}}'\n",
    "          .format(timestr, width=58 - len(name)))\n",
    "\n",
    "pretty_print('Intro (= home instructions + exp instructions)',\n",
    "             registration_to_first_training - training_sentence)\n",
    "pretty_print('Training', training)\n",
    "pretty_print('Training sentence', training_sentence)\n",
    "#pretty_print('Questionnaire', questionnaire)\n",
    "#pretty_print('Back to exp', questionnaire_to_first_exp - exp_sentence)\n",
    "pretty_print('Exp', exp)\n",
    "pretty_print('Exp sentence', exp_sentence)\n",
    "all_sentence = ((first_to_last_training + first_to_last_exp)\n",
    "                / (config.experiment_work + config.training_work - 2))\n",
    "pretty_print('All sentence', all_sentence)\n",
    "pretty_print('Total', total)"
   ]
  }
 ],
 "metadata": {
  "kernelspec": {
   "display_name": "Python 3",
   "language": "python",
   "name": "python3"
  },
  "language_info": {
   "codemirror_mode": {
    "name": "ipython",
    "version": 3
   },
   "file_extension": ".py",
   "mimetype": "text/x-python",
   "name": "python",
   "nbconvert_exporter": "python",
   "pygments_lexer": "ipython3",
   "version": "3.6.0"
  },
  "toc": {
   "toc_cell": false,
   "toc_number_sections": false,
   "toc_threshold": 6,
   "toc_window_display": false
  }
 },
 "nbformat": 4,
 "nbformat_minor": 0
}
