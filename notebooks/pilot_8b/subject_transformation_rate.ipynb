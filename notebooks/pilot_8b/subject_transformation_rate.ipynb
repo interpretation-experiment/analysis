{
 "cells": [
  {
   "cell_type": "markdown",
   "metadata": {
    "deletable": true,
    "editable": true
   },
   "source": [
    "# Subject transformation rate"
   ]
  },
  {
   "cell_type": "markdown",
   "metadata": {
    "deletable": true,
    "editable": true
   },
   "source": [
    "## 1 Setup"
   ]
  },
  {
   "cell_type": "markdown",
   "metadata": {
    "deletable": true,
    "editable": true
   },
   "source": [
    "Flags"
   ]
  },
  {
   "cell_type": "code",
   "execution_count": 1,
   "metadata": {
    "collapsed": true,
    "deletable": true,
    "editable": true
   },
   "outputs": [],
   "source": [
    "SAVE_FIGURES = False"
   ]
  },
  {
   "cell_type": "markdown",
   "metadata": {
    "deletable": true,
    "editable": true
   },
   "source": [
    "Setup the database"
   ]
  },
  {
   "cell_type": "code",
   "execution_count": 2,
   "metadata": {
    "collapsed": false,
    "deletable": true,
    "editable": true
   },
   "outputs": [
    {
     "name": "stdout",
     "output_type": "stream",
     "text": [
      "Database: spreadr_pilot_8b\n"
     ]
    }
   ],
   "source": [
    "import os, sys\n",
    "sys.path.insert(1, os.path.abspath('../..'))\n",
    "import analysis\n",
    "\n",
    "FIG = os.path.join(os.path.abspath(os.path.curdir), '{}.png')\n",
    "DB_NAME = 'spreadr_' + os.path.split(os.path.abspath(os.path.curdir))[1]\n",
    "analysis.setup(DB_NAME)\n",
    "print('Database:', DB_NAME)"
   ]
  },
  {
   "cell_type": "markdown",
   "metadata": {
    "deletable": true,
    "editable": true
   },
   "source": [
    "Imports for the analysis"
   ]
  },
  {
   "cell_type": "code",
   "execution_count": 3,
   "metadata": {
    "collapsed": false,
    "deletable": true,
    "editable": true
   },
   "outputs": [],
   "source": [
    "from pandas import DataFrame\n",
    "from django.db.models import Count\n",
    "\n",
    "from gists.models import Sentence, Profile, GistsConfiguration\n",
    "\n",
    "config = GistsConfiguration.get_solo()"
   ]
  },
  {
   "cell_type": "markdown",
   "metadata": {
    "deletable": true,
    "editable": true
   },
   "source": [
    "## 2 Transformation rate per subject"
   ]
  },
  {
   "cell_type": "markdown",
   "metadata": {
    "deletable": true,
    "editable": true
   },
   "source": [
    "First build our data"
   ]
  },
  {
   "cell_type": "code",
   "execution_count": 4,
   "metadata": {
    "collapsed": false,
    "deletable": true,
    "editable": true
   },
   "outputs": [],
   "source": [
    "profiles = Profile.objects\\\n",
    "    .annotate(Count('sentences'))\\\n",
    "    .filter(sentences__count=config.experiment_work + config.training_work,\n",
    "            user__is_staff=False)\n",
    "data = []\n",
    "for distance in Sentence.DISTANCE_TYPES:\n",
    "    for profile in profiles:\n",
    "        data.append({\n",
    "                'username': profile.user.username,\n",
    "                'prolific': profile.prolific_id,\n",
    "                'distance': distance,\n",
    "                'transformation rate': profile.transformation_rate(distance)\n",
    "            })\n",
    "data = DataFrame(data)"
   ]
  },
  {
   "cell_type": "code",
   "execution_count": 5,
   "metadata": {
    "collapsed": false,
    "deletable": true,
    "editable": true,
    "scrolled": false
   },
   "outputs": [
    {
     "name": "stdout",
     "output_type": "stream",
     "text": [
      "Distance: raw\n",
      "        username                  prolific  transformation rate\n",
      "0        catface  55f42b6a32af740005170bd0             0.051013\n",
      "3           elle  56153d5e7ffc8a000a811ba8             0.095516\n",
      "7            ked  57b4a771cda70d0001534835             0.112820\n",
      "2  Alexandriaweb  58c9aa0593499d000134764b             0.130798\n",
      "6          ricky  5880f713ab00f60001923541             0.131319\n",
      "8           emma  584d88ee6a3e990001bf1b67             0.138286\n",
      "1         Lorcan  57de4fd84f76aa000198ae51             0.200423\n",
      "4         pwarbi  5592997afdf99b3a8aa41353             0.209557\n",
      "9             ED  57824370dcff7d0001c7a7f0             0.353344\n",
      "5     littlemiss  58d51017afd578000167c17b             0.421010\n",
      "\n",
      "Distance: ow\n",
      "         username                  prolific  transformation rate\n",
      "10        catface  55f42b6a32af740005170bd0             0.067500\n",
      "13           elle  56153d5e7ffc8a000a811ba8             0.086277\n",
      "17            ked  57b4a771cda70d0001534835             0.126915\n",
      "18           emma  584d88ee6a3e990001bf1b67             0.139363\n",
      "16          ricky  5880f713ab00f60001923541             0.140088\n",
      "12  Alexandriaweb  58c9aa0593499d000134764b             0.145031\n",
      "11         Lorcan  57de4fd84f76aa000198ae51             0.231893\n",
      "14         pwarbi  5592997afdf99b3a8aa41353             0.234372\n",
      "19             ED  57824370dcff7d0001c7a7f0             0.380477\n",
      "15     littlemiss  58d51017afd578000167c17b             0.450311\n",
      "\n",
      "Distance: oc\n",
      "         username                  prolific  transformation rate\n",
      "23           elle  56153d5e7ffc8a000a811ba8             0.068182\n",
      "20        catface  55f42b6a32af740005170bd0             0.076705\n",
      "27            ked  57b4a771cda70d0001534835             0.125541\n",
      "28           emma  584d88ee6a3e990001bf1b67             0.142857\n",
      "26          ricky  5880f713ab00f60001923541             0.154453\n",
      "22  Alexandriaweb  58c9aa0593499d000134764b             0.161255\n",
      "21         Lorcan  57de4fd84f76aa000198ae51             0.202381\n",
      "24         pwarbi  5592997afdf99b3a8aa41353             0.212121\n",
      "29             ED  57824370dcff7d0001c7a7f0             0.395671\n",
      "25     littlemiss  58d51017afd578000167c17b             0.470346\n",
      "\n",
      "Distance: uc\n",
      "         username                  prolific  transformation rate\n",
      "33           elle  56153d5e7ffc8a000a811ba8             0.068182\n",
      "30        catface  55f42b6a32af740005170bd0             0.084821\n",
      "37            ked  57b4a771cda70d0001534835             0.142857\n",
      "38           emma  584d88ee6a3e990001bf1b67             0.142857\n",
      "36          ricky  5880f713ab00f60001923541             0.181293\n",
      "32  Alexandriaweb  58c9aa0593499d000134764b             0.211905\n",
      "34         pwarbi  5592997afdf99b3a8aa41353             0.224026\n",
      "31         Lorcan  57de4fd84f76aa000198ae51             0.234375\n",
      "39             ED  57824370dcff7d0001c7a7f0             0.398299\n",
      "35     littlemiss  58d51017afd578000167c17b             0.474490\n",
      "\n"
     ]
    }
   ],
   "source": [
    "for distance in Sentence.DISTANCE_TYPES:\n",
    "    print('Distance: {}'.format(distance))\n",
    "    print(data[data.distance == distance].sort_values(by='transformation rate')\n",
    "          [['username', 'prolific', 'transformation rate']])\n",
    "    print()"
   ]
  }
 ],
 "metadata": {
  "kernelspec": {
   "display_name": "Python 3",
   "language": "python",
   "name": "python3"
  },
  "language_info": {
   "codemirror_mode": {
    "name": "ipython",
    "version": 3
   },
   "file_extension": ".py",
   "mimetype": "text/x-python",
   "name": "python",
   "nbconvert_exporter": "python",
   "pygments_lexer": "ipython3",
   "version": "3.6.0"
  }
 },
 "nbformat": 4,
 "nbformat_minor": 0
}
