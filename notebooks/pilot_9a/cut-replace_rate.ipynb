{
 "cells": [
  {
   "cell_type": "markdown",
   "metadata": {
    "deletable": true,
    "editable": true
   },
   "source": [
    "# Cut-replace rate: how much is a sentence cut vs. replaced"
   ]
  },
  {
   "cell_type": "markdown",
   "metadata": {
    "deletable": true,
    "editable": true
   },
   "source": [
    "## 1 Setup"
   ]
  },
  {
   "cell_type": "markdown",
   "metadata": {
    "deletable": true,
    "editable": true
   },
   "source": [
    "Flags"
   ]
  },
  {
   "cell_type": "code",
   "execution_count": 1,
   "metadata": {
    "collapsed": true,
    "deletable": true,
    "editable": true
   },
   "outputs": [],
   "source": [
    "SAVE_FIGURES = False"
   ]
  },
  {
   "cell_type": "markdown",
   "metadata": {
    "deletable": true,
    "editable": true
   },
   "source": [
    "Setup the database"
   ]
  },
  {
   "cell_type": "code",
   "execution_count": 2,
   "metadata": {
    "collapsed": false,
    "deletable": true,
    "editable": true
   },
   "outputs": [
    {
     "name": "stdout",
     "output_type": "stream",
     "text": [
      "Database: spreadr_pilot_9a\n"
     ]
    }
   ],
   "source": [
    "import os, sys\n",
    "sys.path.insert(1, os.path.abspath('../..'))\n",
    "import analysis\n",
    "\n",
    "FIG = os.path.join(os.path.abspath(os.path.curdir), '{}.png')\n",
    "DB_NAME = 'spreadr_' + os.path.split(os.path.abspath(os.path.curdir))[1]\n",
    "analysis.setup(DB_NAME)\n",
    "print('Database:', DB_NAME)"
   ]
  },
  {
   "cell_type": "markdown",
   "metadata": {
    "deletable": true,
    "editable": true
   },
   "source": [
    "Imports for the analysis"
   ]
  },
  {
   "cell_type": "code",
   "execution_count": 3,
   "metadata": {
    "collapsed": false,
    "deletable": true,
    "editable": true
   },
   "outputs": [],
   "source": [
    "%matplotlib inline\n",
    "import matplotlib.pyplot as plt\n",
    "from matplotlib.collections import LineCollection\n",
    "import numpy as np\n",
    "from pandas import DataFrame\n",
    "from scipy.stats import linregress\n",
    "import seaborn as sb\n",
    "\n",
    "from gists.models import Sentence, Tree\n",
    "\n",
    "from analysis.utils import grouper, memoized, mpl_palette"
   ]
  },
  {
   "cell_type": "markdown",
   "metadata": {
    "deletable": true,
    "editable": true
   },
   "source": [
    "## 2 Cut-replace rate per tree"
   ]
  },
  {
   "cell_type": "markdown",
   "metadata": {
    "deletable": true,
    "editable": true
   },
   "source": [
    "First build our data"
   ]
  },
  {
   "cell_type": "code",
   "execution_count": 4,
   "metadata": {
    "collapsed": false,
    "deletable": true,
    "editable": true
   },
   "outputs": [],
   "source": [
    "trees = Tree.objects.experiment.all()\n",
    "data = []\n",
    "order = []\n",
    "for tree in trees:\n",
    "    root = tree.root\n",
    "    order.append({'tree id': tree.id,\n",
    "                  'root_content_words_count': len(root.content_words)})\n",
    "    for sentence in tree.sentences.kept.all():\n",
    "        data.append({'tree id': tree.id,\n",
    "                     'sentence id': sentence.id,\n",
    "                     'length': len(sentence.content_words),\n",
    "                     'length / len(root)': len(sentence.content_words) / len(root.content_words),\n",
    "                     'diff from root': root.uc_distance(sentence)\n",
    "                    })\n",
    "data = DataFrame(data)\n",
    "root_order = DataFrame(order).sort_values(['root_content_words_count', 'tree id'])"
   ]
  },
  {
   "cell_type": "markdown",
   "metadata": {
    "deletable": true,
    "editable": true
   },
   "source": [
    "For each tree, plot the length of a sentence (number of content words relative to number content words of its tree root, so immune so minor changes) as a function of the difference from its tree root (difference taken as distance between bags of content words, so unordered).\n",
    "\n",
    "On each plot there are 3 interesting spots:\n",
    "* a sentence in the upper-left is very close to the root, both in length and content;\n",
    "* a sentence in the upper-right is very different to the root, but about the same length; so it's different from its root, because many words are replaced;\n",
    "* a sentence in the lower-right is very different to the root, and a lot shorter too; so it's different mainly because it's been croppped a lot.\n",
    "\n",
    "So, the steeper the slope (downwards), the more a tree has its sentences cut, i.e. words removed. The flatter the slope, the more it has its sentences transformed, i.e. words replaced.\n",
    "\n",
    "Plots are **ordered by number of content words in the root of the tree**, which correlates a lot to the slope."
   ]
  },
  {
   "cell_type": "code",
   "execution_count": 5,
   "metadata": {
    "collapsed": false,
    "deletable": true,
    "editable": true
   },
   "outputs": [
    {
     "data": {
      "image/png": "[encoded data removed]",
      "text/plain": [
       "<matplotlib.figure.Figure at 0x7fe987055048>"
      ]
     },
     "metadata": {},
     "output_type": "display_data"
    }
   ],
   "source": [
    "g = sb.lmplot(data=data,\n",
    "              y='length / len(root)', x='diff from root',\n",
    "              col='tree id', col_wrap=7, size=1.5,\n",
    "              col_order=root_order['tree id'])\n",
    "g.set(xlim=(-0.1, 1.1), ylim=(-0.1, 1.5))\n",
    "if SAVE_FIGURES:\n",
    "    g.savefig(FIG.format('cut-replace_rate'), dpi=300)"
   ]
  },
  {
   "cell_type": "markdown",
   "metadata": {
    "deletable": true,
    "editable": true
   },
   "source": [
    "Most trees seem to give flat or negative slope (i.e. the shorter the sentence, the more different it is from its root)."
   ]
  },
  {
   "cell_type": "markdown",
   "metadata": {
    "deletable": true,
    "editable": true
   },
   "source": [
    "## 3 Cut-replace rate ~ number of initial content words, which seem closely related"
   ]
  },
  {
   "cell_type": "markdown",
   "metadata": {
    "deletable": true,
    "editable": true
   },
   "source": [
    "First build our data"
   ]
  },
  {
   "cell_type": "code",
   "execution_count": null,
   "metadata": {
    "collapsed": false,
    "deletable": true,
    "editable": true
   },
   "outputs": [],
   "source": [
    "slope_content = []\n",
    "for tree in Tree.objects.experiment.all():\n",
    "    tree_data = data[data['tree id'] == tree.id]\n",
    "    slope, intercept, r_value, p_value, std_err = linregress(tree_data['diff from root'],\n",
    "                                                             tree_data['length / len(root)'])\n",
    "    slope_content.append({'tree id': tree.id,\n",
    "                          'root content words count': len(tree.root.content_words),\n",
    "                          'slope': slope})\n",
    "slope_content = DataFrame(slope_content)"
   ]
  },
  {
   "cell_type": "code",
   "execution_count": null,
   "metadata": {
    "collapsed": false,
    "deletable": true,
    "editable": true
   },
   "outputs": [],
   "source": [
    "fig, ax = plt.subplots(1, 1, figsize=(6, 4))\n",
    "sb.regplot(ax=ax, data=slope_content,\n",
    "           x='root content words count', y='slope',\n",
    "           x_jitter=.2, robust=True)\n",
    "ax.set_title('Cut-replace rate ~ number of root content words')\n",
    "if SAVE_FIGURES:\n",
    "    fig.savefig(FIG.format('scatter_cut-replace_content'), dpi=300)"
   ]
  },
  {
   "cell_type": "markdown",
   "metadata": {
    "deletable": true,
    "editable": true
   },
   "source": [
    "In the graph above, a more negative 'slope' value means more shortening and less replacement (and vice-versa).\n",
    "\n",
    "It's decreasing: more content words means (more or less linearly) more cutting and less replacement when you transform. Less content words means you do more replacing. It makes sense: if a sentence is very long, you're likely to remember the beginning, or the end, and forget the rest. If a sentence is very short, you're likely to remember the gist and replace its words."
   ]
  },
  {
   "cell_type": "markdown",
   "metadata": {
    "deletable": true,
    "editable": true
   },
   "source": [
    "There are a few outliers:"
   ]
  },
  {
   "cell_type": "code",
   "execution_count": null,
   "metadata": {
    "collapsed": false,
    "deletable": true,
    "editable": true
   },
   "outputs": [],
   "source": [
    "outliers = slope_content\\\n",
    "    [(slope_content['slope'] <= -.8) | (slope_content['slope'] >= .5)]\\\n",
    "    .sort_values(by=['slope'])\n",
    "outliers"
   ]
  },
  {
   "cell_type": "markdown",
   "metadata": {
    "deletable": true,
    "editable": true
   },
   "source": [
    "## 4 A few more details"
   ]
  },
  {
   "cell_type": "markdown",
   "metadata": {
    "deletable": true,
    "editable": true
   },
   "source": [
    "Here are the root sentences for all trees, for a detailed look:"
   ]
  },
  {
   "cell_type": "code",
   "execution_count": null,
   "metadata": {
    "collapsed": false,
    "deletable": true,
    "editable": true,
    "scrolled": true
   },
   "outputs": [],
   "source": [
    "for tree in Tree.objects.experiment.all():\n",
    "    print('Tree #{}'.format(tree.id))\n",
    "    print('--------')\n",
    "    print(tree.root.text)\n",
    "    print()"
   ]
  },
  {
   "cell_type": "markdown",
   "metadata": {
    "deletable": true,
    "editable": true
   },
   "source": [
    "And the outliers' content words:"
   ]
  },
  {
   "cell_type": "code",
   "execution_count": null,
   "metadata": {
    "collapsed": false,
    "deletable": true,
    "editable": true,
    "scrolled": true
   },
   "outputs": [],
   "source": [
    "for tree in Tree.objects.filter(pk__in=outliers['tree id']):\n",
    "    print('Tree #{}'.format(tree.id))\n",
    "    print('--------')\n",
    "    for s in tree.sentences.kept.all():\n",
    "        print(s.content_words)\n",
    "    print()"
   ]
  }
 ],
 "metadata": {
  "kernelspec": {
   "display_name": "Python 3",
   "language": "python",
   "name": "python3"
  },
  "language_info": {
   "codemirror_mode": {
    "name": "ipython",
    "version": 3
   },
   "file_extension": ".py",
   "mimetype": "text/x-python",
   "name": "python",
   "nbconvert_exporter": "python",
   "pygments_lexer": "ipython3",
   "version": "3.6.0"
  }
 },
 "nbformat": 4,
 "nbformat_minor": 0
}
