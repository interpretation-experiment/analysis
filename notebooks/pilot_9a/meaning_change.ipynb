{
 "cells": [
  {
   "cell_type": "markdown",
   "metadata": {
    "deletable": true,
    "editable": true
   },
   "source": [
    "# Meaning change: do some leaves exhibit different meanings than their roots?"
   ]
  },
  {
   "cell_type": "markdown",
   "metadata": {
    "deletable": true,
    "editable": true
   },
   "source": [
    "## 1 Setup"
   ]
  },
  {
   "cell_type": "markdown",
   "metadata": {
    "deletable": true,
    "editable": true
   },
   "source": [
    "Flags"
   ]
  },
  {
   "cell_type": "code",
   "execution_count": 1,
   "metadata": {
    "collapsed": true,
    "deletable": true,
    "editable": true
   },
   "outputs": [],
   "source": [
    "SAVE_FIGURES = False"
   ]
  },
  {
   "cell_type": "markdown",
   "metadata": {
    "deletable": true,
    "editable": true
   },
   "source": [
    "Setup the database"
   ]
  },
  {
   "cell_type": "code",
   "execution_count": 2,
   "metadata": {
    "collapsed": false,
    "deletable": true,
    "editable": true
   },
   "outputs": [
    {
     "name": "stdout",
     "output_type": "stream",
     "text": [
      "Database: spreadr_pilot_9a\n"
     ]
    }
   ],
   "source": [
    "import os, sys\n",
    "sys.path.insert(1, os.path.abspath('../..'))\n",
    "import analysis\n",
    "\n",
    "FIG = os.path.join(os.path.abspath(os.path.curdir), '{}.png')\n",
    "DB_NAME = 'spreadr_' + os.path.split(os.path.abspath(os.path.curdir))[1]\n",
    "analysis.setup(DB_NAME)\n",
    "print('Database:', DB_NAME)"
   ]
  },
  {
   "cell_type": "markdown",
   "metadata": {
    "deletable": true,
    "editable": true
   },
   "source": [
    "Imports for the analysis"
   ]
  },
  {
   "cell_type": "code",
   "execution_count": 3,
   "metadata": {
    "collapsed": false,
    "deletable": true,
    "editable": true
   },
   "outputs": [],
   "source": [
    "from gists.models import Sentence, Tree\n",
    "\n",
    "from analysis.utils import memoized"
   ]
  },
  {
   "cell_type": "code",
   "execution_count": 4,
   "metadata": {
    "collapsed": false,
    "deletable": true,
    "editable": true
   },
   "outputs": [],
   "source": [
    "@memoized\n",
    "def get_leaves(self):\n",
    "    return [s for s in self.sentences.kept.all() if s.children.kept.count() == 0]\n",
    "\n",
    "Tree.leaves = property(get_leaves)"
   ]
  },
  {
   "cell_type": "markdown",
   "metadata": {
    "deletable": true,
    "editable": true
   },
   "source": [
    "## 2 Root vs. leaves for all trees"
   ]
  },
  {
   "cell_type": "code",
   "execution_count": 5,
   "metadata": {
    "collapsed": false,
    "deletable": true,
    "editable": true,
    "scrolled": false
   },
   "outputs": [
    {
     "name": "stdout",
     "output_type": "stream",
     "text": [
      "-------\n",
      "Tree #3\n",
      "--------------------------------------------------------------------------------------------------------------\n",
      "Three bears driven down from the heights of the Pyrenees by snow have been decimating the sheep of the valley.\n",
      "^^^^^^^^^^^^^^^^^^^^^^^^^^^^^^^^^^^^^^^^^^^^^^^^^^^^^^^^^^^^^^^^^^^^^^^^^^^^^^^^^^^^^^^^^^^^^^^^^^^^^^^^^^^^^^\n",
      "Three bears driven from the Pyrenees by snow have been killed.\n",
      "\n",
      "Three bears from the Pyrenees came down the mountain and decimated the sheep.\n",
      "\n",
      "\n",
      "-------\n",
      "Tree #4\n",
      "------------------------------------------------------------------------------------------------------------------------\n",
      "A criminal virago, Miss Fisher, was sentenced by the Liverpool court to 10 years' hard labour, while her lover got five.\n",
      "^^^^^^^^^^^^^^^^^^^^^^^^^^^^^^^^^^^^^^^^^^^^^^^^^^^^^^^^^^^^^^^^^^^^^^^^^^^^^^^^^^^^^^^^^^^^^^^^^^^^^^^^^^^^^^^^^^^^^^^^\n",
      "A criminal virago Miss Elliot appeared at Liverpool crown court. Her lover got three years.\n",
      "\n",
      "A criminal virago was convicted, she got 10 years, her lover got five years.\n",
      "\n",
      "\n",
      "-------\n",
      "Tree #5\n",
      "-------------------------------------------------------------------------------------------------------\n",
      "Finding her son, Alvin, 69, hanged, Mrs Hunt, of Brighton, was so depressed she could not cut him down.\n",
      "^^^^^^^^^^^^^^^^^^^^^^^^^^^^^^^^^^^^^^^^^^^^^^^^^^^^^^^^^^^^^^^^^^^^^^^^^^^^^^^^^^^^^^^^^^^^^^^^^^^^^^^\n",
      "Finding her son Alvin, 69, hanged, Mrs white was so distressed she could not cut him down.\n",
      "\n",
      "Finding Alvin, 60, hanged. Mrs Alvin could not cut him down.\n",
      "\n",
      "\n",
      "-------\n",
      "Tree #6\n",
      "-------------------------------------------------------------------------------------------------------------------------------------------\n",
      "An unidentified maker of paste jewels from the third district was fishing in a boat with his wife at Maldon. She fell. He dived. Both gone.\n",
      "^^^^^^^^^^^^^^^^^^^^^^^^^^^^^^^^^^^^^^^^^^^^^^^^^^^^^^^^^^^^^^^^^^^^^^^^^^^^^^^^^^^^^^^^^^^^^^^^^^^^^^^^^^^^^^^^^^^^^^^^^^^^^^^^^^^^^^^^^^^\n",
      "An unidentified man from Bingham was fishing in his boat. His wife also drowned.\n",
      "\n",
      "an unidentified maker of paste jewellery in the third district, was diving from a boat in Maldon. His wife dived in, he followed, no one came up.\n",
      "\n",
      "\n",
      "-------\n",
      "Tree #7\n",
      "----------------------------------------------------------------------------------------------------------------------------\n",
      "Because an automobile ran over his dog, a peasant from Bingham shot at another automobile. He got a year in jail, suspended.\n",
      "^^^^^^^^^^^^^^^^^^^^^^^^^^^^^^^^^^^^^^^^^^^^^^^^^^^^^^^^^^^^^^^^^^^^^^^^^^^^^^^^^^^^^^^^^^^^^^^^^^^^^^^^^^^^^^^^^^^^^^^^^^^^\n",
      "after an automobile ran over his dog he shot at another automobile and got five years suspended sentence\n",
      "\n",
      "Because a man shot at his dog, a peasant from Bingham shot at another man\n",
      "\n",
      "\n",
      "-------\n",
      "Tree #8\n",
      "------------------------------------------------------------------------------------------------------------------------------------\n",
      "Eugene Smith, of Ellsworth, near Bangor, entertained at his home Mrs Atwood. Eugene Taylor came to fetch her. They killed him. Love.\n",
      "^^^^^^^^^^^^^^^^^^^^^^^^^^^^^^^^^^^^^^^^^^^^^^^^^^^^^^^^^^^^^^^^^^^^^^^^^^^^^^^^^^^^^^^^^^^^^^^^^^^^^^^^^^^^^^^^^^^^^^^^^^^^^^^^^^^^\n",
      "Eugene Taylor entertained Mrs Atwood at home. Eugene Haywood killed for love.\n",
      "\n",
      "Elliot Smith entertained at a bar. A Mr Eugene came for a drink\n",
      "\n",
      "\n"
     ]
    }
   ],
   "source": [
    "for tree in Tree.objects.experiment.all():\n",
    "    title = 'Tree #{}'.format(tree.id)\n",
    "    print('-' * len(title))\n",
    "    print(title)\n",
    "    print('-' * len(tree.root.text))\n",
    "    print(tree.root.text)\n",
    "    print('^' * len(tree.root.text))\n",
    "    for leaf in tree.leaves:\n",
    "        print(leaf.text)\n",
    "        print()\n",
    "    print()"
   ]
  }
 ],
 "metadata": {
  "kernelspec": {
   "display_name": "Python 3",
   "language": "python",
   "name": "python3"
  },
  "language_info": {
   "codemirror_mode": {
    "name": "ipython",
    "version": 3
   },
   "file_extension": ".py",
   "mimetype": "text/x-python",
   "name": "python",
   "nbconvert_exporter": "python",
   "pygments_lexer": "ipython3",
   "version": "3.6.0"
  }
 },
 "nbformat": 4,
 "nbformat_minor": 0
}
