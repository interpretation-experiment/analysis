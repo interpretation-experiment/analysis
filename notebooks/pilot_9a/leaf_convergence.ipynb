{
 "cells": [
  {
   "cell_type": "markdown",
   "metadata": {
    "deletable": true,
    "editable": true
   },
   "source": [
    "# Convergence at the leaves"
   ]
  },
  {
   "cell_type": "markdown",
   "metadata": {
    "deletable": true,
    "editable": true
   },
   "source": [
    "## 1 Setup"
   ]
  },
  {
   "cell_type": "markdown",
   "metadata": {
    "deletable": true,
    "editable": true
   },
   "source": [
    "Flags"
   ]
  },
  {
   "cell_type": "code",
   "execution_count": 1,
   "metadata": {
    "collapsed": true,
    "deletable": true,
    "editable": true
   },
   "outputs": [],
   "source": [
    "SAVE_FIGURES = False"
   ]
  },
  {
   "cell_type": "markdown",
   "metadata": {
    "deletable": true,
    "editable": true
   },
   "source": [
    "Setup the database"
   ]
  },
  {
   "cell_type": "code",
   "execution_count": 2,
   "metadata": {
    "collapsed": false,
    "deletable": true,
    "editable": true
   },
   "outputs": [
    {
     "name": "stdout",
     "output_type": "stream",
     "text": [
      "Database: spreadr_pilot_9a\n"
     ]
    }
   ],
   "source": [
    "import os, sys\n",
    "sys.path.insert(1, os.path.abspath('../..'))\n",
    "import analysis\n",
    "\n",
    "FIG = os.path.join(os.path.abspath(os.path.curdir), '{}.png')\n",
    "DB_NAME = 'spreadr_' + os.path.split(os.path.abspath(os.path.curdir))[1]\n",
    "analysis.setup(DB_NAME)\n",
    "print('Database:', DB_NAME)"
   ]
  },
  {
   "cell_type": "markdown",
   "metadata": {
    "deletable": true,
    "editable": true
   },
   "source": [
    "Imports for the analysis"
   ]
  },
  {
   "cell_type": "code",
   "execution_count": 3,
   "metadata": {
    "collapsed": false,
    "deletable": true,
    "editable": true
   },
   "outputs": [],
   "source": [
    "from itertools import combinations\n",
    "\n",
    "%matplotlib inline\n",
    "import matplotlib.pyplot as plt\n",
    "from matplotlib.collections import LineCollection\n",
    "import numpy as np\n",
    "from pandas import DataFrame, concat\n",
    "from scipy.stats import linregress\n",
    "import seaborn as sb\n",
    "\n",
    "from gists.models import Sentence, Tree\n",
    "\n",
    "from analysis.utils import grouper, memoized, mpl_palette"
   ]
  },
  {
   "cell_type": "markdown",
   "metadata": {
    "deletable": true,
    "editable": true
   },
   "source": [
    "## 2 Convergence at the leaves"
   ]
  },
  {
   "cell_type": "markdown",
   "metadata": {
    "deletable": true,
    "editable": true
   },
   "source": [
    "### 2.1 leaf variability ~ root length"
   ]
  },
  {
   "cell_type": "markdown",
   "metadata": {
    "deletable": true,
    "editable": true
   },
   "source": [
    "First define leaf variability for a tree"
   ]
  },
  {
   "cell_type": "code",
   "execution_count": 4,
   "metadata": {
    "collapsed": false,
    "deletable": true,
    "editable": true
   },
   "outputs": [],
   "source": [
    "@memoized\n",
    "def get_leaves(self):\n",
    "    return [s for s in self.sentences.kept.all() if s.children.kept.count() == 0]\n",
    "\n",
    "@memoized\n",
    "def get_leaf_variability_detailed(self):\n",
    "    return np.array([l1.oc_distance(l2)\n",
    "                     for l1, l2 in combinations(self.leaves, 2)])\n",
    "\n",
    "@memoized\n",
    "def get_leaf_variability(self):\n",
    "    return np.median(self.leaf_variability_detailed)\n",
    "\n",
    "Tree.leaves = property(get_leaves)\n",
    "Tree.leaf_variability_detailed = property(get_leaf_variability_detailed)\n",
    "Tree.leaf_variability = property(get_leaf_variability)"
   ]
  },
  {
   "cell_type": "markdown",
   "metadata": {
    "deletable": true,
    "editable": true
   },
   "source": [
    "Then generate our data"
   ]
  },
  {
   "cell_type": "code",
   "execution_count": 5,
   "metadata": {
    "collapsed": false,
    "deletable": true,
    "editable": true
   },
   "outputs": [],
   "source": [
    "trees = Tree.objects.experiment.all()\n",
    "data_trees = []\n",
    "for tree in trees:\n",
    "    lvd = tree.leaf_variability_detailed\n",
    "    data_trees.append(DataFrame({'tree id': [tree.id] * len(lvd),\n",
    "                                 'root length': [len(tree.root.content_words)] * len(lvd),\n",
    "                                 'leaf pair separation': lvd}))\n",
    "data = concat(data_trees)\n",
    "root_order = data.groupby('tree id', as_index=False).mean().sort_values(\\\n",
    "    ['root length', 'tree id'])"
   ]
  },
  {
   "cell_type": "code",
   "execution_count": 6,
   "metadata": {
    "collapsed": false,
    "deletable": true,
    "editable": true
   },
   "outputs": [
    {
     "data": {
      "image/png": "[encoded data removed]",
      "text/plain": [
       "<matplotlib.figure.Figure at 0x7f80f6016208>"
      ]
     },
     "metadata": {},
     "output_type": "display_data"
    }
   ],
   "source": [
    "ax = sb.regplot(data.groupby('tree id').median()['root length'],\n",
    "                data.groupby('tree id').median()['leaf pair separation'],\n",
    "                x_jitter=.1, y_jitter=.01)\n",
    "ax.set_ylabel('leaf variability')\n",
    "if SAVE_FIGURES:\n",
    "    ax.figure.savefig(FIG.format('leaf-variability_root-length'), dpi=300)"
   ]
  },
  {
   "cell_type": "code",
   "execution_count": 7,
   "metadata": {
    "collapsed": false,
    "deletable": true,
    "editable": true
   },
   "outputs": [
    {
     "name": "stderr",
     "output_type": "stream",
     "text": [
      "/home/sl/.virtualenvs/interpretation-experiment.analysis/lib/python3.6/site-packages/numpy/core/_methods.py:135: RuntimeWarning: Degrees of freedom <= 0 for slice\n",
      "  keepdims=keepdims)\n",
      "\n",
      "/home/sl/.virtualenvs/interpretation-experiment.analysis/lib/python3.6/site-packages/numpy/core/_methods.py:127: RuntimeWarning: invalid value encountered in double_scalars\n",
      "  ret = ret.dtype.type(ret / rcount)\n",
      "\n"
     ]
    },
    {
     "data": {
      "image/png": "[encoded data removed]",
      "text/plain": [
       "<matplotlib.figure.Figure at 0x7f80f5353128>"
      ]
     },
     "metadata": {},
     "output_type": "display_data"
    }
   ],
   "source": [
    "g = sb.FacetGrid(data=data, sharey=False,\n",
    "                 col='tree id', col_wrap=7, size=1.5,\n",
    "                 col_order=root_order['tree id'])\n",
    "g.map(sb.kdeplot, 'leaf pair separation', shade=True)\n",
    "if SAVE_FIGURES:\n",
    "    g.savefig(FIG.format('leaf_distances_distributions'), dpi=300)"
   ]
  },
  {
   "cell_type": "code",
   "execution_count": 8,
   "metadata": {
    "collapsed": false,
    "deletable": true,
    "editable": true
   },
   "outputs": [
    {
     "data": {
      "image/png": "[encoded data removed]",
      "text/plain": [
       "<matplotlib.figure.Figure at 0x7f80f2feb240>"
      ]
     },
     "metadata": {},
     "output_type": "display_data"
    }
   ],
   "source": [
    "fig, ax = plt.subplots(figsize=(12, 4))\n",
    "labels = []\n",
    "bardata = data.groupby('tree id', as_index=False).median().sort_values(['root length',\n",
    "                                                                        'tree id'])\n",
    "blue = sb.color_palette()[0]\n",
    "for i, (separation, tree_id) in enumerate(zip(bardata['leaf pair separation'],\n",
    "                                              bardata['tree id'])):\n",
    "    ax.bar(i, separation, color=blue)\n",
    "    labels.append(tree_id)\n",
    "trees_count = len(bardata)\n",
    "ax.set_xticks(np.linspace(0, trees_count, trees_count, endpoint=False))\n",
    "ax.set_xticklabels(labels)\n",
    "ax.set_xlabel('tree id')\n",
    "ax.set_ylabel('leaf variability')\n",
    "if SAVE_FIGURES:\n",
    "    fig.savefig(FIG.format('leaf-variability_tree-id'), dpi=300)"
   ]
  },
  {
   "cell_type": "markdown",
   "metadata": {
    "deletable": true,
    "editable": true
   },
   "source": [
    "### 2.2 leaf variability ~ branch variability (= leaf cumulated transformation rate / leaf depth)"
   ]
  },
  {
   "cell_type": "code",
   "execution_count": 9,
   "metadata": {
    "collapsed": false,
    "deletable": true,
    "editable": true
   },
   "outputs": [],
   "source": [
    "@memoized\n",
    "def get_branches_variability(self):\n",
    "    return np.array([leaf.cum_root_distance('oc') / leaf.depth\n",
    "                     for leaf in self.leaves])\n",
    "\n",
    "Tree.branches_variability = property(get_branches_variability)"
   ]
  },
  {
   "cell_type": "code",
   "execution_count": 10,
   "metadata": {
    "collapsed": false,
    "deletable": true,
    "editable": true
   },
   "outputs": [],
   "source": [
    "trees = Tree.objects.experiment.all()\n",
    "data_trees = []\n",
    "for tree in trees:\n",
    "    bvd = tree.branches_variability\n",
    "    data_trees.append(DataFrame({'tree id': [tree.id] * len(bvd),\n",
    "                                 'root length': [len(tree.root.content_words)] * len(bvd),\n",
    "                                 'branches variability': bvd,\n",
    "                                 'leaf variability': [tree.leaf_variability] * len(bvd)}))\n",
    "data = concat(data_trees)\n",
    "root_order = data.groupby('tree id', as_index=False).mean().sort_values(\\\n",
    "    ['root length', 'tree id'])"
   ]
  },
  {
   "cell_type": "code",
   "execution_count": 11,
   "metadata": {
    "collapsed": false,
    "deletable": true,
    "editable": true
   },
   "outputs": [
    {
     "data": {
      "image/png": "[encoded data removed]",
      "text/plain": [
       "<matplotlib.figure.Figure at 0x7f80f329fbe0>"
      ]
     },
     "metadata": {},
     "output_type": "display_data"
    }
   ],
   "source": [
    "scatterdata = data.groupby('tree id', as_index=False).mean()\n",
    "sb.regplot(scatterdata['branches variability'], scatterdata['leaf variability'],\n",
    "           robust=True, ci=None);"
   ]
  },
  {
   "cell_type": "code",
   "execution_count": 12,
   "metadata": {
    "collapsed": false,
    "deletable": true,
    "editable": true
   },
   "outputs": [
    {
     "data": {
      "image/png": "[encoded data removed]",
      "text/plain": [
       "<matplotlib.figure.Figure at 0x7f80f2c9b438>"
      ]
     },
     "metadata": {},
     "output_type": "display_data"
    }
   ],
   "source": [
    "fig, axes = plt.subplots(2, 1, figsize=(12, 8))\n",
    "palette = sb.color_palette('Set2')\n",
    "labels = []\n",
    "bardata = data.groupby('tree id', as_index=False).mean().sort_values(['root length',\n",
    "                                                                      'tree id'])\n",
    "for i, (lv, bv, tree_id) in enumerate(zip(bardata['leaf variability'], \n",
    "                                          bardata['branches variability'],\n",
    "                                          bardata['tree id'])):\n",
    "    axes[0].bar(i, lv, width=.4, color=palette[0],\n",
    "                label='leaf variability' if i == 0 else None)\n",
    "    axes[0].bar(i + .4, bv, width=.4, color=palette[1],\n",
    "                label='branch variability' if i == 0 else None)\n",
    "    axes[1].bar(i, lv/bv, color=palette[2],\n",
    "                label='leaf variability / branch variability' if i == 0 else None)\n",
    "    labels.append(tree_id)\n",
    "trees_count = len(bardata)\n",
    "axes[0].set_xticks(np.linspace(0, trees_count, trees_count, endpoint=False))\n",
    "axes[0].set_xticklabels(labels)\n",
    "axes[0].set_xlabel('Tree id')\n",
    "axes[0].legend(loc='best')\n",
    "axes[1].set_xticks(np.linspace(0, trees_count, trees_count, endpoint=False))\n",
    "axes[1].set_xticklabels(labels)\n",
    "axes[1].set_xlabel('Tree id')\n",
    "axes[1].legend(loc='best')\n",
    "if SAVE_FIGURES:\n",
    "    fig.savefig(FIG.format('divergence_rates'), dpi=300)"
   ]
  }
 ],
 "metadata": {
  "kernelspec": {
   "display_name": "Python 3",
   "language": "python",
   "name": "python3"
  },
  "language_info": {
   "codemirror_mode": {
    "name": "ipython",
    "version": 3
   },
   "file_extension": ".py",
   "mimetype": "text/x-python",
   "name": "python",
   "nbconvert_exporter": "python",
   "pygments_lexer": "ipython3",
   "version": "3.6.0"
  }
 },
 "nbformat": 4,
 "nbformat_minor": 0
}
