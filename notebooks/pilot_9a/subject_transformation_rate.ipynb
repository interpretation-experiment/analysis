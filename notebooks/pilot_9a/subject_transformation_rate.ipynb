{
 "cells": [
  {
   "cell_type": "markdown",
   "metadata": {
    "deletable": true,
    "editable": true
   },
   "source": [
    "# Subject transformation rate"
   ]
  },
  {
   "cell_type": "markdown",
   "metadata": {
    "deletable": true,
    "editable": true
   },
   "source": [
    "## 1 Setup"
   ]
  },
  {
   "cell_type": "markdown",
   "metadata": {
    "deletable": true,
    "editable": true
   },
   "source": [
    "Flags"
   ]
  },
  {
   "cell_type": "code",
   "execution_count": 1,
   "metadata": {
    "collapsed": true,
    "deletable": true,
    "editable": true
   },
   "outputs": [],
   "source": [
    "SAVE_FIGURES = False"
   ]
  },
  {
   "cell_type": "markdown",
   "metadata": {
    "deletable": true,
    "editable": true
   },
   "source": [
    "Setup the database"
   ]
  },
  {
   "cell_type": "code",
   "execution_count": 2,
   "metadata": {
    "collapsed": false,
    "deletable": true,
    "editable": true
   },
   "outputs": [
    {
     "name": "stdout",
     "output_type": "stream",
     "text": [
      "Database: spreadr_pilot_9a\n"
     ]
    }
   ],
   "source": [
    "import os, sys\n",
    "sys.path.insert(1, os.path.abspath('../..'))\n",
    "import analysis\n",
    "\n",
    "FIG = os.path.join(os.path.abspath(os.path.curdir), '{}.png')\n",
    "DB_NAME = 'spreadr_' + os.path.split(os.path.abspath(os.path.curdir))[1]\n",
    "analysis.setup(DB_NAME)\n",
    "print('Database:', DB_NAME)"
   ]
  },
  {
   "cell_type": "markdown",
   "metadata": {
    "deletable": true,
    "editable": true
   },
   "source": [
    "Imports for the analysis"
   ]
  },
  {
   "cell_type": "code",
   "execution_count": 3,
   "metadata": {
    "collapsed": false,
    "deletable": true,
    "editable": true
   },
   "outputs": [],
   "source": [
    "from pandas import DataFrame\n",
    "from django.db.models import Count\n",
    "\n",
    "from gists.models import Sentence, Profile, GistsConfiguration\n",
    "\n",
    "config = GistsConfiguration.get_solo()"
   ]
  },
  {
   "cell_type": "markdown",
   "metadata": {
    "deletable": true,
    "editable": true
   },
   "source": [
    "## 2 Transformation rate per subject"
   ]
  },
  {
   "cell_type": "markdown",
   "metadata": {
    "deletable": true,
    "editable": true
   },
   "source": [
    "First build our data"
   ]
  },
  {
   "cell_type": "code",
   "execution_count": 4,
   "metadata": {
    "collapsed": false,
    "deletable": true,
    "editable": true
   },
   "outputs": [],
   "source": [
    "profiles = Profile.objects\\\n",
    "    .annotate(Count('sentences'))\\\n",
    "    .filter(sentences__count=config.experiment_work + config.training_work,\n",
    "            user__is_staff=False)\n",
    "data = []\n",
    "for distance in Sentence.DISTANCE_TYPES:\n",
    "    for profile in profiles:\n",
    "        data.append({\n",
    "                'username': profile.user.username,\n",
    "                'prolific': profile.prolific_id,\n",
    "                'distance': distance,\n",
    "                'transformation rate': profile.transformation_rate(distance)\n",
    "            })\n",
    "data = DataFrame(data)"
   ]
  },
  {
   "cell_type": "code",
   "execution_count": 5,
   "metadata": {
    "collapsed": false,
    "deletable": true,
    "editable": true,
    "scrolled": false
   },
   "outputs": [
    {
     "name": "stdout",
     "output_type": "stream",
     "text": [
      "Distance: raw\n",
      "       username                  prolific  transformation rate\n",
      "9        Tobias  56601e9bc9217c000b50bddc             0.033317\n",
      "6             M  560445a5e372c00011bd4fc2             0.077434\n",
      "7            Cj  58404fd8ad98e40001ce915f             0.100406\n",
      "0       cloudyi  56c51e9af7cc2f000b7e1154             0.110298\n",
      "3  chronostar66  545f9fc0fdf99b3157cb40c1             0.136358\n",
      "5     kazuwacky  544fe86dfdf99b56bcf1f8ce             0.145599\n",
      "8      Lorraine  5872a580a205a90001e7f38d             0.236195\n",
      "4         chloe  5821bf5b12388b0001e12740             0.282586\n",
      "2           ali  58c1886c3977190001f53ec8             0.388907\n",
      "1         brian  5816488a3b65a80001c0aedb             0.454287\n",
      "\n",
      "Distance: ow\n",
      "        username                  prolific  transformation rate\n",
      "19        Tobias  56601e9bc9217c000b50bddc             0.043498\n",
      "16             M  560445a5e372c00011bd4fc2             0.080825\n",
      "17            Cj  58404fd8ad98e40001ce915f             0.118546\n",
      "10       cloudyi  56c51e9af7cc2f000b7e1154             0.131292\n",
      "15     kazuwacky  544fe86dfdf99b56bcf1f8ce             0.158206\n",
      "13  chronostar66  545f9fc0fdf99b3157cb40c1             0.185195\n",
      "18      Lorraine  5872a580a205a90001e7f38d             0.256466\n",
      "14         chloe  5821bf5b12388b0001e12740             0.311282\n",
      "12           ali  58c1886c3977190001f53ec8             0.425409\n",
      "11         brian  5816488a3b65a80001c0aedb             0.513419\n",
      "\n",
      "Distance: oc\n",
      "        username                  prolific  transformation rate\n",
      "26             M  560445a5e372c00011bd4fc2             0.053125\n",
      "29        Tobias  56601e9bc9217c000b50bddc             0.064069\n",
      "27            Cj  58404fd8ad98e40001ce915f             0.088474\n",
      "20       cloudyi  56c51e9af7cc2f000b7e1154             0.126107\n",
      "25     kazuwacky  544fe86dfdf99b56bcf1f8ce             0.158490\n",
      "23  chronostar66  545f9fc0fdf99b3157cb40c1             0.168939\n",
      "28      Lorraine  5872a580a205a90001e7f38d             0.265553\n",
      "24         chloe  5821bf5b12388b0001e12740             0.303477\n",
      "22           ali  58c1886c3977190001f53ec8             0.424337\n",
      "21         brian  5816488a3b65a80001c0aedb             0.495176\n",
      "\n",
      "Distance: uc\n",
      "        username                  prolific  transformation rate\n",
      "36             M  560445a5e372c00011bd4fc2             0.067909\n",
      "37            Cj  58404fd8ad98e40001ce915f             0.078606\n",
      "39        Tobias  56601e9bc9217c000b50bddc             0.078813\n",
      "30       cloudyi  56c51e9af7cc2f000b7e1154             0.118280\n",
      "35     kazuwacky  544fe86dfdf99b56bcf1f8ce             0.155382\n",
      "33  chronostar66  545f9fc0fdf99b3157cb40c1             0.204018\n",
      "34         chloe  5821bf5b12388b0001e12740             0.301542\n",
      "38      Lorraine  5872a580a205a90001e7f38d             0.302453\n",
      "32           ali  58c1886c3977190001f53ec8             0.401024\n",
      "31         brian  5816488a3b65a80001c0aedb             0.500348\n",
      "\n"
     ]
    }
   ],
   "source": [
    "for distance in Sentence.DISTANCE_TYPES:\n",
    "    print('Distance: {}'.format(distance))\n",
    "    print(data[data.distance == distance].sort_values(by='transformation rate')\n",
    "          [['username', 'prolific', 'transformation rate']])\n",
    "    print()"
   ]
  }
 ],
 "metadata": {
  "kernelspec": {
   "display_name": "Python 3",
   "language": "python",
   "name": "python3"
  },
  "language_info": {
   "codemirror_mode": {
    "name": "ipython",
    "version": 3
   },
   "file_extension": ".py",
   "mimetype": "text/x-python",
   "name": "python",
   "nbconvert_exporter": "python",
   "pygments_lexer": "ipython3",
   "version": "3.6.0"
  }
 },
 "nbformat": 4,
 "nbformat_minor": 0
}
