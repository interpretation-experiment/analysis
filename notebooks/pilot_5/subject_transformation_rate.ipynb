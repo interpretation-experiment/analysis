{
 "cells": [
  {
   "cell_type": "markdown",
   "metadata": {
    "deletable": true,
    "editable": true
   },
   "source": [
    "# Subject transformation rate"
   ]
  },
  {
   "cell_type": "markdown",
   "metadata": {
    "deletable": true,
    "editable": true
   },
   "source": [
    "## 1 Setup"
   ]
  },
  {
   "cell_type": "markdown",
   "metadata": {
    "deletable": true,
    "editable": true
   },
   "source": [
    "Flags"
   ]
  },
  {
   "cell_type": "code",
   "execution_count": 1,
   "metadata": {
    "collapsed": true,
    "deletable": true,
    "editable": true
   },
   "outputs": [],
   "source": [
    "SAVE_FIGURES = False"
   ]
  },
  {
   "cell_type": "markdown",
   "metadata": {
    "deletable": true,
    "editable": true
   },
   "source": [
    "Setup the database"
   ]
  },
  {
   "cell_type": "code",
   "execution_count": 2,
   "metadata": {
    "collapsed": false,
    "deletable": true,
    "editable": true
   },
   "outputs": [],
   "source": [
    "import os, sys\n",
    "sys.path.insert(1, os.path.abspath('..'))\n",
    "from utils import setup_spreadr\n",
    "setup_spreadr('spreadr_pilot_5')"
   ]
  },
  {
   "cell_type": "markdown",
   "metadata": {
    "deletable": true,
    "editable": true
   },
   "source": [
    "Imports for the analysis"
   ]
  },
  {
   "cell_type": "code",
   "execution_count": 3,
   "metadata": {
    "collapsed": false,
    "deletable": true,
    "editable": true
   },
   "outputs": [],
   "source": [
    "from pandas import DataFrame\n",
    "from django.db.models import Count\n",
    "\n",
    "from gists.models import Profile, GistsConfiguration\n",
    "\n",
    "config = GistsConfiguration.get_solo()"
   ]
  },
  {
   "cell_type": "markdown",
   "metadata": {
    "deletable": true,
    "editable": true
   },
   "source": [
    "Equip models with useful tools"
   ]
  },
  {
   "cell_type": "code",
   "execution_count": 4,
   "metadata": {
    "collapsed": false,
    "deletable": true,
    "editable": true
   },
   "outputs": [],
   "source": [
    "from utils import equip_spreadr_models as utils_equip\n",
    "utils_equip()\n",
    "\n",
    "from linguistics import equip_spreadr_models as linguistics_equip\n",
    "linguistics_equip()"
   ]
  },
  {
   "cell_type": "markdown",
   "metadata": {
    "deletable": true,
    "editable": true
   },
   "source": [
    "## 2 Transformation rate per subject"
   ]
  },
  {
   "cell_type": "markdown",
   "metadata": {
    "deletable": true,
    "editable": true
   },
   "source": [
    "First build our data"
   ]
  },
  {
   "cell_type": "code",
   "execution_count": 5,
   "metadata": {
    "collapsed": false,
    "deletable": true,
    "editable": true
   },
   "outputs": [],
   "source": [
    "profiles = Profile.objects\\\n",
    "    .annotate(Count('sentences'))\\\n",
    "    .filter(sentences__count=config.experiment_work + config.training_work,\n",
    "            user__is_staff=False)\n",
    "data = []\n",
    "for distance in ['raw', 'ordered_content', 'unordered_content']:\n",
    "    for profile in profiles:\n",
    "        data.append({\n",
    "                'username': profile.user.username,\n",
    "                'prolific': profile.prolific_id,\n",
    "                'distance': distance,\n",
    "                'transformation rate': profile.transformation_rate(distance)\n",
    "            })\n",
    "data = DataFrame(data)"
   ]
  },
  {
   "cell_type": "code",
   "execution_count": 6,
   "metadata": {
    "collapsed": false,
    "deletable": true,
    "editable": true
   },
   "outputs": [
    {
     "name": "stdout",
     "output_type": "stream",
     "text": [
      "Distance: raw\n",
      "         username                  prolific  transformation rate\n",
      "1  UnleashTheWolf  58adb4795e63bf00013b51ba             0.016551\n",
      "2             Ana  5774ed97d8e8880001b2ff6c             0.039445\n",
      "4           Bunny  5755c957eb80c4000741a9ce             0.075119\n",
      "3             maz  562a00dac8ffc20012513fbe             0.129931\n",
      "5          hannah  587e770f38cf6c000113a0c9             0.148053\n",
      "0           Steve  5863ab01ac950900013dd9dd             0.215193\n",
      "\n",
      "Distance: ordered_content\n",
      "          username                  prolific  transformation rate\n",
      "7   UnleashTheWolf  58adb4795e63bf00013b51ba             0.023036\n",
      "8              Ana  5774ed97d8e8880001b2ff6c             0.033812\n",
      "10           Bunny  5755c957eb80c4000741a9ce             0.065967\n",
      "9              maz  562a00dac8ffc20012513fbe             0.095253\n",
      "11          hannah  587e770f38cf6c000113a0c9             0.167637\n",
      "6            Steve  5863ab01ac950900013dd9dd             0.248333\n",
      "\n",
      "Distance: unordered_content\n",
      "          username                  prolific  transformation rate\n",
      "13  UnleashTheWolf  58adb4795e63bf00013b51ba             0.033654\n",
      "14             Ana  5774ed97d8e8880001b2ff6c             0.042899\n",
      "16           Bunny  5755c957eb80c4000741a9ce             0.082118\n",
      "15             maz  562a00dac8ffc20012513fbe             0.086187\n",
      "17          hannah  587e770f38cf6c000113a0c9             0.150161\n",
      "12           Steve  5863ab01ac950900013dd9dd             0.236493\n",
      "\n"
     ]
    }
   ],
   "source": [
    "for distance in ['raw', 'ordered_content', 'unordered_content']:\n",
    "    print('Distance: {}'.format(distance))\n",
    "    print(data[data.distance == distance].sort_values(by='transformation rate')\n",
    "          [['username', 'prolific', 'transformation rate']])\n",
    "    print()"
   ]
  }
 ],
 "metadata": {
  "kernelspec": {
   "display_name": "Python 3",
   "language": "python",
   "name": "python3"
  },
  "language_info": {
   "codemirror_mode": {
    "name": "ipython",
    "version": 3
   },
   "file_extension": ".py",
   "mimetype": "text/x-python",
   "name": "python",
   "nbconvert_exporter": "python",
   "pygments_lexer": "ipython3",
   "version": "3.6.0"
  }
 },
 "nbformat": 4,
 "nbformat_minor": 0
}
