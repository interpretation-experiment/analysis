{
 "cells": [
  {
   "cell_type": "markdown",
   "metadata": {
    "deletable": true,
    "editable": true
   },
   "source": [
    "# Subject transformation rate"
   ]
  },
  {
   "cell_type": "markdown",
   "metadata": {
    "deletable": true,
    "editable": true
   },
   "source": [
    "## 1 Setup"
   ]
  },
  {
   "cell_type": "markdown",
   "metadata": {
    "deletable": true,
    "editable": true
   },
   "source": [
    "Flags"
   ]
  },
  {
   "cell_type": "code",
   "execution_count": 1,
   "metadata": {
    "collapsed": true,
    "deletable": true,
    "editable": true
   },
   "outputs": [],
   "source": [
    "SAVE_FIGURES = False"
   ]
  },
  {
   "cell_type": "markdown",
   "metadata": {
    "deletable": true,
    "editable": true
   },
   "source": [
    "Setup the database"
   ]
  },
  {
   "cell_type": "code",
   "execution_count": 2,
   "metadata": {
    "collapsed": false,
    "deletable": true,
    "editable": true
   },
   "outputs": [
    {
     "name": "stdout",
     "output_type": "stream",
     "text": [
      "Database: spreadr_pilot_8c\n"
     ]
    }
   ],
   "source": [
    "import os, sys\n",
    "sys.path.insert(1, os.path.abspath('../..'))\n",
    "import analysis\n",
    "\n",
    "FIG = os.path.join(os.path.abspath(os.path.curdir), '{}.png')\n",
    "DB_NAME = 'spreadr_' + os.path.split(os.path.abspath(os.path.curdir))[1]\n",
    "analysis.setup(DB_NAME)\n",
    "print('Database:', DB_NAME)"
   ]
  },
  {
   "cell_type": "markdown",
   "metadata": {
    "deletable": true,
    "editable": true
   },
   "source": [
    "Imports for the analysis"
   ]
  },
  {
   "cell_type": "code",
   "execution_count": 3,
   "metadata": {
    "collapsed": false,
    "deletable": true,
    "editable": true
   },
   "outputs": [],
   "source": [
    "from pandas import DataFrame\n",
    "from django.db.models import Count\n",
    "\n",
    "from gists.models import Sentence, Profile, GistsConfiguration\n",
    "\n",
    "config = GistsConfiguration.get_solo()"
   ]
  },
  {
   "cell_type": "markdown",
   "metadata": {
    "deletable": true,
    "editable": true
   },
   "source": [
    "## 2 Transformation rate per subject"
   ]
  },
  {
   "cell_type": "markdown",
   "metadata": {
    "deletable": true,
    "editable": true
   },
   "source": [
    "First build our data"
   ]
  },
  {
   "cell_type": "code",
   "execution_count": 4,
   "metadata": {
    "collapsed": false,
    "deletable": true,
    "editable": true
   },
   "outputs": [],
   "source": [
    "profiles = Profile.objects\\\n",
    "    .annotate(Count('sentences'))\\\n",
    "    .filter(sentences__count=config.experiment_work + config.training_work,\n",
    "            user__is_staff=False)\n",
    "data = []\n",
    "for distance in Sentence.DISTANCE_TYPES:\n",
    "    for profile in profiles:\n",
    "        data.append({\n",
    "                'username': profile.user.username,\n",
    "                'prolific': profile.prolific_id,\n",
    "                'distance': distance,\n",
    "                'transformation rate': profile.transformation_rate(distance)\n",
    "            })\n",
    "data = DataFrame(data)"
   ]
  },
  {
   "cell_type": "code",
   "execution_count": 5,
   "metadata": {
    "collapsed": false,
    "deletable": true,
    "editable": true,
    "scrolled": false
   },
   "outputs": [
    {
     "name": "stdout",
     "output_type": "stream",
     "text": [
      "Distance: raw\n",
      "      username                  prolific  transformation rate\n",
      "8       carlos  5738b41e67421f000e18464c             0.027778\n",
      "6        ap135  58038ecf9c39b3000179ecdc             0.133096\n",
      "5         sean  58a4d25f7cf56d0001f92066             0.203255\n",
      "3  tupapukanka  58a0f13a34fcb300010533e1             0.312554\n",
      "1         Andy  571dd9b913b1b70009be2d86             0.322870\n",
      "9          Nia  58adbe2cbb9e0f0001acb15a             0.332692\n",
      "0         Alex  56cc7449ccc0e2000cb7f29e             0.354224\n",
      "2        Alice  83557c58eef13b7b70001d1e             0.478488\n",
      "7      Marvs05  58cc4fcac7ed3f000116e5dd             0.541329\n",
      "4          Ian  542bbe97fdf99b324f7632af             0.588049\n",
      "\n",
      "Distance: ow\n",
      "       username                  prolific  transformation rate\n",
      "18       carlos  5738b41e67421f000e18464c             0.000000\n",
      "16        ap135  58038ecf9c39b3000179ecdc             0.150000\n",
      "15         sean  58a4d25f7cf56d0001f92066             0.205952\n",
      "13  tupapukanka  58a0f13a34fcb300010533e1             0.331212\n",
      "10         Alex  56cc7449ccc0e2000cb7f29e             0.363406\n",
      "11         Andy  571dd9b913b1b70009be2d86             0.365833\n",
      "19          Nia  58adbe2cbb9e0f0001acb15a             0.392391\n",
      "12        Alice  83557c58eef13b7b70001d1e             0.555918\n",
      "17      Marvs05  58cc4fcac7ed3f000116e5dd             0.634310\n",
      "14          Ian  542bbe97fdf99b324f7632af             0.658122\n",
      "\n",
      "Distance: oc\n",
      "       username                  prolific  transformation rate\n",
      "28       carlos  5738b41e67421f000e18464c             0.000000\n",
      "26        ap135  58038ecf9c39b3000179ecdc             0.187500\n",
      "25         sean  58a4d25f7cf56d0001f92066             0.245833\n",
      "23  tupapukanka  58a0f13a34fcb300010533e1             0.250000\n",
      "21         Andy  571dd9b913b1b70009be2d86             0.377143\n",
      "20         Alex  56cc7449ccc0e2000cb7f29e             0.412987\n",
      "29          Nia  58adbe2cbb9e0f0001acb15a             0.477273\n",
      "22        Alice  83557c58eef13b7b70001d1e             0.580808\n",
      "27      Marvs05  58cc4fcac7ed3f000116e5dd             0.789773\n",
      "24          Ian  542bbe97fdf99b324f7632af             0.850000\n",
      "\n",
      "Distance: uc\n",
      "       username                  prolific  transformation rate\n",
      "38       carlos  5738b41e67421f000e18464c             0.000000\n",
      "36        ap135  58038ecf9c39b3000179ecdc             0.208333\n",
      "33  tupapukanka  58a0f13a34fcb300010533e1             0.250000\n",
      "35         sean  58a4d25f7cf56d0001f92066             0.283333\n",
      "30         Alex  56cc7449ccc0e2000cb7f29e             0.389091\n",
      "31         Andy  571dd9b913b1b70009be2d86             0.428571\n",
      "39          Nia  58adbe2cbb9e0f0001acb15a             0.479167\n",
      "32        Alice  83557c58eef13b7b70001d1e             0.606061\n",
      "34          Ian  542bbe97fdf99b324f7632af             0.850000\n",
      "37      Marvs05  58cc4fcac7ed3f000116e5dd             0.852273\n",
      "\n"
     ]
    }
   ],
   "source": [
    "for distance in Sentence.DISTANCE_TYPES:\n",
    "    print('Distance: {}'.format(distance))\n",
    "    print(data[data.distance == distance].sort_values(by='transformation rate')\n",
    "          [['username', 'prolific', 'transformation rate']])\n",
    "    print()"
   ]
  }
 ],
 "metadata": {
  "kernelspec": {
   "display_name": "Python 3",
   "language": "python",
   "name": "python3"
  },
  "language_info": {
   "codemirror_mode": {
    "name": "ipython",
    "version": 3
   },
   "file_extension": ".py",
   "mimetype": "text/x-python",
   "name": "python",
   "nbconvert_exporter": "python",
   "pygments_lexer": "ipython3",
   "version": "3.6.0"
  }
 },
 "nbformat": 4,
 "nbformat_minor": 0
}
