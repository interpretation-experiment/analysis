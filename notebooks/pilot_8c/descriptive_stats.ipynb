{
 "cells": [
  {
   "cell_type": "markdown",
   "metadata": {
    "deletable": true,
    "editable": true
   },
   "source": [
    "# Descriptive statistics"
   ]
  },
  {
   "cell_type": "markdown",
   "metadata": {
    "deletable": true,
    "editable": true
   },
   "source": [
    "## 1 Setup"
   ]
  },
  {
   "cell_type": "markdown",
   "metadata": {
    "deletable": true,
    "editable": true
   },
   "source": [
    "Flags"
   ]
  },
  {
   "cell_type": "code",
   "execution_count": 1,
   "metadata": {
    "collapsed": true,
    "deletable": true,
    "editable": true
   },
   "outputs": [],
   "source": [
    "SAVE_FIGURES = False"
   ]
  },
  {
   "cell_type": "markdown",
   "metadata": {
    "deletable": true,
    "editable": true
   },
   "source": [
    "Setup the database"
   ]
  },
  {
   "cell_type": "code",
   "execution_count": 2,
   "metadata": {
    "collapsed": false,
    "deletable": true,
    "editable": true
   },
   "outputs": [
    {
     "name": "stdout",
     "output_type": "stream",
     "text": [
      "Database: spreadr_pilot_8c\n"
     ]
    }
   ],
   "source": [
    "import os, sys\n",
    "sys.path.insert(1, os.path.abspath('../..'))\n",
    "import analysis\n",
    "\n",
    "FIG = os.path.join(os.path.abspath(os.path.curdir), '{}.png')\n",
    "DB_NAME = 'spreadr_' + os.path.split(os.path.abspath(os.path.curdir))[1]\n",
    "analysis.setup(DB_NAME)\n",
    "print('Database:', DB_NAME)"
   ]
  },
  {
   "cell_type": "markdown",
   "metadata": {
    "deletable": true,
    "editable": true
   },
   "source": [
    "Imports for the analysis"
   ]
  },
  {
   "cell_type": "code",
   "execution_count": 3,
   "metadata": {
    "collapsed": false,
    "deletable": true,
    "editable": true
   },
   "outputs": [],
   "source": [
    "%matplotlib inline\n",
    "import matplotlib.pyplot as plt\n",
    "from nltk.metrics import edit_distance\n",
    "import numpy as np\n",
    "from pandas import DataFrame\n",
    "import seaborn as sb\n",
    "from django.db.models import Count\n",
    "\n",
    "from gists.models import (Sentence, Profile, GistsConfiguration,\n",
    "                          JOB_TYPE_CHOICES, EDUCATION_LEVEL_CHOICES)\n",
    "\n",
    "from analysis.utils import memoized\n",
    "\n",
    "config = GistsConfiguration.get_solo()"
   ]
  },
  {
   "cell_type": "markdown",
   "metadata": {
    "deletable": true,
    "editable": true
   },
   "source": [
    "## 2 Despamming"
   ]
  },
  {
   "cell_type": "markdown",
   "metadata": {
    "deletable": true,
    "editable": true
   },
   "source": [
    "Compute spam rate"
   ]
  },
  {
   "cell_type": "code",
   "execution_count": 4,
   "metadata": {
    "collapsed": false,
    "deletable": true,
    "editable": true
   },
   "outputs": [
    {
     "name": "stdout",
     "output_type": "stream",
     "text": [
      "Spam represents 46.6% of the sentences\n"
     ]
    }
   ],
   "source": [
    "spam_rate = 1 - (Sentence.objects.nonspam.count() / Sentence.objects.count())\n",
    "print('Spam represents {:.1f}% of the sentences'.format(spam_rate * 100))"
   ]
  },
  {
   "cell_type": "code",
   "execution_count": 5,
   "metadata": {
    "collapsed": false,
    "deletable": true,
    "editable": true
   },
   "outputs": [
    {
     "name": "stdout",
     "output_type": "stream",
     "text": [
      "Spam+rogues+doubleposts represents 46.6% of the sentences\n"
     ]
    }
   ],
   "source": [
    "dropped_rate = 1 - (Sentence.objects.kept.count() / Sentence.objects.count())\n",
    "print('Spam+rogues+doubleposts represents {:.1f}% of the sentences'.format(dropped_rate * 100))"
   ]
  },
  {
   "cell_type": "markdown",
   "metadata": {
    "deletable": true,
    "editable": true
   },
   "source": [
    "This is a lot! Because the `read_factor` was way too short."
   ]
  },
  {
   "cell_type": "markdown",
   "metadata": {
    "deletable": true,
    "editable": true
   },
   "source": [
    "## 3 Interaction of profile variables"
   ]
  },
  {
   "cell_type": "markdown",
   "metadata": {
    "deletable": true,
    "editable": true
   },
   "source": [
    "Compute the variables"
   ]
  },
  {
   "cell_type": "code",
   "execution_count": null,
   "metadata": {
    "collapsed": false,
    "deletable": true,
    "editable": true
   },
   "outputs": [],
   "source": [
    "profiles = profiles = Profile.objects\\\n",
    "    .annotate(Count('sentences'))\\\n",
    "    .filter(sentences__count=config.experiment_work + config.training_work,\n",
    "            user__is_staff=False)\n",
    "data = []\n",
    "job_type_map = dict(JOB_TYPE_CHOICES)\n",
    "education_level_map = dict(EDUCATION_LEVEL_CHOICES)\n",
    "print('Computing variables on {} profiles...'.format(len(profiles)), end='')\n",
    "for profile in profiles:\n",
    "    print(' #{}'.format(profile.id), end='')\n",
    "    try:\n",
    "        ed_level_id = int(profile.questionnaire.education_level)\n",
    "    except ValueError:\n",
    "        ed_level_id = np.NaN\n",
    "    data.append({\n",
    "        'raw TR': profile.transformation_rate('raw'),\n",
    "        'ordered content TR': profile.transformation_rate('oc'),\n",
    "        'age': profile.questionnaire.age,\n",
    "        'gender': profile.questionnaire.gender,\n",
    "        'job type': job_type_map[profile.questionnaire.job_type],\n",
    "        'ed level': education_level_map[profile.questionnaire.education_level],\n",
    "        'ed level id': ed_level_id,\n",
    "    })\n",
    "\n",
    "profiles_interactions = DataFrame(data, index=[p.id for p in profiles])"
   ]
  },
  {
   "cell_type": "markdown",
   "metadata": {
    "deletable": true,
    "editable": true
   },
   "source": [
    "And plot them, first with gender as color (**not much to say to these graphs**):"
   ]
  },
  {
   "cell_type": "code",
   "execution_count": null,
   "metadata": {
    "collapsed": false,
    "deletable": true,
    "editable": true
   },
   "outputs": [],
   "source": [
    "sb.pairplot(profiles_interactions, hue='gender',\n",
    "            vars=['raw TR',\n",
    "                  'ordered content TR',\n",
    "                  'age'],\n",
    "            kind='reg');"
   ]
  },
  {
   "cell_type": "markdown",
   "metadata": {
    "deletable": true,
    "editable": true
   },
   "source": [
    "Then with job type as color (**not much to say to this either**):"
   ]
  },
  {
   "cell_type": "code",
   "execution_count": null,
   "metadata": {
    "collapsed": false,
    "deletable": true,
    "editable": true
   },
   "outputs": [],
   "source": [
    "sb.pairplot(profiles_interactions, hue='job type',\n",
    "            vars=['raw TR',\n",
    "                  'ordered content TR',\n",
    "                  'age'],\n",
    "            kind='reg');"
   ]
  },
  {
   "cell_type": "markdown",
   "metadata": {
    "deletable": true,
    "editable": true
   },
   "source": [
    "Then with education level as color (**not much to say to this either**):"
   ]
  },
  {
   "cell_type": "code",
   "execution_count": null,
   "metadata": {
    "collapsed": false,
    "deletable": true,
    "editable": true
   },
   "outputs": [],
   "source": [
    "sb.pairplot(profiles_interactions, hue='ed level',\n",
    "            vars=['raw TR',\n",
    "                  'ordered content TR',\n",
    "                  'age'],\n",
    "            kind='reg');"
   ]
  },
  {
   "cell_type": "markdown",
   "metadata": {
    "deletable": true,
    "editable": true
   },
   "source": [
    "A boxplot of the interaction between gender, job type, and transformation rate (**again, not much to say to this**):"
   ]
  },
  {
   "cell_type": "code",
   "execution_count": null,
   "metadata": {
    "collapsed": false,
    "deletable": true,
    "editable": true
   },
   "outputs": [],
   "source": [
    "ax = sb.boxplot(data=profiles_interactions, x='job type', y='ordered content TR',\n",
    "                hue='gender', palette='Paired')\n",
    "ax.set_xticklabels([t.get_text() for t in ax.get_xticklabels()], rotation=60);"
   ]
  },
  {
   "cell_type": "markdown",
   "metadata": {
    "deletable": true,
    "editable": true
   },
   "source": [
    "And another boxplot of the interaction between gender, education level, and transformation rate (**again, not much to say to this**):"
   ]
  },
  {
   "cell_type": "code",
   "execution_count": null,
   "metadata": {
    "collapsed": false,
    "deletable": true,
    "editable": true
   },
   "outputs": [],
   "source": [
    "ax = sb.boxplot(data=profiles_interactions, x='ed level', y='ordered content TR',\n",
    "                hue='gender', palette='Paired')\n",
    "ax.set_xticklabels([t.get_text() for t in ax.get_xticklabels()], rotation=60);"
   ]
  },
  {
   "cell_type": "markdown",
   "metadata": {
    "deletable": true,
    "editable": true
   },
   "source": [
    "Interaction of education level and transformation rate?"
   ]
  },
  {
   "cell_type": "code",
   "execution_count": null,
   "metadata": {
    "collapsed": false,
    "deletable": true,
    "editable": true
   },
   "outputs": [],
   "source": [
    "sb.regplot(data=profiles_interactions, x='ed level id', y='ordered content TR')"
   ]
  },
  {
   "cell_type": "markdown",
   "metadata": {
    "deletable": true,
    "editable": true
   },
   "source": [
    "... none."
   ]
  },
  {
   "cell_type": "markdown",
   "metadata": {
    "deletable": true,
    "editable": true
   },
   "source": [
    "Age?"
   ]
  },
  {
   "cell_type": "code",
   "execution_count": null,
   "metadata": {
    "collapsed": false,
    "deletable": true,
    "editable": true
   },
   "outputs": [],
   "source": [
    "sb.regplot(data=profiles_interactions, x='age', y='ordered content TR')"
   ]
  },
  {
   "cell_type": "markdown",
   "metadata": {
    "deletable": true,
    "editable": true
   },
   "source": [
    "Nope. Or very slight, getting better (lower TR) with age!"
   ]
  }
 ],
 "metadata": {
  "kernelspec": {
   "display_name": "Python 3",
   "language": "python",
   "name": "python3"
  },
  "language_info": {
   "codemirror_mode": {
    "name": "ipython",
    "version": 3
   },
   "file_extension": ".py",
   "mimetype": "text/x-python",
   "name": "python",
   "nbconvert_exporter": "python",
   "pygments_lexer": "ipython3",
   "version": "3.6.0"
  }
 },
 "nbformat": 4,
 "nbformat_minor": 0
}
