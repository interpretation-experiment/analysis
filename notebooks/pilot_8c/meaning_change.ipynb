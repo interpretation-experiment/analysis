{
 "cells": [
  {
   "cell_type": "markdown",
   "metadata": {
    "deletable": true,
    "editable": true
   },
   "source": [
    "# Meaning change: do some leaves exhibit different meanings than their roots?"
   ]
  },
  {
   "cell_type": "markdown",
   "metadata": {
    "deletable": true,
    "editable": true
   },
   "source": [
    "## 1 Setup"
   ]
  },
  {
   "cell_type": "markdown",
   "metadata": {
    "deletable": true,
    "editable": true
   },
   "source": [
    "Flags"
   ]
  },
  {
   "cell_type": "code",
   "execution_count": 1,
   "metadata": {
    "collapsed": true,
    "deletable": true,
    "editable": true
   },
   "outputs": [],
   "source": [
    "SAVE_FIGURES = False"
   ]
  },
  {
   "cell_type": "markdown",
   "metadata": {
    "deletable": true,
    "editable": true
   },
   "source": [
    "Setup the database"
   ]
  },
  {
   "cell_type": "code",
   "execution_count": 2,
   "metadata": {
    "collapsed": false,
    "deletable": true,
    "editable": true
   },
   "outputs": [
    {
     "name": "stdout",
     "output_type": "stream",
     "text": [
      "Database: spreadr_pilot_8c\n"
     ]
    }
   ],
   "source": [
    "import os, sys\n",
    "sys.path.insert(1, os.path.abspath('../..'))\n",
    "import analysis\n",
    "\n",
    "FIG = os.path.join(os.path.abspath(os.path.curdir), '{}.png')\n",
    "DB_NAME = 'spreadr_' + os.path.split(os.path.abspath(os.path.curdir))[1]\n",
    "analysis.setup(DB_NAME)\n",
    "print('Database:', DB_NAME)"
   ]
  },
  {
   "cell_type": "markdown",
   "metadata": {
    "deletable": true,
    "editable": true
   },
   "source": [
    "Imports for the analysis"
   ]
  },
  {
   "cell_type": "code",
   "execution_count": 3,
   "metadata": {
    "collapsed": false,
    "deletable": true,
    "editable": true
   },
   "outputs": [],
   "source": [
    "from gists.models import Sentence, Tree\n",
    "\n",
    "from analysis.utils import memoized"
   ]
  },
  {
   "cell_type": "code",
   "execution_count": 4,
   "metadata": {
    "collapsed": false,
    "deletable": true,
    "editable": true
   },
   "outputs": [],
   "source": [
    "@memoized\n",
    "def get_leaves(self):\n",
    "    return [s for s in self.sentences.kept.all() if s.children.kept.count() == 0]\n",
    "\n",
    "Tree.leaves = property(get_leaves)"
   ]
  },
  {
   "cell_type": "markdown",
   "metadata": {
    "deletable": true,
    "editable": true
   },
   "source": [
    "## 2 Root vs. leaves for all trees"
   ]
  },
  {
   "cell_type": "code",
   "execution_count": 5,
   "metadata": {
    "collapsed": false,
    "deletable": true,
    "editable": true,
    "scrolled": false
   },
   "outputs": [
    {
     "name": "stdout",
     "output_type": "stream",
     "text": [
      "-------\n",
      "Tree #3\n",
      "-----------------------------------------------------------------------------\n",
      "This is the first one that looked like it was hiding from the world at large.\n",
      "^^^^^^^^^^^^^^^^^^^^^^^^^^^^^^^^^^^^^^^^^^^^^^^^^^^^^^^^^^^^^^^^^^^^^^^^^^^^^\n",
      "This is the first time I looked at hiding\n",
      "\n",
      "this is the first look up key\n",
      "\n",
      "\n",
      "-------\n",
      "Tree #4\n",
      "--------------------------------------------------------------------------\n",
      "Don't piss me off, junior. Or I will repaint this office with your brains.\n",
      "^^^^^^^^^^^^^^^^^^^^^^^^^^^^^^^^^^^^^^^^^^^^^^^^^^^^^^^^^^^^^^^^^^^^^^^^^^\n",
      "Do not piss me off! I am in a good mood\n",
      "\n",
      "Don't piss me off junior, or I will repaint\n",
      "\n",
      "\n",
      "-------\n",
      "Tree #5\n",
      "--------------------------------------------------------------------------------------------\n",
      "The first and most important rule of gunrunning is never get shot with your own merchandise.\n",
      "^^^^^^^^^^^^^^^^^^^^^^^^^^^^^^^^^^^^^^^^^^^^^^^^^^^^^^^^^^^^^^^^^^^^^^^^^^^^^^^^^^^^^^^^^^^^\n",
      "The first and most important rule of gunrunning is not to get caught\n",
      "\n",
      "\n",
      "-------\n",
      "Tree #6\n",
      "-------------------------------------------------------------------------------------------\n",
      "Actually, my friend will pronounce you dead shortly and I thought I might keep him company.\n",
      "^^^^^^^^^^^^^^^^^^^^^^^^^^^^^^^^^^^^^^^^^^^^^^^^^^^^^^^^^^^^^^^^^^^^^^^^^^^^^^^^^^^^^^^^^^^\n",
      "Actually, my friend will pronounce\n",
      "\n",
      "Actually, my friend will pronounce you dead\n",
      "\n",
      "\n",
      "-------\n",
      "Tree #7\n",
      "-----------------------------------------------------------\n",
      "You don't have to tell me your secret if you don't want to.\n",
      "^^^^^^^^^^^^^^^^^^^^^^^^^^^^^^^^^^^^^^^^^^^^^^^^^^^^^^^^^^^\n",
      "you do not have to read\n",
      "\n",
      "You don't have to tell me excellent\n",
      "\n",
      "\n",
      "-------\n",
      "Tree #8\n",
      "----------------------------------------------------------------------------------\n",
      "Can you think of anything else, Barbara, they might have told me about that party?\n",
      "^^^^^^^^^^^^^^^^^^^^^^^^^^^^^^^^^^^^^^^^^^^^^^^^^^^^^^^^^^^^^^^^^^^^^^^^^^^^^^^^^^\n",
      "ca you think of anything else Barbara they might have told\n",
      "\n",
      "\n"
     ]
    }
   ],
   "source": [
    "for tree in Tree.objects.experiment.all():\n",
    "    title = 'Tree #{}'.format(tree.id)\n",
    "    print('-' * len(title))\n",
    "    print(title)\n",
    "    print('-' * len(tree.root.text))\n",
    "    print(tree.root.text)\n",
    "    print('^' * len(tree.root.text))\n",
    "    for leaf in tree.leaves:\n",
    "        print(leaf.text)\n",
    "        print()\n",
    "    print()"
   ]
  }
 ],
 "metadata": {
  "kernelspec": {
   "display_name": "Python 3",
   "language": "python",
   "name": "python3"
  },
  "language_info": {
   "codemirror_mode": {
    "name": "ipython",
    "version": 3
   },
   "file_extension": ".py",
   "mimetype": "text/x-python",
   "name": "python",
   "nbconvert_exporter": "python",
   "pygments_lexer": "ipython3",
   "version": "3.6.0"
  }
 },
 "nbformat": 4,
 "nbformat_minor": 0
}
