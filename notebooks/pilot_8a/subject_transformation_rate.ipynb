{
 "cells": [
  {
   "cell_type": "markdown",
   "metadata": {
    "deletable": true,
    "editable": true
   },
   "source": [
    "# Subject transformation rate"
   ]
  },
  {
   "cell_type": "markdown",
   "metadata": {
    "deletable": true,
    "editable": true
   },
   "source": [
    "## 1 Setup"
   ]
  },
  {
   "cell_type": "markdown",
   "metadata": {
    "deletable": true,
    "editable": true
   },
   "source": [
    "Flags"
   ]
  },
  {
   "cell_type": "code",
   "execution_count": 1,
   "metadata": {
    "collapsed": true,
    "deletable": true,
    "editable": true
   },
   "outputs": [],
   "source": [
    "SAVE_FIGURES = False"
   ]
  },
  {
   "cell_type": "markdown",
   "metadata": {
    "deletable": true,
    "editable": true
   },
   "source": [
    "Setup the database"
   ]
  },
  {
   "cell_type": "code",
   "execution_count": 2,
   "metadata": {
    "collapsed": false,
    "deletable": true,
    "editable": true
   },
   "outputs": [
    {
     "name": "stdout",
     "output_type": "stream",
     "text": [
      "Database: spreadr_pilot_8a\n"
     ]
    }
   ],
   "source": [
    "import os, sys\n",
    "sys.path.insert(1, os.path.abspath('../..'))\n",
    "import analysis\n",
    "\n",
    "FIG = os.path.join(os.path.abspath(os.path.curdir), '{}.png')\n",
    "DB_NAME = 'spreadr_' + os.path.split(os.path.abspath(os.path.curdir))[1]\n",
    "analysis.setup(DB_NAME)\n",
    "print('Database:', DB_NAME)"
   ]
  },
  {
   "cell_type": "markdown",
   "metadata": {
    "deletable": true,
    "editable": true
   },
   "source": [
    "Imports for the analysis"
   ]
  },
  {
   "cell_type": "code",
   "execution_count": 3,
   "metadata": {
    "collapsed": false,
    "deletable": true,
    "editable": true
   },
   "outputs": [],
   "source": [
    "from pandas import DataFrame\n",
    "from django.db.models import Count\n",
    "\n",
    "from gists.models import Sentence, Profile, GistsConfiguration\n",
    "\n",
    "config = GistsConfiguration.get_solo()"
   ]
  },
  {
   "cell_type": "markdown",
   "metadata": {
    "deletable": true,
    "editable": true
   },
   "source": [
    "## 2 Transformation rate per subject"
   ]
  },
  {
   "cell_type": "markdown",
   "metadata": {
    "deletable": true,
    "editable": true
   },
   "source": [
    "First build our data"
   ]
  },
  {
   "cell_type": "code",
   "execution_count": 4,
   "metadata": {
    "collapsed": false,
    "deletable": true,
    "editable": true
   },
   "outputs": [],
   "source": [
    "profiles = Profile.objects\\\n",
    "    .annotate(Count('sentences'))\\\n",
    "    .filter(sentences__count=config.experiment_work + config.training_work,\n",
    "            user__is_staff=False)\n",
    "data = []\n",
    "for distance in Sentence.DISTANCE_TYPES:\n",
    "    for profile in profiles:\n",
    "        data.append({\n",
    "                'username': profile.user.username,\n",
    "                'prolific': profile.prolific_id,\n",
    "                'distance': distance,\n",
    "                'transformation rate': profile.transformation_rate(distance)\n",
    "            })\n",
    "data = DataFrame(data)"
   ]
  },
  {
   "cell_type": "code",
   "execution_count": 5,
   "metadata": {
    "collapsed": false,
    "deletable": true,
    "editable": true,
    "scrolled": false
   },
   "outputs": [
    {
     "name": "stdout",
     "output_type": "stream",
     "text": [
      "Distance: raw\n",
      "     username                  prolific  transformation rate\n",
      "6       Emily  58d179e2c4358b00018bfc74             0.049172\n",
      "9        fobe  57fb71185babd2000141049a             0.051098\n",
      "4     erika81  55d39f64da14d7001295375a             0.076436\n",
      "8      lyndsr  57cd6b9892da98000100c333             0.095501\n",
      "3       Penny  56fee6f704254b0010ffe6ab             0.101889\n",
      "0   Scribbles  58cbfd583783090001b4abf3             0.135940\n",
      "7          CQ  57756cc47ba34c00010c8844             0.154690\n",
      "5       Piney  5718a9c4dd9ef10013df01f0             0.174450\n",
      "1       Jason  55c28db0fdf99b5e72c6efbc             0.176762\n",
      "2  ahamilto82  566feba6b937e400052d33b2             0.189651\n",
      "\n",
      "Distance: ow\n",
      "      username                  prolific  transformation rate\n",
      "16       Emily  58d179e2c4358b00018bfc74             0.051291\n",
      "19        fobe  57fb71185babd2000141049a             0.074638\n",
      "18      lyndsr  57cd6b9892da98000100c333             0.089855\n",
      "14     erika81  55d39f64da14d7001295375a             0.091572\n",
      "13       Penny  56fee6f704254b0010ffe6ab             0.123764\n",
      "17          CQ  57756cc47ba34c00010c8844             0.165803\n",
      "10   Scribbles  58cbfd583783090001b4abf3             0.188678\n",
      "15       Piney  5718a9c4dd9ef10013df01f0             0.198110\n",
      "11       Jason  55c28db0fdf99b5e72c6efbc             0.208854\n",
      "12  ahamilto82  566feba6b937e400052d33b2             0.228021\n",
      "\n",
      "Distance: oc\n",
      "      username                  prolific  transformation rate\n",
      "26       Emily  58d179e2c4358b00018bfc74             0.056818\n",
      "24     erika81  55d39f64da14d7001295375a             0.088312\n",
      "28      lyndsr  57cd6b9892da98000100c333             0.102273\n",
      "29        fobe  57fb71185babd2000141049a             0.105114\n",
      "23       Penny  56fee6f704254b0010ffe6ab             0.111742\n",
      "25       Piney  5718a9c4dd9ef10013df01f0             0.185335\n",
      "20   Scribbles  58cbfd583783090001b4abf3             0.196023\n",
      "21       Jason  55c28db0fdf99b5e72c6efbc             0.200000\n",
      "22  ahamilto82  566feba6b937e400052d33b2             0.208333\n",
      "27          CQ  57756cc47ba34c00010c8844             0.240909\n",
      "\n",
      "Distance: uc\n",
      "      username                  prolific  transformation rate\n",
      "36       Emily  58d179e2c4358b00018bfc74             0.067308\n",
      "34     erika81  55d39f64da14d7001295375a             0.094940\n",
      "38      lyndsr  57cd6b9892da98000100c333             0.107143\n",
      "33       Penny  56fee6f704254b0010ffe6ab             0.111742\n",
      "39        fobe  57fb71185babd2000141049a             0.125947\n",
      "35       Piney  5718a9c4dd9ef10013df01f0             0.213347\n",
      "30   Scribbles  58cbfd583783090001b4abf3             0.228571\n",
      "31       Jason  55c28db0fdf99b5e72c6efbc             0.229167\n",
      "37          CQ  57756cc47ba34c00010c8844             0.240909\n",
      "32  ahamilto82  566feba6b937e400052d33b2             0.241071\n",
      "\n"
     ]
    }
   ],
   "source": [
    "for distance in Sentence.DISTANCE_TYPES:\n",
    "    print('Distance: {}'.format(distance))\n",
    "    print(data[data.distance == distance].sort_values(by='transformation rate')\n",
    "          [['username', 'prolific', 'transformation rate']])\n",
    "    print()"
   ]
  }
 ],
 "metadata": {
  "kernelspec": {
   "display_name": "Python 3",
   "language": "python",
   "name": "python3"
  },
  "language_info": {
   "codemirror_mode": {
    "name": "ipython",
    "version": 3
   },
   "file_extension": ".py",
   "mimetype": "text/x-python",
   "name": "python",
   "nbconvert_exporter": "python",
   "pygments_lexer": "ipython3",
   "version": "3.6.0"
  }
 },
 "nbformat": 4,
 "nbformat_minor": 0
}
