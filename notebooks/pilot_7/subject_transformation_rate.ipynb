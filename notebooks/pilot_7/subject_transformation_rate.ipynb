{
 "cells": [
  {
   "cell_type": "markdown",
   "metadata": {
    "deletable": true,
    "editable": true
   },
   "source": [
    "# Subject transformation rate"
   ]
  },
  {
   "cell_type": "markdown",
   "metadata": {
    "deletable": true,
    "editable": true
   },
   "source": [
    "## 1 Setup"
   ]
  },
  {
   "cell_type": "markdown",
   "metadata": {
    "deletable": true,
    "editable": true
   },
   "source": [
    "Flags"
   ]
  },
  {
   "cell_type": "code",
   "execution_count": 1,
   "metadata": {
    "collapsed": true,
    "deletable": true,
    "editable": true
   },
   "outputs": [],
   "source": [
    "SAVE_FIGURES = False"
   ]
  },
  {
   "cell_type": "markdown",
   "metadata": {
    "deletable": true,
    "editable": true
   },
   "source": [
    "Setup the database"
   ]
  },
  {
   "cell_type": "code",
   "execution_count": 2,
   "metadata": {
    "collapsed": false,
    "deletable": true,
    "editable": true
   },
   "outputs": [],
   "source": [
    "import os, sys\n",
    "sys.path.insert(1, os.path.abspath('..'))\n",
    "from utils import setup_spreadr\n",
    "setup_spreadr('spreadr_pilot_7')"
   ]
  },
  {
   "cell_type": "markdown",
   "metadata": {
    "deletable": true,
    "editable": true
   },
   "source": [
    "Imports for the analysis"
   ]
  },
  {
   "cell_type": "code",
   "execution_count": 3,
   "metadata": {
    "collapsed": false,
    "deletable": true,
    "editable": true
   },
   "outputs": [],
   "source": [
    "from pandas import DataFrame\n",
    "from django.db.models import Count\n",
    "\n",
    "from gists.models import Profile, GistsConfiguration\n",
    "\n",
    "config = GistsConfiguration.get_solo()"
   ]
  },
  {
   "cell_type": "markdown",
   "metadata": {
    "deletable": true,
    "editable": true
   },
   "source": [
    "Equip models with useful tools"
   ]
  },
  {
   "cell_type": "code",
   "execution_count": 4,
   "metadata": {
    "collapsed": false,
    "deletable": true,
    "editable": true
   },
   "outputs": [],
   "source": [
    "from utils import equip_spreadr_models as utils_equip\n",
    "utils_equip()\n",
    "\n",
    "from linguistics import equip_spreadr_models as linguistics_equip\n",
    "linguistics_equip()"
   ]
  },
  {
   "cell_type": "markdown",
   "metadata": {
    "deletable": true,
    "editable": true
   },
   "source": [
    "## 2 Transformation rate per subject"
   ]
  },
  {
   "cell_type": "markdown",
   "metadata": {
    "deletable": true,
    "editable": true
   },
   "source": [
    "First build our data"
   ]
  },
  {
   "cell_type": "code",
   "execution_count": 5,
   "metadata": {
    "collapsed": false,
    "deletable": true,
    "editable": true
   },
   "outputs": [],
   "source": [
    "profiles = Profile.objects\\\n",
    "    .annotate(Count('sentences'))\\\n",
    "    .filter(sentences__count=config.experiment_work + config.training_work,\n",
    "            user__is_staff=False)\n",
    "data = []\n",
    "for distance in ['raw', 'ordered_content', 'unordered_content']:\n",
    "    for profile in profiles:\n",
    "        data.append({\n",
    "                'username': profile.user.username,\n",
    "                'prolific': profile.prolific_id,\n",
    "                'distance': distance,\n",
    "                'transformation rate': profile.transformation_rate(distance)\n",
    "            })\n",
    "data = DataFrame(data)"
   ]
  },
  {
   "cell_type": "code",
   "execution_count": 6,
   "metadata": {
    "collapsed": false,
    "deletable": true,
    "editable": true
   },
   "outputs": [
    {
     "name": "stdout",
     "output_type": "stream",
     "text": [
      "Distance: raw\n",
      "                   username                  prolific  transformation rate\n",
      "0                       Ste  58acafdf66e4640001c53eae             0.047284\n",
      "3  56a90c96119265000c6e134d  56a90c96119265000c6e134d             0.067183\n",
      "1           nikkipilkington  5852f19a9fcc070001dfe069             0.091529\n",
      "2                     Beans  57274a95e386b9000f3eb600             0.148179\n",
      "\n",
      "Distance: ordered_content\n",
      "                   username                  prolific  transformation rate\n",
      "4                       Ste  58acafdf66e4640001c53eae             0.042857\n",
      "5           nikkipilkington  5852f19a9fcc070001dfe069             0.104409\n",
      "7  56a90c96119265000c6e134d  56a90c96119265000c6e134d             0.105556\n",
      "6                     Beans  57274a95e386b9000f3eb600             0.164462\n",
      "\n",
      "Distance: unordered_content\n",
      "                    username                  prolific  transformation rate\n",
      "8                        Ste  58acafdf66e4640001c53eae             0.050926\n",
      "9            nikkipilkington  5852f19a9fcc070001dfe069             0.093034\n",
      "11  56a90c96119265000c6e134d  56a90c96119265000c6e134d             0.138889\n",
      "10                     Beans  57274a95e386b9000f3eb600             0.166138\n",
      "\n"
     ]
    }
   ],
   "source": [
    "for distance in ['raw', 'ordered_content', 'unordered_content']:\n",
    "    print('Distance: {}'.format(distance))\n",
    "    print(data[data.distance == distance].sort_values(by='transformation rate')\n",
    "          [['username', 'prolific', 'transformation rate']])\n",
    "    print()"
   ]
  }
 ],
 "metadata": {
  "kernelspec": {
   "display_name": "Python 3",
   "language": "python",
   "name": "python3"
  },
  "language_info": {
   "codemirror_mode": {
    "name": "ipython",
    "version": 3
   },
   "file_extension": ".py",
   "mimetype": "text/x-python",
   "name": "python",
   "nbconvert_exporter": "python",
   "pygments_lexer": "ipython3",
   "version": "3.6.0"
  }
 },
 "nbformat": 4,
 "nbformat_minor": 0
}
