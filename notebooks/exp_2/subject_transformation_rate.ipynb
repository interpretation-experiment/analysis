{
 "cells": [
  {
   "cell_type": "markdown",
   "metadata": {
    "deletable": true,
    "editable": true
   },
   "source": [
    "# Subject transformation rate"
   ]
  },
  {
   "cell_type": "markdown",
   "metadata": {
    "deletable": true,
    "editable": true
   },
   "source": [
    "## 1 Setup"
   ]
  },
  {
   "cell_type": "markdown",
   "metadata": {
    "deletable": true,
    "editable": true
   },
   "source": [
    "Flags"
   ]
  },
  {
   "cell_type": "code",
   "execution_count": 1,
   "metadata": {
    "collapsed": true,
    "deletable": true,
    "editable": true
   },
   "outputs": [],
   "source": [
    "SAVE_FIGURES = False"
   ]
  },
  {
   "cell_type": "markdown",
   "metadata": {
    "deletable": true,
    "editable": true
   },
   "source": [
    "Setup the database"
   ]
  },
  {
   "cell_type": "code",
   "execution_count": 2,
   "metadata": {
    "collapsed": false,
    "deletable": true,
    "editable": true
   },
   "outputs": [
    {
     "name": "stdout",
     "output_type": "stream",
     "text": [
      "Database: spreadr_exp_2\n"
     ]
    }
   ],
   "source": [
    "import os, sys\n",
    "sys.path.insert(1, os.path.abspath('../..'))\n",
    "import analysis\n",
    "\n",
    "FIG = os.path.join(os.path.abspath(os.path.curdir), '{}.png')\n",
    "DB_NAME = 'spreadr_' + os.path.split(os.path.abspath(os.path.curdir))[1]\n",
    "analysis.setup(DB_NAME)\n",
    "print('Database:', DB_NAME)"
   ]
  },
  {
   "cell_type": "markdown",
   "metadata": {
    "deletable": true,
    "editable": true
   },
   "source": [
    "Imports for the analysis"
   ]
  },
  {
   "cell_type": "code",
   "execution_count": 3,
   "metadata": {
    "collapsed": false,
    "deletable": true,
    "editable": true
   },
   "outputs": [],
   "source": [
    "from pandas import DataFrame\n",
    "from django.db.models import Count\n",
    "\n",
    "from gists.models import Sentence, Profile, GistsConfiguration\n",
    "\n",
    "config = GistsConfiguration.get_solo()"
   ]
  },
  {
   "cell_type": "markdown",
   "metadata": {
    "deletable": true,
    "editable": true
   },
   "source": [
    "## 2 Transformation rate per subject"
   ]
  },
  {
   "cell_type": "markdown",
   "metadata": {
    "deletable": true,
    "editable": true
   },
   "source": [
    "First build our data"
   ]
  },
  {
   "cell_type": "code",
   "execution_count": 4,
   "metadata": {
    "collapsed": false,
    "deletable": true,
    "editable": true
   },
   "outputs": [],
   "source": [
    "profiles = Profile.objects\\\n",
    "    .annotate(Count('sentences'))\\\n",
    "    .filter(sentences__count=config.experiment_work + config.training_work,\n",
    "            user__is_staff=False)\n",
    "data = []\n",
    "for distance in Sentence.DISTANCE_TYPES:\n",
    "    for profile in profiles:\n",
    "        data.append({\n",
    "                'username': profile.user.username,\n",
    "                'prolific': profile.prolific_id,\n",
    "                'distance': distance,\n",
    "                'transformation rate': profile.transformation_rate(distance)\n",
    "            })\n",
    "data = DataFrame(data)"
   ]
  },
  {
   "cell_type": "code",
   "execution_count": 5,
   "metadata": {
    "collapsed": false,
    "deletable": true,
    "editable": true,
    "scrolled": false
   },
   "outputs": [
    {
     "name": "stdout",
     "output_type": "stream",
     "text": [
      "Distance: raw\n",
      "                    username                  prolific  transformation rate\n",
      "13                     dd4lh  5892537355550f0001509c35             0.005685\n",
      "12                     Piper  55d0e4d334e9060005e574c7             0.012299\n",
      "20                 Jellyfish  58b74a11211f4500013aa629             0.013441\n",
      "3                    Rodders  5810a2fa7d3e6d0001df294c             0.016205\n",
      "5                     TimorG  588e24599c4f3f00010f13db             0.016698\n",
      "34                      bern  57a6891d8eccbc0001f39f89             0.017133\n",
      "47              orangekeeper  58a465bc9b4be40001fdd51a             0.017501\n",
      "44                    Yellow  57fe1192beccf8000100c615             0.018594\n",
      "15  57d8de67011c350001353afe  57d8de67011c350001353afe             0.018968\n",
      "17                   damianc  5847e40d6cca010001fe2d64             0.020102\n",
      "18                    Amelia  58a636360da7f10001de857a             0.021001\n",
      "48                   AidanBr  54c9338ffdf99b5ae29f4383             0.021545\n",
      "23                     Becky  571b4d435d40840013c4a231             0.022928\n",
      "14                   alijody  58a83d92bb9e0f0001aca9bf             0.027083\n",
      "27                  Littleme  578ba1f56cc44500010448c0             0.027641\n",
      "45                    Zoe148  5817ddc7bb8d77000161351e             0.028842\n",
      "11                     Wayne  57d56562a0e8ce00015439c7             0.031791\n",
      "37                     stace  57e17bdc1334540001170aa0             0.032415\n",
      "35                 eblovesdb  58a470a2ef58a9000119c101             0.033185\n",
      "41                     daisy  56b78f11e77ebe000cbefe79             0.036915\n",
      "29                      boab  589ae7f2c88c680001dd52af             0.040371\n",
      "39              marriottlane  5798f7a116020100010411ac             0.040810\n",
      "38              Jokernephi77  57dd3b0e91b7fc0001493db9             0.047525\n",
      "46                         H  5755d7677d985200078b9b96             0.047562\n",
      "31                 Spatchman  5873b2d22bd3c90001859b76             0.047576\n",
      "21                   Lmclark  585d02f7e9cb31000195e3dc             0.049006\n",
      "0                      Osc10  58a8708aef58a9000119cc6e             0.049843\n",
      "24                       Muw  577d88e5900cc80001d2cfc8             0.049870\n",
      "43                     ras38  56a4f3772ff2cc000c079916             0.053427\n",
      "7                  lady_geek  57b0ea94cbe601000137716a             0.053970\n",
      "1                     Claire  57c2ed9e5b8c510001af5a1c             0.054368\n",
      "26                   gillnlw  55c90bc3fdf99b526d9b830e             0.054962\n",
      "33                     sally  58b1f3c6aaa44f000143a211             0.055127\n",
      "2            blackrosepetals  547a4f58fdf99b5321ba58f4             0.055651\n",
      "22                   RachelC  56a7da16c89737000b22953c             0.056188\n",
      "30                     Peach  58717d3ddb3e720001e2312a             0.056727\n",
      "28                    Digger  565213b5812a980012fe657c             0.066026\n",
      "9                     gmeeks  57d5ab3a722df500017f3622             0.070920\n",
      "4                  stephanie  57a8ad1e2fc0d400012c9733             0.076730\n",
      "8                      Sarah  5775874455fb780001d7f1d5             0.082327\n",
      "6                   bonebone  5849d67c49ab8b000156b10d             0.083389\n",
      "32                    Kelsea  58b82c7f6bdea10001ae3b0c             0.087104\n",
      "42                      soso  57d34d1ef22b0e000177610e             0.087316\n",
      "36                        dh  568d912de3ef9e000ca0da9e             0.118726\n",
      "40                      Melx  54a7c951fdf99b7cd759d23e             0.126737\n",
      "25                  Jamstain  56bb96e8bf2129000653cfa5             0.134876\n",
      "10                   starbar  55c89767fdf99b39e594f342             0.135027\n",
      "19                   Heather  58a072000da7f10001de7bef             0.135083\n",
      "16                       55P  55998a12fdf99b37246ad824             0.143208\n",
      "\n",
      "Distance: ow\n",
      "                    username                  prolific  transformation rate\n",
      "62                     dd4lh  5892537355550f0001509c35             0.009713\n",
      "61                     Piper  55d0e4d334e9060005e574c7             0.014472\n",
      "83                      bern  57a6891d8eccbc0001f39f89             0.016465\n",
      "52                   Rodders  5810a2fa7d3e6d0001df294c             0.016901\n",
      "96              orangekeeper  58a465bc9b4be40001fdd51a             0.017063\n",
      "93                    Yellow  57fe1192beccf8000100c615             0.018876\n",
      "66                   damianc  5847e40d6cca010001fe2d64             0.018889\n",
      "64  57d8de67011c350001353afe  57d8de67011c350001353afe             0.019153\n",
      "76                  Littleme  578ba1f56cc44500010448c0             0.020021\n",
      "69                 Jellyfish  58b74a11211f4500013aa629             0.020633\n",
      "97                   AidanBr  54c9338ffdf99b5ae29f4383             0.021281\n",
      "67                    Amelia  58a636360da7f10001de857a             0.022063\n",
      "60                     Wayne  57d56562a0e8ce00015439c7             0.026741\n",
      "72                     Becky  571b4d435d40840013c4a231             0.027087\n",
      "94                    Zoe148  5817ddc7bb8d77000161351e             0.027509\n",
      "54                    TimorG  588e24599c4f3f00010f13db             0.030015\n",
      "86                     stace  57e17bdc1334540001170aa0             0.030590\n",
      "84                 eblovesdb  58a470a2ef58a9000119c101             0.031164\n",
      "63                   alijody  58a83d92bb9e0f0001aca9bf             0.037067\n",
      "90                     daisy  56b78f11e77ebe000cbefe79             0.043281\n",
      "88              marriottlane  5798f7a116020100010411ac             0.050476\n",
      "80                 Spatchman  5873b2d22bd3c90001859b76             0.051020\n",
      "70                   Lmclark  585d02f7e9cb31000195e3dc             0.051618\n",
      "78                      boab  589ae7f2c88c680001dd52af             0.053353\n",
      "92                     ras38  56a4f3772ff2cc000c079916             0.058371\n",
      "95                         H  5755d7677d985200078b9b96             0.060761\n",
      "73                       Muw  577d88e5900cc80001d2cfc8             0.061505\n",
      "82                     sally  58b1f3c6aaa44f000143a211             0.064654\n",
      "49                     Osc10  58a8708aef58a9000119cc6e             0.066035\n",
      "56                 lady_geek  57b0ea94cbe601000137716a             0.066297\n",
      "71                   RachelC  56a7da16c89737000b22953c             0.066357\n",
      "87              Jokernephi77  57dd3b0e91b7fc0001493db9             0.066437\n",
      "75                   gillnlw  55c90bc3fdf99b526d9b830e             0.070465\n",
      "51           blackrosepetals  547a4f58fdf99b5321ba58f4             0.072265\n",
      "50                    Claire  57c2ed9e5b8c510001af5a1c             0.073631\n",
      "58                    gmeeks  57d5ab3a722df500017f3622             0.073868\n",
      "79                     Peach  58717d3ddb3e720001e2312a             0.074297\n",
      "53                 stephanie  57a8ad1e2fc0d400012c9733             0.076921\n",
      "77                    Digger  565213b5812a980012fe657c             0.087230\n",
      "91                      soso  57d34d1ef22b0e000177610e             0.091404\n",
      "57                     Sarah  5775874455fb780001d7f1d5             0.093102\n",
      "55                  bonebone  5849d67c49ab8b000156b10d             0.095843\n",
      "81                    Kelsea  58b82c7f6bdea10001ae3b0c             0.107042\n",
      "85                        dh  568d912de3ef9e000ca0da9e             0.139831\n",
      "89                      Melx  54a7c951fdf99b7cd759d23e             0.141897\n",
      "68                   Heather  58a072000da7f10001de7bef             0.147078\n",
      "59                   starbar  55c89767fdf99b39e594f342             0.148830\n",
      "74                  Jamstain  56bb96e8bf2129000653cfa5             0.157581\n",
      "65                       55P  55998a12fdf99b37246ad824             0.182978\n",
      "\n",
      "Distance: oc\n",
      "                     username                  prolific  transformation rate\n",
      "143                    Zoe148  5817ddc7bb8d77000161351e             0.006019\n",
      "142                    Yellow  57fe1192beccf8000100c615             0.006769\n",
      "116                    Amelia  58a636360da7f10001de857a             0.006956\n",
      "111                     dd4lh  5892537355550f0001509c35             0.007231\n",
      "118                 Jellyfish  58b74a11211f4500013aa629             0.008628\n",
      "110                     Piper  55d0e4d334e9060005e574c7             0.012809\n",
      "146                   AidanBr  54c9338ffdf99b5ae29f4383             0.014669\n",
      "109                     Wayne  57d56562a0e8ce00015439c7             0.015749\n",
      "132                      bern  57a6891d8eccbc0001f39f89             0.016675\n",
      "145              orangekeeper  58a465bc9b4be40001fdd51a             0.016989\n",
      "121                     Becky  571b4d435d40840013c4a231             0.018575\n",
      "135                     stace  57e17bdc1334540001170aa0             0.020951\n",
      "125                  Littleme  578ba1f56cc44500010448c0             0.020998\n",
      "101                   Rodders  5810a2fa7d3e6d0001df294c             0.022039\n",
      "115                   damianc  5847e40d6cca010001fe2d64             0.022186\n",
      "133                 eblovesdb  58a470a2ef58a9000119c101             0.022369\n",
      "113  57d8de67011c350001353afe  57d8de67011c350001353afe             0.023081\n",
      "127                      boab  589ae7f2c88c680001dd52af             0.027570\n",
      "103                    TimorG  588e24599c4f3f00010f13db             0.030678\n",
      "112                   alijody  58a83d92bb9e0f0001aca9bf             0.031667\n",
      "136              Jokernephi77  57dd3b0e91b7fc0001493db9             0.032440\n",
      "129                 Spatchman  5873b2d22bd3c90001859b76             0.032529\n",
      "122                       Muw  577d88e5900cc80001d2cfc8             0.034789\n",
      "98                      Osc10  58a8708aef58a9000119cc6e             0.035506\n",
      "139                     daisy  56b78f11e77ebe000cbefe79             0.036807\n",
      "131                     sally  58b1f3c6aaa44f000143a211             0.038810\n",
      "119                   Lmclark  585d02f7e9cb31000195e3dc             0.043625\n",
      "99                     Claire  57c2ed9e5b8c510001af5a1c             0.046165\n",
      "107                    gmeeks  57d5ab3a722df500017f3622             0.046468\n",
      "102                 stephanie  57a8ad1e2fc0d400012c9733             0.048749\n",
      "137              marriottlane  5798f7a116020100010411ac             0.051281\n",
      "128                     Peach  58717d3ddb3e720001e2312a             0.053357\n",
      "141                     ras38  56a4f3772ff2cc000c079916             0.055419\n",
      "105                 lady_geek  57b0ea94cbe601000137716a             0.056159\n",
      "124                   gillnlw  55c90bc3fdf99b526d9b830e             0.056584\n",
      "100           blackrosepetals  547a4f58fdf99b5321ba58f4             0.057534\n",
      "126                    Digger  565213b5812a980012fe657c             0.058139\n",
      "140                      soso  57d34d1ef22b0e000177610e             0.059632\n",
      "120                   RachelC  56a7da16c89737000b22953c             0.062415\n",
      "144                         H  5755d7677d985200078b9b96             0.070329\n",
      "104                  bonebone  5849d67c49ab8b000156b10d             0.072161\n",
      "106                     Sarah  5775874455fb780001d7f1d5             0.073556\n",
      "134                        dh  568d912de3ef9e000ca0da9e             0.081604\n",
      "130                    Kelsea  58b82c7f6bdea10001ae3b0c             0.082428\n",
      "138                      Melx  54a7c951fdf99b7cd759d23e             0.099002\n",
      "123                  Jamstain  56bb96e8bf2129000653cfa5             0.131894\n",
      "108                   starbar  55c89767fdf99b39e594f342             0.132328\n",
      "114                       55P  55998a12fdf99b37246ad824             0.135115\n",
      "117                   Heather  58a072000da7f10001de7bef             0.150916\n",
      "\n",
      "Distance: uc\n",
      "                     username                  prolific  transformation rate\n",
      "192                    Zoe148  5817ddc7bb8d77000161351e             0.006173\n",
      "167                 Jellyfish  58b74a11211f4500013aa629             0.010031\n",
      "165                    Amelia  58a636360da7f10001de857a             0.010101\n",
      "160                     dd4lh  5892537355550f0001509c35             0.010606\n",
      "191                    Yellow  57fe1192beccf8000100c615             0.012579\n",
      "195                   AidanBr  54c9338ffdf99b5ae29f4383             0.014994\n",
      "159                     Piper  55d0e4d334e9060005e574c7             0.017482\n",
      "158                     Wayne  57d56562a0e8ce00015439c7             0.018967\n",
      "181                      bern  57a6891d8eccbc0001f39f89             0.019452\n",
      "170                     Becky  571b4d435d40840013c4a231             0.020740\n",
      "174                  Littleme  578ba1f56cc44500010448c0             0.023356\n",
      "182                 eblovesdb  58a470a2ef58a9000119c101             0.024459\n",
      "164                   damianc  5847e40d6cca010001fe2d64             0.024481\n",
      "194              orangekeeper  58a465bc9b4be40001fdd51a             0.025510\n",
      "184                     stace  57e17bdc1334540001170aa0             0.026776\n",
      "150                   Rodders  5810a2fa7d3e6d0001df294c             0.029515\n",
      "162  57d8de67011c350001353afe  57d8de67011c350001353afe             0.032807\n",
      "152                    TimorG  588e24599c4f3f00010f13db             0.032967\n",
      "176                      boab  589ae7f2c88c680001dd52af             0.034453\n",
      "156                    gmeeks  57d5ab3a722df500017f3622             0.034719\n",
      "161                   alijody  58a83d92bb9e0f0001aca9bf             0.036061\n",
      "171                       Muw  577d88e5900cc80001d2cfc8             0.036537\n",
      "178                 Spatchman  5873b2d22bd3c90001859b76             0.036901\n",
      "180                     sally  58b1f3c6aaa44f000143a211             0.036922\n",
      "147                     Osc10  58a8708aef58a9000119cc6e             0.039200\n",
      "188                     daisy  56b78f11e77ebe000cbefe79             0.039780\n",
      "185              Jokernephi77  57dd3b0e91b7fc0001493db9             0.040344\n",
      "168                   Lmclark  585d02f7e9cb31000195e3dc             0.045062\n",
      "151                 stephanie  57a8ad1e2fc0d400012c9733             0.046970\n",
      "190                     ras38  56a4f3772ff2cc000c079916             0.051786\n",
      "148                    Claire  57c2ed9e5b8c510001af5a1c             0.055104\n",
      "186              marriottlane  5798f7a116020100010411ac             0.059577\n",
      "189                      soso  57d34d1ef22b0e000177610e             0.062638\n",
      "177                     Peach  58717d3ddb3e720001e2312a             0.062879\n",
      "173                   gillnlw  55c90bc3fdf99b526d9b830e             0.063918\n",
      "175                    Digger  565213b5812a980012fe657c             0.064025\n",
      "154                 lady_geek  57b0ea94cbe601000137716a             0.064646\n",
      "153                  bonebone  5849d67c49ab8b000156b10d             0.065303\n",
      "169                   RachelC  56a7da16c89737000b22953c             0.068651\n",
      "149           blackrosepetals  547a4f58fdf99b5321ba58f4             0.070195\n",
      "193                         H  5755d7677d985200078b9b96             0.079935\n",
      "155                     Sarah  5775874455fb780001d7f1d5             0.084140\n",
      "187                      Melx  54a7c951fdf99b7cd759d23e             0.091302\n",
      "179                    Kelsea  58b82c7f6bdea10001ae3b0c             0.093529\n",
      "183                        dh  568d912de3ef9e000ca0da9e             0.094169\n",
      "157                   starbar  55c89767fdf99b39e594f342             0.143831\n",
      "172                  Jamstain  56bb96e8bf2129000653cfa5             0.143868\n",
      "163                       55P  55998a12fdf99b37246ad824             0.157495\n",
      "166                   Heather  58a072000da7f10001de7bef             0.179670\n",
      "\n"
     ]
    }
   ],
   "source": [
    "for distance in Sentence.DISTANCE_TYPES:\n",
    "    print('Distance: {}'.format(distance))\n",
    "    print(data[data.distance == distance].sort_values(by='transformation rate')\n",
    "          [['username', 'prolific', 'transformation rate']])\n",
    "    print()"
   ]
  }
 ],
 "metadata": {
  "kernelspec": {
   "display_name": "Python 3",
   "language": "python",
   "name": "python3"
  },
  "language_info": {
   "codemirror_mode": {
    "name": "ipython",
    "version": 3
   },
   "file_extension": ".py",
   "mimetype": "text/x-python",
   "name": "python",
   "nbconvert_exporter": "python",
   "pygments_lexer": "ipython3",
   "version": "3.6.0"
  }
 },
 "nbformat": 4,
 "nbformat_minor": 0
}
