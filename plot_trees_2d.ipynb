{
 "cells": [
  {
   "cell_type": "markdown",
   "metadata": {},
   "source": [
    "# Create 2D representation of trees based on a given distance"
   ]
  },
  {
   "cell_type": "markdown",
   "metadata": {},
   "source": [
    "### Boilerplate database setup"
   ]
  },
  {
   "cell_type": "code",
   "execution_count": 1,
   "metadata": {
    "collapsed": false
   },
   "outputs": [],
   "source": [
    "import os, sys\n",
    "sys.path.insert(1, os.path.join(os.path.abspath(os.curdir), 'spreadr'))\n",
    "\n",
    "import django\n",
    "from django.conf import settings\n",
    "from spreadr import settings as base_spreadr_settings\n",
    "spreadr_settings = base_spreadr_settings.__dict__.copy()\n",
    "spreadr_settings['DATABASES'] = {\n",
    "    'default': {\n",
    "        'ENGINE': 'django.db.backends.mysql',\n",
    "        'NAME': 'spreadr_exp_1',\n",
    "        'USER': 'spreadr_analysis'\n",
    "    }\n",
    "}\n",
    "settings.configure(**spreadr_settings)\n",
    "django.setup()"
   ]
  }
 ],
 "metadata": {
  "kernelspec": {
   "display_name": "Python 3",
   "language": "python",
   "name": "python3"
  },
  "language_info": {
   "codemirror_mode": {
    "name": "ipython",
    "version": 3
   },
   "file_extension": ".py",
   "mimetype": "text/x-python",
   "name": "python",
   "nbconvert_exporter": "python",
   "pygments_lexer": "ipython3",
   "version": "3.4.2"
  }
 },
 "nbformat": 4,
 "nbformat_minor": 0
}
