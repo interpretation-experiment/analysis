{
 "cells": [
  {
   "cell_type": "markdown",
   "metadata": {
    "deletable": true,
    "editable": true
   },
   "source": [
    "# Spam exploration"
   ]
  },
  {
   "cell_type": "markdown",
   "metadata": {
    "deletable": true,
    "editable": true
   },
   "source": [
    "## 1 Setup"
   ]
  },
  {
   "cell_type": "markdown",
   "metadata": {
    "deletable": true,
    "editable": true
   },
   "source": [
    "Flags"
   ]
  },
  {
   "cell_type": "code",
   "execution_count": 1,
   "metadata": {
    "collapsed": true,
    "deletable": true,
    "editable": true
   },
   "outputs": [],
   "source": [
    "SAVE_FIGURES = False"
   ]
  },
  {
   "cell_type": "markdown",
   "metadata": {
    "deletable": true,
    "editable": true
   },
   "source": [
    "Setup the database"
   ]
  },
  {
   "cell_type": "code",
   "execution_count": 2,
   "metadata": {
    "collapsed": false,
    "deletable": true,
    "editable": true
   },
   "outputs": [
    {
     "name": "stdout",
     "output_type": "stream",
     "text": [
      "Database: spreadr_exp_2\n"
     ]
    }
   ],
   "source": [
    "import os, sys\n",
    "sys.path.insert(1, os.path.abspath('..'))\n",
    "from utils import setup_spreadr\n",
    "\n",
    "FIG = os.path.join(os.path.abspath(os.path.curdir), '{}.png')\n",
    "DB_NAME = 'spreadr' + os.path.split(os.path.abspath(os.path.curdir))[1][9:]\n",
    "setup_spreadr(DB_NAME)\n",
    "print('Database:', DB_NAME)"
   ]
  },
  {
   "cell_type": "markdown",
   "metadata": {
    "deletable": true,
    "editable": true
   },
   "source": [
    "Imports for the analysis"
   ]
  },
  {
   "cell_type": "code",
   "execution_count": 3,
   "metadata": {
    "collapsed": false,
    "deletable": true,
    "editable": true
   },
   "outputs": [],
   "source": [
    "from pandas import DataFrame\n",
    "\n",
    "from gists.models import Sentence"
   ]
  },
  {
   "cell_type": "markdown",
   "metadata": {
    "deletable": true,
    "editable": true
   },
   "source": [
    "Equip models with useful tools"
   ]
  },
  {
   "cell_type": "code",
   "execution_count": 4,
   "metadata": {
    "collapsed": false,
    "deletable": true,
    "editable": true
   },
   "outputs": [],
   "source": [
    "from utils import equip_spreadr_models as utils_equip\n",
    "utils_equip()\n",
    "\n",
    "from linguistics import equip_spreadr_models as linguistics_equip\n",
    "linguistics_equip()"
   ]
  },
  {
   "cell_type": "markdown",
   "metadata": {
    "deletable": true,
    "editable": true
   },
   "source": [
    "## 2 Transformation rate per sentence"
   ]
  },
  {
   "cell_type": "markdown",
   "metadata": {
    "deletable": true,
    "editable": true
   },
   "source": [
    "First build our data"
   ]
  },
  {
   "cell_type": "code",
   "execution_count": 5,
   "metadata": {
    "collapsed": false,
    "deletable": true,
    "editable": true
   },
   "outputs": [],
   "source": [
    "sentences = [s for s in\n",
    "             Sentence.objects.experiment.filter(parent__isnull=False)\n",
    "             if not s.rogue]\n",
    "data = []\n",
    "for distance in Sentence.DISTANCE_TYPES:\n",
    "    for sentence in sentences:\n",
    "        data.append({\n",
    "                'tree id': sentence.tree.id,\n",
    "                'username': sentence.profile.user.username,\n",
    "                'prolific': sentence.profile.prolific_id,\n",
    "                'distance': distance,\n",
    "                'transformation rate': getattr(sentence, distance + '_distance')(sentence.parent)\n",
    "            })\n",
    "data = DataFrame(data, index=[s.id for _ in Sentence.DISTANCE_TYPES for s in sentences])"
   ]
  },
  {
   "cell_type": "markdown",
   "metadata": {
    "deletable": true,
    "editable": true
   },
   "source": [
    "Not all of these are spam, nor does this list contain all the spam, but it lets us check most of it."
   ]
  },
  {
   "cell_type": "code",
   "execution_count": 6,
   "metadata": {
    "collapsed": false,
    "deletable": true,
    "editable": true,
    "scrolled": false
   },
   "outputs": [
    {
     "name": "stdout",
     "output_type": "stream",
     "text": [
      "Distance: raw\n",
      "      tree id         username                  prolific  transformation rate\n",
      "2029       15          Heather  58a072000da7f10001de7bef             0.808824\n",
      "2174       29            sally  58b1f3c6aaa44f000143a211             0.771084\n",
      "1846       49              55P  55998a12fdf99b37246ad824             0.761905\n",
      "2493       28               dh  568d912de3ef9e000ca0da9e             0.742424\n",
      "1371        9          starbar  55c89767fdf99b39e594f342             0.712121\n",
      "328         6  blackrosepetals  547a4f58fdf99b5321ba58f4             0.640625\n",
      "1499       26         Jamstain  56bb96e8bf2129000653cfa5             0.603175\n",
      "1784       37         Jamstain  56bb96e8bf2129000653cfa5             0.597403\n",
      "2341       26          Heather  58a072000da7f10001de7bef             0.593023\n",
      "2055       34             soso  57d34d1ef22b0e000177610e             0.575000\n",
      "344        42         bonebone  5849d67c49ab8b000156b10d             0.564516\n",
      "1680       23          Heather  58a072000da7f10001de7bef             0.546667\n",
      "2608       36          RachelC  56a7da16c89737000b22953c             0.511628\n",
      "963        28          Heather  58a072000da7f10001de7bef             0.506849\n",
      "1555       52          Heather  58a072000da7f10001de7bef             0.500000\n",
      "2558       26               dh  568d912de3ef9e000ca0da9e             0.500000\n",
      "432        45            Sarah  5775874455fb780001d7f1d5             0.473684\n",
      "1941       50           Digger  565213b5812a980012fe657c             0.465517\n",
      "510        26          starbar  55c89767fdf99b39e594f342             0.465116\n",
      "600        50          Heather  58a072000da7f10001de7bef             0.450000\n",
      "\n",
      "Distance: ordered_content\n",
      "      tree id  username                  prolific  transformation rate\n",
      "2029       15   Heather  58a072000da7f10001de7bef             1.000000\n",
      "2493       28        dh  568d912de3ef9e000ca0da9e             1.000000\n",
      "2174       29     sally  58b1f3c6aaa44f000143a211             1.000000\n",
      "1846       49       55P  55998a12fdf99b37246ad824             0.857143\n",
      "1357       28    Kelsea  58b82c7f6bdea10001ae3b0c             0.800000\n",
      "2134       18   gillnlw  55c90bc3fdf99b526d9b830e             0.750000\n",
      "2608       36   RachelC  56a7da16c89737000b22953c             0.666667\n",
      "1680       23   Heather  58a072000da7f10001de7bef             0.666667\n",
      "1499       26  Jamstain  56bb96e8bf2129000653cfa5             0.666667\n",
      "1371        9   starbar  55c89767fdf99b39e594f342             0.666667\n",
      "1555       52   Heather  58a072000da7f10001de7bef             0.666667\n",
      "510        26   starbar  55c89767fdf99b39e594f342             0.625000\n",
      "2341       26   Heather  58a072000da7f10001de7bef             0.625000\n",
      "2556       36     sally  58b1f3c6aaa44f000143a211             0.600000\n",
      "149        28     Osc10  58a8708aef58a9000119cc6e             0.600000\n",
      "963        28   Heather  58a072000da7f10001de7bef             0.600000\n",
      "754        53       55P  55998a12fdf99b37246ad824             0.600000\n",
      "2093       55     ras38  56a4f3772ff2cc000c079916             0.600000\n",
      "2558       26        dh  568d912de3ef9e000ca0da9e             0.571429\n",
      "1784       37  Jamstain  56bb96e8bf2129000653cfa5             0.571429\n",
      "\n",
      "Distance: unordered_content\n",
      "      tree id  username                  prolific  transformation rate\n",
      "2493       28        dh  568d912de3ef9e000ca0da9e             1.000000\n",
      "2029       15   Heather  58a072000da7f10001de7bef             1.000000\n",
      "2174       29     sally  58b1f3c6aaa44f000143a211             1.000000\n",
      "1846       49       55P  55998a12fdf99b37246ad824             0.857143\n",
      "2134       18   gillnlw  55c90bc3fdf99b526d9b830e             0.750000\n",
      "2608       36   RachelC  56a7da16c89737000b22953c             0.750000\n",
      "1499       26  Jamstain  56bb96e8bf2129000653cfa5             0.714286\n",
      "1680       23   Heather  58a072000da7f10001de7bef             0.700000\n",
      "754        53       55P  55998a12fdf99b37246ad824             0.666667\n",
      "2556       36     sally  58b1f3c6aaa44f000143a211             0.666667\n",
      "1555       52   Heather  58a072000da7f10001de7bef             0.666667\n",
      "1298        6   Heather  58a072000da7f10001de7bef             0.666667\n",
      "1568       28  Jamstain  56bb96e8bf2129000653cfa5             0.666667\n",
      "2298       31    Kelsea  58b82c7f6bdea10001ae3b0c             0.625000\n",
      "404         6    TimorG  588e24599c4f3f00010f13db             0.600000\n",
      "963        28   Heather  58a072000da7f10001de7bef             0.600000\n",
      "2055       34      soso  57d34d1ef22b0e000177610e             0.571429\n",
      "2341       26   Heather  58a072000da7f10001de7bef             0.571429\n",
      "1371        9   starbar  55c89767fdf99b39e594f342             0.571429\n",
      "149        28     Osc10  58a8708aef58a9000119cc6e             0.571429\n",
      "\n"
     ]
    }
   ],
   "source": [
    "for distance in Sentence.DISTANCE_TYPES:\n",
    "    print('Distance: {}'.format(distance))\n",
    "    print(data[data.distance == distance].sort_values(by='transformation rate', ascending=False)\n",
    "          [['tree id', 'username', 'prolific', 'transformation rate']].head(20))\n",
    "    print()"
   ]
  }
 ],
 "metadata": {
  "kernelspec": {
   "display_name": "Python 3",
   "language": "python",
   "name": "python3"
  },
  "language_info": {
   "codemirror_mode": {
    "name": "ipython",
    "version": 3
   },
   "file_extension": ".py",
   "mimetype": "text/x-python",
   "name": "python",
   "nbconvert_exporter": "python",
   "pygments_lexer": "ipython3",
   "version": "3.6.0"
  }
 },
 "nbformat": 4,
 "nbformat_minor": 0
}
