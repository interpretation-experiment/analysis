{
 "cells": [
  {
   "cell_type": "markdown",
   "metadata": {
    "deletable": true,
    "editable": true
   },
   "source": [
    "# Subject transformation rate"
   ]
  },
  {
   "cell_type": "markdown",
   "metadata": {
    "deletable": true,
    "editable": true
   },
   "source": [
    "## 1 Setup"
   ]
  },
  {
   "cell_type": "markdown",
   "metadata": {
    "deletable": true,
    "editable": true
   },
   "source": [
    "Flags"
   ]
  },
  {
   "cell_type": "code",
   "execution_count": 1,
   "metadata": {
    "collapsed": true,
    "deletable": true,
    "editable": true
   },
   "outputs": [],
   "source": [
    "SAVE_FIGURES = False"
   ]
  },
  {
   "cell_type": "markdown",
   "metadata": {
    "deletable": true,
    "editable": true
   },
   "source": [
    "Setup the database"
   ]
  },
  {
   "cell_type": "code",
   "execution_count": 2,
   "metadata": {
    "collapsed": false,
    "deletable": true,
    "editable": true
   },
   "outputs": [],
   "source": [
    "import os, sys\n",
    "sys.path.insert(1, os.path.abspath('..'))\n",
    "from utils import setup_spreadr\n",
    "setup_spreadr('spreadr_exp_2')"
   ]
  },
  {
   "cell_type": "markdown",
   "metadata": {
    "deletable": true,
    "editable": true
   },
   "source": [
    "Imports for the analysis"
   ]
  },
  {
   "cell_type": "code",
   "execution_count": 3,
   "metadata": {
    "collapsed": false,
    "deletable": true,
    "editable": true
   },
   "outputs": [],
   "source": [
    "from pandas import DataFrame\n",
    "from django.db.models import Count\n",
    "\n",
    "from gists.models import Profile, GistsConfiguration\n",
    "\n",
    "config = GistsConfiguration.get_solo()"
   ]
  },
  {
   "cell_type": "markdown",
   "metadata": {
    "deletable": true,
    "editable": true
   },
   "source": [
    "Equip models with useful tools"
   ]
  },
  {
   "cell_type": "code",
   "execution_count": 4,
   "metadata": {
    "collapsed": false,
    "deletable": true,
    "editable": true
   },
   "outputs": [],
   "source": [
    "from utils import equip_spreadr_models as utils_equip\n",
    "utils_equip()\n",
    "\n",
    "from linguistics import equip_spreadr_models as linguistics_equip\n",
    "linguistics_equip()"
   ]
  },
  {
   "cell_type": "markdown",
   "metadata": {
    "deletable": true,
    "editable": true
   },
   "source": [
    "## 2 Transformation rate per subject"
   ]
  },
  {
   "cell_type": "markdown",
   "metadata": {
    "deletable": true,
    "editable": true
   },
   "source": [
    "First build our data"
   ]
  },
  {
   "cell_type": "code",
   "execution_count": 5,
   "metadata": {
    "collapsed": false,
    "deletable": true,
    "editable": true
   },
   "outputs": [],
   "source": [
    "profiles = Profile.objects\\\n",
    "    .annotate(Count('sentences'))\\\n",
    "    .filter(sentences__count=config.experiment_work + config.training_work,\n",
    "            user__is_staff=False)\n",
    "data = []\n",
    "for distance in ['raw', 'ordered_content', 'unordered_content']:\n",
    "    for profile in profiles:\n",
    "        data.append({\n",
    "                'username': profile.user.username,\n",
    "                'prolific': profile.prolific_id,\n",
    "                'distance': distance,\n",
    "                'transformation rate': profile.transformation_rate(distance)\n",
    "            })\n",
    "data = DataFrame(data)"
   ]
  },
  {
   "cell_type": "code",
   "execution_count": 6,
   "metadata": {
    "collapsed": false,
    "deletable": true,
    "editable": true,
    "scrolled": false
   },
   "outputs": [
    {
     "name": "stdout",
     "output_type": "stream",
     "text": [
      "Distance: raw\n",
      "                    username                  prolific  transformation rate\n",
      "13                     dd4lh  5892537355550f0001509c35             0.005685\n",
      "12                     Piper  55d0e4d334e9060005e574c7             0.012299\n",
      "20                 Jellyfish  58b74a11211f4500013aa629             0.014480\n",
      "3                    Rodders  5810a2fa7d3e6d0001df294c             0.016205\n",
      "5                     TimorG  588e24599c4f3f00010f13db             0.016429\n",
      "34                      bern  57a6891d8eccbc0001f39f89             0.016821\n",
      "47              orangekeeper  58a465bc9b4be40001fdd51a             0.017177\n",
      "44                    Yellow  57fe1192beccf8000100c615             0.018594\n",
      "15  57d8de67011c350001353afe  57d8de67011c350001353afe             0.018968\n",
      "17                   damianc  5847e40d6cca010001fe2d64             0.020102\n",
      "18                    Amelia  58a636360da7f10001de857a             0.021001\n",
      "48                   AidanBr  54c9338ffdf99b5ae29f4383             0.021545\n",
      "23                     Becky  571b4d435d40840013c4a231             0.022928\n",
      "14                   alijody  58a83d92bb9e0f0001aca9bf             0.027083\n",
      "27                  Littleme  578ba1f56cc44500010448c0             0.028232\n",
      "45                    Zoe148  5817ddc7bb8d77000161351e             0.028842\n",
      "37                     stace  57e17bdc1334540001170aa0             0.031236\n",
      "11                     Wayne  57d56562a0e8ce00015439c7             0.031427\n",
      "35                 eblovesdb  58a470a2ef58a9000119c101             0.033185\n",
      "41                     daisy  56b78f11e77ebe000cbefe79             0.036232\n",
      "39              marriottlane  5798f7a116020100010411ac             0.040068\n",
      "29                      boab  589ae7f2c88c680001dd52af             0.040371\n",
      "38              Jokernephi77  57dd3b0e91b7fc0001493db9             0.046661\n",
      "31                 Spatchman  5873b2d22bd3c90001859b76             0.047576\n",
      "46                         H  5755d7677d985200078b9b96             0.047784\n",
      "21                   Lmclark  585d02f7e9cb31000195e3dc             0.049006\n",
      "0                      Osc10  58a8708aef58a9000119cc6e             0.049843\n",
      "24                       Muw  577d88e5900cc80001d2cfc8             0.049870\n",
      "7                  lady_geek  57b0ea94cbe601000137716a             0.053970\n",
      "1                     Claire  57c2ed9e5b8c510001af5a1c             0.054368\n",
      "26                   gillnlw  55c90bc3fdf99b526d9b830e             0.054962\n",
      "22                   RachelC  56a7da16c89737000b22953c             0.055147\n",
      "2            blackrosepetals  547a4f58fdf99b5321ba58f4             0.055651\n",
      "43                     ras38  56a4f3772ff2cc000c079916             0.056618\n",
      "30                     Peach  58717d3ddb3e720001e2312a             0.056727\n",
      "28                    Digger  565213b5812a980012fe657c             0.066026\n",
      "33                     sally  58b1f3c6aaa44f000143a211             0.068385\n",
      "9                     gmeeks  57d5ab3a722df500017f3622             0.070920\n",
      "4                  stephanie  57a8ad1e2fc0d400012c9733             0.076730\n",
      "8                      Sarah  5775874455fb780001d7f1d5             0.082327\n",
      "6                   bonebone  5849d67c49ab8b000156b10d             0.083389\n",
      "32                    Kelsea  58b82c7f6bdea10001ae3b0c             0.087104\n",
      "42                      soso  57d34d1ef22b0e000177610e             0.087316\n",
      "36                        dh  568d912de3ef9e000ca0da9e             0.125658\n",
      "40                      Melx  54a7c951fdf99b7cd759d23e             0.126737\n",
      "19                   Heather  58a072000da7f10001de7bef             0.132535\n",
      "25                  Jamstain  56bb96e8bf2129000653cfa5             0.134876\n",
      "10                   starbar  55c89767fdf99b39e594f342             0.135027\n",
      "16                       55P  55998a12fdf99b37246ad824             0.154457\n",
      "\n",
      "Distance: ordered_content\n",
      "                    username                  prolific  transformation rate\n",
      "69                 Jellyfish  58b74a11211f4500013aa629             0.005289\n",
      "96              orangekeeper  58a465bc9b4be40001fdd51a             0.008114\n",
      "61                     Piper  55d0e4d334e9060005e574c7             0.009436\n",
      "62                     dd4lh  5892537355550f0001509c35             0.010537\n",
      "97                   AidanBr  54c9338ffdf99b5ae29f4383             0.011387\n",
      "67                    Amelia  58a636360da7f10001de857a             0.012151\n",
      "83                      bern  57a6891d8eccbc0001f39f89             0.013190\n",
      "66                   damianc  5847e40d6cca010001fe2d64             0.015051\n",
      "94                    Zoe148  5817ddc7bb8d77000161351e             0.015226\n",
      "93                    Yellow  57fe1192beccf8000100c615             0.015431\n",
      "76                  Littleme  578ba1f56cc44500010448c0             0.016207\n",
      "60                     Wayne  57d56562a0e8ce00015439c7             0.016263\n",
      "64  57d8de67011c350001353afe  57d8de67011c350001353afe             0.017057\n",
      "52                   Rodders  5810a2fa7d3e6d0001df294c             0.018251\n",
      "72                     Becky  571b4d435d40840013c4a231             0.019181\n",
      "84                 eblovesdb  58a470a2ef58a9000119c101             0.019238\n",
      "86                     stace  57e17bdc1334540001170aa0             0.023400\n",
      "63                   alijody  58a83d92bb9e0f0001aca9bf             0.028629\n",
      "54                    TimorG  588e24599c4f3f00010f13db             0.028730\n",
      "90                     daisy  56b78f11e77ebe000cbefe79             0.029585\n",
      "78                      boab  589ae7f2c88c680001dd52af             0.029929\n",
      "73                       Muw  577d88e5900cc80001d2cfc8             0.035467\n",
      "80                 Spatchman  5873b2d22bd3c90001859b76             0.041591\n",
      "49                     Osc10  58a8708aef58a9000119cc6e             0.042576\n",
      "87              Jokernephi77  57dd3b0e91b7fc0001493db9             0.043322\n",
      "88              marriottlane  5798f7a116020100010411ac             0.050153\n",
      "70                   Lmclark  585d02f7e9cb31000195e3dc             0.052355\n",
      "75                   gillnlw  55c90bc3fdf99b526d9b830e             0.057255\n",
      "56                 lady_geek  57b0ea94cbe601000137716a             0.057739\n",
      "79                     Peach  58717d3ddb3e720001e2312a             0.058775\n",
      "95                         H  5755d7677d985200078b9b96             0.061230\n",
      "91                      soso  57d34d1ef22b0e000177610e             0.061746\n",
      "71                   RachelC  56a7da16c89737000b22953c             0.062832\n",
      "58                    gmeeks  57d5ab3a722df500017f3622             0.063986\n",
      "53                 stephanie  57a8ad1e2fc0d400012c9733             0.064412\n",
      "51           blackrosepetals  547a4f58fdf99b5321ba58f4             0.064498\n",
      "92                     ras38  56a4f3772ff2cc000c079916             0.066771\n",
      "82                     sally  58b1f3c6aaa44f000143a211             0.067728\n",
      "50                    Claire  57c2ed9e5b8c510001af5a1c             0.068135\n",
      "77                    Digger  565213b5812a980012fe657c             0.078840\n",
      "55                  bonebone  5849d67c49ab8b000156b10d             0.086576\n",
      "57                     Sarah  5775874455fb780001d7f1d5             0.091752\n",
      "81                    Kelsea  58b82c7f6bdea10001ae3b0c             0.100004\n",
      "89                      Melx  54a7c951fdf99b7cd759d23e             0.119067\n",
      "85                        dh  568d912de3ef9e000ca0da9e             0.123836\n",
      "59                   starbar  55c89767fdf99b39e594f342             0.130163\n",
      "74                  Jamstain  56bb96e8bf2129000653cfa5             0.140579\n",
      "68                   Heather  58a072000da7f10001de7bef             0.146309\n",
      "65                       55P  55998a12fdf99b37246ad824             0.183842\n",
      "\n",
      "Distance: unordered_content\n",
      "                     username                  prolific  transformation rate\n",
      "118                 Jellyfish  58b74a11211f4500013aa629             0.006667\n",
      "146                   AidanBr  54c9338ffdf99b5ae29f4383             0.009944\n",
      "111                     dd4lh  5892537355550f0001509c35             0.010152\n",
      "142                    Yellow  57fe1192beccf8000100c615             0.010662\n",
      "143                    Zoe148  5817ddc7bb8d77000161351e             0.010927\n",
      "110                     Piper  55d0e4d334e9060005e574c7             0.011420\n",
      "145              orangekeeper  58a465bc9b4be40001fdd51a             0.012533\n",
      "115                   damianc  5847e40d6cca010001fe2d64             0.015556\n",
      "132                      bern  57a6891d8eccbc0001f39f89             0.018283\n",
      "116                    Amelia  58a636360da7f10001de857a             0.018398\n",
      "125                  Littleme  578ba1f56cc44500010448c0             0.019837\n",
      "121                     Becky  571b4d435d40840013c4a231             0.021129\n",
      "133                 eblovesdb  58a470a2ef58a9000119c101             0.021717\n",
      "109                     Wayne  57d56562a0e8ce00015439c7             0.022129\n",
      "113  57d8de67011c350001353afe  57d8de67011c350001353afe             0.023560\n",
      "135                     stace  57e17bdc1334540001170aa0             0.023630\n",
      "101                   Rodders  5810a2fa7d3e6d0001df294c             0.024320\n",
      "112                   alijody  58a83d92bb9e0f0001aca9bf             0.033420\n",
      "103                    TimorG  588e24599c4f3f00010f13db             0.033932\n",
      "139                     daisy  56b78f11e77ebe000cbefe79             0.035898\n",
      "127                      boab  589ae7f2c88c680001dd52af             0.039273\n",
      "119                   Lmclark  585d02f7e9cb31000195e3dc             0.041512\n",
      "122                       Muw  577d88e5900cc80001d2cfc8             0.043759\n",
      "98                      Osc10  58a8708aef58a9000119cc6e             0.046934\n",
      "136              Jokernephi77  57dd3b0e91b7fc0001493db9             0.050119\n",
      "129                 Spatchman  5873b2d22bd3c90001859b76             0.052135\n",
      "105                 lady_geek  57b0ea94cbe601000137716a             0.056665\n",
      "137              marriottlane  5798f7a116020100010411ac             0.057580\n",
      "107                    gmeeks  57d5ab3a722df500017f3622             0.061739\n",
      "141                     ras38  56a4f3772ff2cc000c079916             0.063442\n",
      "102                 stephanie  57a8ad1e2fc0d400012c9733             0.063983\n",
      "124                   gillnlw  55c90bc3fdf99b526d9b830e             0.064036\n",
      "140                      soso  57d34d1ef22b0e000177610e             0.066232\n",
      "120                   RachelC  56a7da16c89737000b22953c             0.071319\n",
      "100           blackrosepetals  547a4f58fdf99b5321ba58f4             0.072656\n",
      "131                     sally  58b1f3c6aaa44f000143a211             0.072697\n",
      "144                         H  5755d7677d985200078b9b96             0.077691\n",
      "99                     Claire  57c2ed9e5b8c510001af5a1c             0.077964\n",
      "128                     Peach  58717d3ddb3e720001e2312a             0.078866\n",
      "104                  bonebone  5849d67c49ab8b000156b10d             0.079076\n",
      "126                    Digger  565213b5812a980012fe657c             0.090506\n",
      "106                     Sarah  5775874455fb780001d7f1d5             0.092346\n",
      "130                    Kelsea  58b82c7f6bdea10001ae3b0c             0.098918\n",
      "138                      Melx  54a7c951fdf99b7cd759d23e             0.116749\n",
      "134                        dh  568d912de3ef9e000ca0da9e             0.119981\n",
      "108                   starbar  55c89767fdf99b39e594f342             0.142335\n",
      "123                  Jamstain  56bb96e8bf2129000653cfa5             0.156694\n",
      "117                   Heather  58a072000da7f10001de7bef             0.166614\n",
      "114                       55P  55998a12fdf99b37246ad824             0.201839\n",
      "\n"
     ]
    }
   ],
   "source": [
    "for distance in ['raw', 'ordered_content', 'unordered_content']:\n",
    "    print('Distance: {}'.format(distance))\n",
    "    print(data[data.distance == distance].sort_values(by='transformation rate')\n",
    "          [['username', 'prolific', 'transformation rate']])\n",
    "    print()"
   ]
  }
 ],
 "metadata": {
  "kernelspec": {
   "display_name": "Python 3",
   "language": "python",
   "name": "python3"
  },
  "language_info": {
   "codemirror_mode": {
    "name": "ipython",
    "version": 3
   },
   "file_extension": ".py",
   "mimetype": "text/x-python",
   "name": "python",
   "nbconvert_exporter": "python",
   "pygments_lexer": "ipython3",
   "version": "3.6.0"
  }
 },
 "nbformat": 4,
 "nbformat_minor": 0
}
